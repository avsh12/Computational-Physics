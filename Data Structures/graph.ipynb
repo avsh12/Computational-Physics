{
 "cells": [
  {
   "cell_type": "code",
   "execution_count": 31,
   "id": "ea930101-cb75-4329-88cd-6a9d8d1ed8c8",
   "metadata": {},
   "outputs": [],
   "source": [
    "import numpy as np\n",
    "import timeit"
   ]
  },
  {
   "cell_type": "code",
   "execution_count": 2,
   "id": "5db4de62-4792-428e-a9b9-de8eb55fef99",
   "metadata": {},
   "outputs": [],
   "source": [
    "class Vertex():\n",
    "    def __init__(self, key):\n",
    "        self.key = key\n",
    "        self.num_edges=0\n",
    "        self.neighbours = {}\n",
    "    #get weight of the edge from this vertex to the other vertex\n",
    "    def getEdgeWeight(self, to_vertex):\n",
    "        return self.neighbours[to_vertex]\n",
    "    #add a vertex with edge weight 1\n",
    "    def setNeighbour(self, nbd_vert, bidirect=False):\n",
    "        setNeighbour(nbd_vert, 1, bidirect)\n",
    "    #add a vertex with a given edge weight\n",
    "    def setNeighbour(self, nbd_vert, weight, bidirect=False):\n",
    "        self.neighbours.update({nbd_vert:weight})\n",
    "        self.num_edges += 1\n",
    "        if bidirect:\n",
    "            nbd_vert.setNeighbour(self, weight)\n",
    "    #return the list of neighbouring vertices\n",
    "    #Note: vertices are returned not the key values of the vertices\n",
    "    def getNeighbours(self):\n",
    "        return self.neighbours.keys()\n",
    "    #return the list of key values of neighbouring vertices\n",
    "    def getNeighboursKeys(self):\n",
    "        return [x.key for x in self.neighbours]\n",
    "    #get the key value of this vertex\n",
    "    def getKey(self):\n",
    "        return self.key"
   ]
  },
  {
   "cell_type": "code",
   "execution_count": 89,
   "id": "73e96c0f-3c10-4621-9931-5199b58e49b1",
   "metadata": {},
   "outputs": [],
   "source": [
    "class Graph():\n",
    "    def __init__(self, bidirect=False):\n",
    "        self.vertices = {}\n",
    "        self.bidirect = bidirect\n",
    "    #add a vertex with the given key value\n",
    "    def setVertex(self, key):\n",
    "        self.vertices.update({key:Vertex(key)})\n",
    "    #set the edge from one vertex to another with the given weight\n",
    "    def setEdge(self, from_vertex_key, to_vertex_key, weight=1):\n",
    "        #not self.vertices[from_vertex_key]:\n",
    "        if from_vertex_key not in self.vertices:\n",
    "            self.setVertex(from_vertex_key)\n",
    "        #not self.vertices[to_vertex_key]:\n",
    "        if to_vertex_key not in self.vertices:\n",
    "            self.setVertex(to_vertex_key)\n",
    "        self.vertices[from_vertex_key].setNeighbour(self.vertices[to_vertex_key], weight, self.bidirect)\n",
    "    #return vertex with the given key value\n",
    "    def getVertex(self, vertex_key):\n",
    "        return self.vertices[vertex_key]\n",
    "    #return the list of all vertices in the graph\n",
    "    def getVertexKeys(self):\n",
    "        return self.vertices.keys()\n",
    "    #check if there is a vertex with the given key value\n",
    "    def containsVertex(self, vertex_key):\n",
    "        return vertex_key in self.vertices"
   ]
  },
  {
   "cell_type": "code",
   "execution_count": 10,
   "id": "382cd36a-f2c8-469d-9f0a-b74673fb70e3",
   "metadata": {},
   "outputs": [],
   "source": [
    "graph = Graph(bidirect=True)"
   ]
  },
  {
   "cell_type": "code",
   "execution_count": 12,
   "id": "7f3be7b4-b905-44b3-ad0e-bc5847641186",
   "metadata": {},
   "outputs": [],
   "source": [
    "for i in range(6):\n",
    "    graph.setVertex(i)\n",
    "    \n",
    "graph.setEdge(0, 1, 5)\n",
    "graph.setEdge(0, 5, 2)\n",
    "graph.setEdge(1, 2, 4)\n",
    "graph.setEdge(2, 3, 9)\n",
    "graph.setEdge(3, 4, 7)\n",
    "graph.setEdge(3, 5, 3)\n",
    "graph.setEdge(4, 0, 1)\n",
    "graph.setEdge(5, 4, 8)\n",
    "graph.setEdge(5, 2, 1)"
   ]
  },
  {
   "cell_type": "code",
   "execution_count": 13,
   "id": "9edd962f-64ab-4034-9893-110bd97d772e",
   "metadata": {},
   "outputs": [
    {
     "data": {
      "text/plain": [
       "dict_keys([0, 1, 2, 3, 4, 5])"
      ]
     },
     "execution_count": 13,
     "metadata": {},
     "output_type": "execute_result"
    }
   ],
   "source": [
    "graph.getVertexKeys()"
   ]
  },
  {
   "cell_type": "code",
   "execution_count": 14,
   "id": "c98a2118-e898-49df-a5fe-acef41bfa8fc",
   "metadata": {},
   "outputs": [
    {
     "name": "stdout",
     "output_type": "stream",
     "text": [
      "[1, 5, 4]\n",
      "[0, 2]\n",
      "[1, 3, 5]\n",
      "[2, 4, 5]\n",
      "[3, 0, 5]\n",
      "[0, 3, 4, 2]\n"
     ]
    }
   ],
   "source": [
    "for i in range(6):\n",
    "    print(graph.getVertex(i).getNeighboursKeys())"
   ]
  },
  {
   "cell_type": "code",
   "execution_count": null,
   "id": "53fcb4c6-a4f4-4132-b3c3-2311e64b6187",
   "metadata": {},
   "outputs": [],
   "source": []
  }
 ],
 "metadata": {
  "kernelspec": {
   "display_name": "Python 3 (ipykernel)",
   "language": "python",
   "name": "python3"
  },
  "language_info": {
   "codemirror_mode": {
    "name": "ipython",
    "version": 3
   },
   "file_extension": ".py",
   "mimetype": "text/x-python",
   "name": "python",
   "nbconvert_exporter": "python",
   "pygments_lexer": "ipython3",
   "version": "3.12.4"
  }
 },
 "nbformat": 4,
 "nbformat_minor": 5
}
