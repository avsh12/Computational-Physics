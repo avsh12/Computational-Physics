{
 "cells": [
  {
   "cell_type": "markdown",
   "id": "f4557baf-59ed-448b-9356-c50804b13bfb",
   "metadata": {},
   "source": [
    "# Reference\n",
    "[Problem Solving with Algorithms and Data Structures using Python](https://runestone.academy/ns/books/published/pythonds3/index.html 'Runestone Academy')"
   ]
  },
  {
   "cell_type": "code",
   "execution_count": 16,
   "id": "75cfc9f0-bac7-4df5-b7f6-2cf6c33c4ac1",
   "metadata": {},
   "outputs": [
    {
     "name": "stdout",
     "output_type": "stream",
     "text": [
      "Collecting pythonds3\n",
      "  Downloading pythonds3-3.1.0-py3-none-any.whl.metadata (2.6 kB)\n",
      "Downloading pythonds3-3.1.0-py3-none-any.whl (31 kB)\n",
      "Installing collected packages: pythonds3\n",
      "Successfully installed pythonds3-3.1.0\n",
      "\n",
      "\u001b[1m[\u001b[0m\u001b[34;49mnotice\u001b[0m\u001b[1;39;49m]\u001b[0m\u001b[39;49m A new release of pip is available: \u001b[0m\u001b[31;49m24.2\u001b[0m\u001b[39;49m -> \u001b[0m\u001b[32;49m24.3.1\u001b[0m\n",
      "\u001b[1m[\u001b[0m\u001b[34;49mnotice\u001b[0m\u001b[1;39;49m]\u001b[0m\u001b[39;49m To update, run: \u001b[0m\u001b[32;49mpip install --upgrade pip\u001b[0m\n",
      "Note: you may need to restart the kernel to use updated packages.\n"
     ]
    }
   ],
   "source": [
    "%pip install pythonds3"
   ]
  },
  {
   "cell_type": "code",
   "execution_count": 1,
   "id": "ea930101-cb75-4329-88cd-6a9d8d1ed8c8",
   "metadata": {},
   "outputs": [],
   "source": [
    "import numpy as np\n",
    "import timeit\n",
    "from pythonds3.basic import Queue\n",
    "import copy"
   ]
  },
  {
   "cell_type": "code",
   "execution_count": 2,
   "id": "5db4de62-4792-428e-a9b9-de8eb55fef99",
   "metadata": {},
   "outputs": [],
   "source": [
    "class Vertex():\n",
    "    def __init__(self, key):\n",
    "        self.key = key\n",
    "        self.num_edges=0\n",
    "        self.neighbours = {}\n",
    "        self.distance = 0\n",
    "        self.previous = None\n",
    "        self.color = 'white'\n",
    "    #get weight of the edge from this vertex to the other vertex\n",
    "    def getEdgeWeight(self, to_vertex):\n",
    "        return self.neighbours[to_vertex]\n",
    "    #add a vertex with edge weight 1\n",
    "    def setNeighbour(self, nbd_vert, bidirect=False):\n",
    "        setNeighbour(nbd_vert, 1, bidirect)\n",
    "    #add a vertex with a given edge weight\n",
    "    def setNeighbour(self, nbd_vert, weight, bidirect=False):\n",
    "        self.neighbours.update({nbd_vert:weight})\n",
    "        self.num_edges += 1\n",
    "        if bidirect:\n",
    "            nbd_vert.setNeighbour(self, weight)\n",
    "    #return the list of neighbouring vertices\n",
    "    #Note: vertices are returned not the key values of the vertices\n",
    "    def getNeighbours(self):\n",
    "        return self.neighbours.keys()\n",
    "    #return the list of key values of neighbouring vertices\n",
    "    def getNeighboursKeys(self):\n",
    "        return [x.key for x in self.neighbours]\n",
    "    #get the key value of this vertex\n",
    "    def getKey(self):\n",
    "        return self.key"
   ]
  },
  {
   "cell_type": "code",
   "execution_count": 3,
   "id": "73e96c0f-3c10-4621-9931-5199b58e49b1",
   "metadata": {},
   "outputs": [],
   "source": [
    "class Graph():\n",
    "    def __init__(self, bidirect=False):\n",
    "        self.vertices = {}\n",
    "        self.bidirect = bidirect\n",
    "    #add a vertex with the given key value\n",
    "    def setVertex(self, key):\n",
    "        self.vertices.update({key:Vertex(key)})\n",
    "    #set the edge from one vertex to another with the given weight\n",
    "    def setEdge(self, from_vertex_key, to_vertex_key, weight=1):\n",
    "        #not self.vertices[from_vertex_key]:\n",
    "        if from_vertex_key not in self.vertices:\n",
    "            self.setVertex(from_vertex_key)\n",
    "        #not self.vertices[to_vertex_key]:\n",
    "        if to_vertex_key not in self.vertices:\n",
    "            self.setVertex(to_vertex_key)\n",
    "        self.vertices[from_vertex_key].setNeighbour(self.vertices[to_vertex_key], weight, self.bidirect)\n",
    "    #return vertex with the given key value\n",
    "    def getVertex(self, vertex_key):\n",
    "        return self.vertices[vertex_key]\n",
    "    #return the list of all vertices in the graph\n",
    "    def getVertexKeys(self):\n",
    "        return self.vertices.keys()\n",
    "    #check if there is a vertex with the given key value\n",
    "    def containsVertex(self, vertex_key):\n",
    "        return vertex_key in self.vertices"
   ]
  },
  {
   "cell_type": "code",
   "execution_count": null,
   "id": "23cb466b-e153-44b8-91c5-755f72d0f855",
   "metadata": {},
   "outputs": [],
   "source": []
  },
  {
   "cell_type": "code",
   "execution_count": 4,
   "id": "fe800466-a00e-43c9-bed7-c1cc1af5c93b",
   "metadata": {},
   "outputs": [],
   "source": [
    "with open(\"four_letter_words.txt\", encoding=\"utf8\") as fin:\n",
    "    #read the file as a single string and split the lines at newline symbol\n",
    "    word_list = fin.read().splitlines()"
   ]
  },
  {
   "cell_type": "code",
   "execution_count": 5,
   "id": "b29b7f9f-020a-49c5-9e53-b05a8051be07",
   "metadata": {},
   "outputs": [],
   "source": [
    "#create categories such that words in each category differ from each other in one letter\n",
    "buckets = {}\n",
    "\n",
    "for word in word_list:\n",
    "    for i,_ in enumerate(word):\n",
    "        #create labels for word. Four labels per word\n",
    "        bucket = word[:i]+str(\"_\")+word[i+1:]\n",
    "        #if the bucket key exist add word to that key\n",
    "        #if the key does not exist create new key and store word in that key\n",
    "        buckets.setdefault(bucket, set()).add(word)"
   ]
  },
  {
   "cell_type": "code",
   "execution_count": 7,
   "id": "a5f04e52-a228-4d71-b1b4-01c26b6f4355",
   "metadata": {},
   "outputs": [],
   "source": [
    "#create an undirected graph\n",
    "word_graph = Graph(bidirect=True)"
   ]
  },
  {
   "cell_type": "code",
   "execution_count": 8,
   "id": "fb912aac-4edb-4f50-9afd-7293de935d91",
   "metadata": {},
   "outputs": [],
   "source": [
    "#create vertex for each word\n",
    "for word in word_list:\n",
    "    word_graph.setVertex(word)\n",
    "#create edges between words that are in the same category\n",
    "for similar_words_key in buckets:\n",
    "    for word1 in buckets[similar_words_key]:\n",
    "        for word2 in buckets[similar_words_key]-{word1}:\n",
    "            word_graph.setEdge(word1, word2)"
   ]
  },
  {
   "cell_type": "code",
   "execution_count": 19,
   "id": "2741df32-8d41-4c64-a1ed-6f429d37836f",
   "metadata": {},
   "outputs": [
    {
     "data": {
      "text/plain": [
       "['MOOD',\n",
       " 'FOOD',\n",
       " 'HOOD',\n",
       " 'POOD',\n",
       " 'GOOD',\n",
       " 'ROOD',\n",
       " 'WOLD',\n",
       " 'WORD',\n",
       " 'WOAD',\n",
       " 'WOON',\n",
       " 'WOOL',\n",
       " 'WOOT',\n",
       " 'WOOS',\n",
       " 'WOOF']"
      ]
     },
     "execution_count": 19,
     "metadata": {},
     "output_type": "execute_result"
    }
   ],
   "source": [
    "word_graph.getVertex(\"WOOD\").getNeighboursKeys()"
   ]
  },
  {
   "cell_type": "code",
   "execution_count": 20,
   "id": "53fcb4c6-a4f4-4132-b3c3-2311e64b6187",
   "metadata": {},
   "outputs": [],
   "source": [
    "def searchShortestPath(graph, from_word, to_word):\n",
    "    start = graph.getVertex(from_word)\n",
    "    start.distance = 0\n",
    "    start.previous = None\n",
    "    end = graph.getVertex(to_word)\n",
    "    vertex_queue = Queue()\n",
    "    vertex_queue.enqueue(start)\n",
    "    current = start\n",
    "    while bool(vertex_queue.size()):\n",
    "        current = vertex_queue.dequeue()\n",
    "        if current.key != end.key:\n",
    "            for neighbour in current.getNeighbours():\n",
    "                if neighbour.color == \"white\":\n",
    "                    neighbour.color = 'gray'\n",
    "                    neighbour.previous = current\n",
    "                    neighbour.distance = current.distance+1\n",
    "                    vertex_queue.enqueue(neighbour)\n",
    "            current.color = 'black'\n",
    "    path = [end]\n",
    "    current = end\n",
    "    while current.distance!=0:\n",
    "        path.append(current.previous)\n",
    "        current = current.previous\n",
    "    for x in graph.vertices.values():\n",
    "        x.distance = 0\n",
    "        x.color = \"white\"\n",
    "        x.previous = None\n",
    "    return path"
   ]
  },
  {
   "cell_type": "code",
   "execution_count": 25,
   "id": "07d52908-44bc-441b-aa9f-4da7ce9d7d95",
   "metadata": {},
   "outputs": [],
   "source": [
    "path = searchShortestPath(word_graph, \"IDLE\", \"BUSY\")"
   ]
  },
  {
   "cell_type": "code",
   "execution_count": 26,
   "id": "ac69f8a8-7168-4eaf-b5de-cfff841bf8d7",
   "metadata": {},
   "outputs": [
    {
     "data": {
      "text/plain": [
       "['IDLE', 'IDEE', 'IDES', 'ODES', 'ODDS', 'OUDS', 'BUDS', 'BUSS', 'BUSY']"
      ]
     },
     "execution_count": 26,
     "metadata": {},
     "output_type": "execute_result"
    }
   ],
   "source": [
    "path = [x.key for x in path][::-1]\n",
    "path"
   ]
  },
  {
   "cell_type": "code",
   "execution_count": null,
   "id": "1ada25e0-0d6a-460b-9ebb-dd3d8838af33",
   "metadata": {},
   "outputs": [],
   "source": []
  }
 ],
 "metadata": {
  "kernelspec": {
   "display_name": "Python 3 (ipykernel)",
   "language": "python",
   "name": "python3"
  },
  "language_info": {
   "codemirror_mode": {
    "name": "ipython",
    "version": 3
   },
   "file_extension": ".py",
   "mimetype": "text/x-python",
   "name": "python",
   "nbconvert_exporter": "python",
   "pygments_lexer": "ipython3",
   "version": "3.12.4"
  }
 },
 "nbformat": 4,
 "nbformat_minor": 5
}
