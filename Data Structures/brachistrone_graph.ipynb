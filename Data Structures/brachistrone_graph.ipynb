{
 "cells": [
  {
   "cell_type": "code",
   "execution_count": 16,
   "id": "75cfc9f0-bac7-4df5-b7f6-2cf6c33c4ac1",
   "metadata": {},
   "outputs": [
    {
     "name": "stdout",
     "output_type": "stream",
     "text": [
      "Collecting pythonds3\n",
      "  Downloading pythonds3-3.1.0-py3-none-any.whl.metadata (2.6 kB)\n",
      "Downloading pythonds3-3.1.0-py3-none-any.whl (31 kB)\n",
      "Installing collected packages: pythonds3\n",
      "Successfully installed pythonds3-3.1.0\n",
      "\n",
      "\u001b[1m[\u001b[0m\u001b[34;49mnotice\u001b[0m\u001b[1;39;49m]\u001b[0m\u001b[39;49m A new release of pip is available: \u001b[0m\u001b[31;49m24.2\u001b[0m\u001b[39;49m -> \u001b[0m\u001b[32;49m24.3.1\u001b[0m\n",
      "\u001b[1m[\u001b[0m\u001b[34;49mnotice\u001b[0m\u001b[1;39;49m]\u001b[0m\u001b[39;49m To update, run: \u001b[0m\u001b[32;49mpip install --upgrade pip\u001b[0m\n",
      "Note: you may need to restart the kernel to use updated packages.\n"
     ]
    }
   ],
   "source": [
    "%pip install pythonds3"
   ]
  },
  {
   "cell_type": "code",
   "execution_count": 32,
   "id": "ea930101-cb75-4329-88cd-6a9d8d1ed8c8",
   "metadata": {},
   "outputs": [],
   "source": [
    "import numpy as np\n",
    "import math\n",
    "import timeit\n",
    "from pythonds3.basic import Queue\n",
    "import copy"
   ]
  },
  {
   "cell_type": "code",
   "execution_count": 9,
   "id": "5db4de62-4792-428e-a9b9-de8eb55fef99",
   "metadata": {},
   "outputs": [],
   "source": [
    "class Vertex():\n",
    "    def __init__(self, key):\n",
    "        self.key = key\n",
    "        self.num_edges=0\n",
    "        self.neighbours = {}\n",
    "        self.distance = 0\n",
    "        self.previous = None\n",
    "        self.color = 'white'\n",
    "    #get weight of the edge from this vertex to the other vertex\n",
    "    def getEdgeWeight(self, to_vertex):\n",
    "        return self.neighbours[to_vertex]\n",
    "    #add a vertex with edge weight 1\n",
    "    def setNeighbour(self, nbd_vert, bidirect=False):\n",
    "        setNeighbour(nbd_vert, 1, bidirect)\n",
    "    #add a vertex with a given edge weight\n",
    "    def setNeighbour(self, nbd_vert, weight, bidirect=False):\n",
    "        self.neighbours.update({nbd_vert:weight})\n",
    "        self.num_edges += 1\n",
    "        if bidirect:\n",
    "            nbd_vert.setNeighbour(self, weight)\n",
    "    #return the list of neighbouring vertices\n",
    "    #Note: vertices are returned not the key values of the vertices\n",
    "    def getNeighbours(self):\n",
    "        return self.neighbours.keys()\n",
    "    #return the list of key values of neighbouring vertices\n",
    "    def getNeighboursKeys(self):\n",
    "        return [x.key for x in self.neighbours]\n",
    "    #get the key value of this vertex\n",
    "    def getKey(self):\n",
    "        return self.key"
   ]
  },
  {
   "cell_type": "code",
   "execution_count": 10,
   "id": "73e96c0f-3c10-4621-9931-5199b58e49b1",
   "metadata": {},
   "outputs": [],
   "source": [
    "class Graph():\n",
    "    def __init__(self, bidirect=False):\n",
    "        self.vertices = {}\n",
    "        self.bidirect = bidirect\n",
    "    #add a vertex with the given key value\n",
    "    def setVertex(self, key):\n",
    "        self.vertices.update({key:Vertex(key)})\n",
    "    #set the edge from one vertex to another with the given weight\n",
    "    def setEdge(self, from_vertex_key, to_vertex_key, weight=1):\n",
    "        #not self.vertices[from_vertex_key]:\n",
    "        if from_vertex_key not in self.vertices:\n",
    "            self.setVertex(from_vertex_key)\n",
    "        #not self.vertices[to_vertex_key]:\n",
    "        if to_vertex_key not in self.vertices:\n",
    "            self.setVertex(to_vertex_key)\n",
    "        self.vertices[from_vertex_key].setNeighbour(self.vertices[to_vertex_key], weight, self.bidirect)\n",
    "    #return vertex with the given key value\n",
    "    def getVertex(self, vertex_key):\n",
    "        return self.vertices[vertex_key]\n",
    "    #return the list of all vertices in the graph\n",
    "    def getVertexKeys(self):\n",
    "        return self.vertices.keys()\n",
    "    #check if there is a vertex with the given key value\n",
    "    def containsVertex(self, vertex_key):\n",
    "        return vertex_key in self.vertices"
   ]
  },
  {
   "cell_type": "code",
   "execution_count": null,
   "id": "9f710291-0b97-4016-a528-1bc1b52ccc14",
   "metadata": {},
   "outputs": [],
   "source": []
  },
  {
   "cell_type": "code",
   "execution_count": 177,
   "id": "fb912aac-4edb-4f50-9afd-7293de935d91",
   "metadata": {},
   "outputs": [],
   "source": [
    "#create vertex for each word\n",
    "for word in word_list:\n",
    "    word_graph.setVertex(word)\n",
    "#create edges between words that are in the same category\n",
    "for similar_words_key in buckets:\n",
    "    for word1 in buckets[similar_words_key]:\n",
    "        for word2 in buckets[similar_words_key]-{word1}:\n",
    "            word_graph.setEdge(word1, word2)"
   ]
  },
  {
   "cell_type": "code",
   "execution_count": 178,
   "id": "2741df32-8d41-4c64-a1ed-6f429d37836f",
   "metadata": {},
   "outputs": [
    {
     "data": {
      "text/plain": [
       "['EUGE', 'EDGY']"
      ]
     },
     "execution_count": 178,
     "metadata": {},
     "output_type": "execute_result"
    }
   ],
   "source": [
    "word_graph.getVertex(\"EDGE\").getNeighboursKeys()"
   ]
  },
  {
   "cell_type": "code",
   "execution_count": 179,
   "id": "53fcb4c6-a4f4-4132-b3c3-2311e64b6187",
   "metadata": {},
   "outputs": [],
   "source": [
    "def searchShortestPath(graph, from_word, to_word):\n",
    "    start = graph.getVertex(from_word)\n",
    "    start.distance = 0\n",
    "    start.previous = None\n",
    "    end = graph.getVertex(to_word)\n",
    "    vertex_queue = Queue()\n",
    "    vertex_queue.enqueue(start)\n",
    "    current = start\n",
    "    while bool(vertex_queue.size()):\n",
    "        current = vertex_queue.dequeue()\n",
    "        if current.key != end.key:\n",
    "            for neighbour in current.getNeighbours():\n",
    "                if neighbour.color == \"white\":\n",
    "                    neighbour.color = 'gray'\n",
    "                    neighbour.previous = current\n",
    "                    neighbour.distance = current.distance+1\n",
    "                    vertex_queue.enqueue(neighbour)\n",
    "            current.color = 'black'\n",
    "    path = [end]\n",
    "    current = end\n",
    "    while current.distance!=0:\n",
    "        path.append(current.previous)\n",
    "        current = current.previous\n",
    "    for x in graph.vertices.values():\n",
    "        x.distance = 0\n",
    "        x.color = \"white\"\n",
    "        x.previous = None\n",
    "    return path"
   ]
  },
  {
   "cell_type": "code",
   "execution_count": 195,
   "id": "07d52908-44bc-441b-aa9f-4da7ce9d7d95",
   "metadata": {},
   "outputs": [],
   "source": [
    "path = searchShortestPath(word_graph, \"NOTE\", \"HERO\")"
   ]
  },
  {
   "cell_type": "code",
   "execution_count": 196,
   "id": "ac69f8a8-7168-4eaf-b5de-cfff841bf8d7",
   "metadata": {},
   "outputs": [
    {
     "data": {
      "text/plain": [
       "['PEST', 'WEST', 'WERT', 'WERO', 'HERO']"
      ]
     },
     "execution_count": 196,
     "metadata": {},
     "output_type": "execute_result"
    }
   ],
   "source": [
    "path = [x.key for x in path][::-1]\n",
    "path"
   ]
  },
  {
   "cell_type": "code",
   "execution_count": null,
   "id": "1ada25e0-0d6a-460b-9ebb-dd3d8838af33",
   "metadata": {},
   "outputs": [],
   "source": []
  },
  {
   "cell_type": "code",
   "execution_count": null,
   "id": "a35f84a9-dc58-4d99-b67b-9eaff82a8a40",
   "metadata": {},
   "outputs": [],
   "source": []
  },
  {
   "cell_type": "code",
   "execution_count": 22,
   "id": "1c697278-b407-4c1e-965f-f793b2c4e110",
   "metadata": {},
   "outputs": [],
   "source": [
    "for i in range(num_points):\n",
    "    for j in range(num_points):\n",
    "        graph.setVertex((x[i], y[j]))"
   ]
  },
  {
   "cell_type": "code",
   "execution_count": 26,
   "id": "23cb466b-e153-44b8-91c5-755f72d0f855",
   "metadata": {},
   "outputs": [],
   "source": [
    "num_points = 100\n",
    "x = np.linspace(0, 1, num_points)\n",
    "y = np.linspace(0, 1, num_points)\n",
    "grid = np.meshgrid(x, y)"
   ]
  },
  {
   "cell_type": "code",
   "execution_count": 34,
   "id": "3c875f76-5745-484a-8c1e-169b5cceb39d",
   "metadata": {},
   "outputs": [],
   "source": [
    "graph = Graph(bidirect=True)"
   ]
  },
  {
   "cell_type": "code",
   "execution_count": 39,
   "id": "d96eaef9-767e-495d-81d4-2789ddb56d1b",
   "metadata": {},
   "outputs": [
    {
     "name": "stderr",
     "output_type": "stream",
     "text": [
      "/tmp/ipykernel_741807/4179420868.py:3: RuntimeWarning: divide by zero encountered in scalar divide\n",
      "  return math.sqrt(2*abs(v1[1]-v2[1])*del_r/(g*abs(v1[0]-v2[0])))\n"
     ]
    }
   ],
   "source": [
    "for j in range(num_points-1, -1, -1):\n",
    "    for i in range(num_points):\n",
    "        graph.setVertex((x[i], y[j]))\n",
    "        if j < num_points-1 and j>0:\n",
    "            if i>0 and i<num_points-1:\n",
    "                graph.setEdge((x[i], y[j]), (x[i-1], y[j+1]), weight=del_time((x[i], y[j]), (x[i-1], y[j+1])))\n",
    "                graph.setEdge((x[i], y[j]), (x[i], y[j+1]), weight=del_time((x[i], y[j]), (x[i], y[j+1])))\n",
    "                graph.setEdge((x[i], y[j]), (x[i+1], y[j+1]), weight=del_time((x[i], y[j]), (x[i+1], y[j+1])))"
   ]
  },
  {
   "cell_type": "code",
   "execution_count": 31,
   "id": "832aade8-6f0a-40bd-bc41-cc0665406e38",
   "metadata": {},
   "outputs": [],
   "source": [
    "def potential(v1, v2, m=1, g=1):\n",
    "    return m*g*(v2[1]-v1[1])"
   ]
  },
  {
   "cell_type": "code",
   "execution_count": 38,
   "id": "7ea04777-1756-4940-a9c3-ea675381e54b",
   "metadata": {},
   "outputs": [],
   "source": [
    "def del_time(v1, v2, g=1):\n",
    "    del_r = math.sqrt((v1[0]-v2[0])**2+(v1[1]-v2[1])**2)\n",
    "    return math.sqrt(2*abs(v1[1]-v2[1])*del_r/(g*abs(v1[0]-v2[0])))"
   ]
  },
  {
   "cell_type": "code",
   "execution_count": 179,
   "id": "aff025cb-19e2-4392-a55a-f9c67aed4a16",
   "metadata": {},
   "outputs": [],
   "source": [
    "def shortestTimePath(from_vertex, to_vertex):\n",
    "    start = graph.getVertex(from_vertex)\n",
    "    start.time = [0]\n",
    "    start.previous = None\n",
    "    end = graph.getVertex(to_vertex)\n",
    "    vertex_queue = Queue()\n",
    "    vertex_queue.enqueue(start)\n",
    "    current = start\n",
    "    while bool(vertex_queue.size()):\n",
    "        current = vertex_queue.dequeue()\n",
    "        if current.key != end.key:\n",
    "            for neighbour in current.getNeighbours():\n",
    "                if neighbour.color == \"white\":\n",
    "                    neighbour.color = 'gray'\n",
    "                    neighbour.previous = current\n",
    "                    neighbour.distance = current.distance+1\n",
    "                    vertex_queue.enqueue(neighbour)\n",
    "            current.color = 'black'\n",
    "    path = [end]\n",
    "    current = end\n",
    "    while current.distance!=0:\n",
    "        path.append(current.previous)\n",
    "        current = current.previous\n",
    "    for x in graph.vertices.values():\n",
    "        x.distance = 0\n",
    "        x.color = \"white\"\n",
    "        x.previous = None\n",
    "    return path"
   ]
  },
  {
   "cell_type": "code",
   "execution_count": null,
   "id": "e0904ba9-be64-4266-ae9f-8f8c4655b088",
   "metadata": {},
   "outputs": [],
   "source": []
  }
 ],
 "metadata": {
  "kernelspec": {
   "display_name": "Python 3 (ipykernel)",
   "language": "python",
   "name": "python3"
  },
  "language_info": {
   "codemirror_mode": {
    "name": "ipython",
    "version": 3
   },
   "file_extension": ".py",
   "mimetype": "text/x-python",
   "name": "python",
   "nbconvert_exporter": "python",
   "pygments_lexer": "ipython3",
   "version": "3.12.4"
  }
 },
 "nbformat": 4,
 "nbformat_minor": 5
}
