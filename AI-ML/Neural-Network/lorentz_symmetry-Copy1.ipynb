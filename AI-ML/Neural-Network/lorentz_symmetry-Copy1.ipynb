{
 "cells": [
  {
   "cell_type": "code",
   "execution_count": 197,
   "id": "67b63013-52cf-46a0-a5a2-51851fe9983a",
   "metadata": {},
   "outputs": [],
   "source": [
    "import numpy as np\n",
    "import scipy\n",
    "from matplotlib import pyplot as plt"
   ]
  },
  {
   "cell_type": "code",
   "execution_count": null,
   "id": "80906b4b-b1ae-4d51-a70f-072610fcfb74",
   "metadata": {},
   "outputs": [],
   "source": []
  },
  {
   "cell_type": "code",
   "execution_count": 198,
   "id": "1d53a5d7-57a1-4671-8c7d-9cfb7d951265",
   "metadata": {},
   "outputs": [],
   "source": [
    "import tensorflow as tf\n",
    "from tensorflow import keras\n",
    "from tensorflow.keras import Input, Model\n",
    "from tensorflow.keras.layers import Dense"
   ]
  },
  {
   "cell_type": "code",
   "execution_count": 199,
   "id": "097507e1-b5a7-4783-afaf-397cbeb244f0",
   "metadata": {},
   "outputs": [],
   "source": [
    "#from symmetry_model import ScNN"
   ]
  },
  {
   "cell_type": "code",
   "execution_count": 244,
   "id": "7b88da6b-5227-45d4-89c9-e2ac9ba32596",
   "metadata": {},
   "outputs": [],
   "source": [
    "#dfine a sampling subclass of Layer\n",
    "#the Sampling layer takes two inputs: mean and log_sigma\n",
    "#the layer samples random samples from mean and log_sigma assuming that the mean and log_sigma are from from a gaussian distribution\n",
    "class Sampling(keras.layers.Layer):\n",
    "    def __init__(self, **kwargs):\n",
    "        super().__init__(**kwargs)\n",
    "    def call(self, inputs):\n",
    "        #unpack the inputs\n",
    "        mean, log_var = inputs\n",
    "        batch_size = tf.shape(mean)[0]\n",
    "        #size of the latent layer\n",
    "        units = tf.shape(mean)[1]\n",
    "        #generate random samples from a gaussian distribution of mean=0 and standard deviation=1\n",
    "        epsilon = tf.random.normal(shape=(batch_size, units), mean=0, stddev=1)\n",
    "        #shift and scale epsilon\n",
    "        return mean + tf.math.exp(log_var/2)*epsilon\n",
    "\n",
    "class Encoder(keras.layers.Layer):\n",
    "    def __init__(self, latent_size=1, layer_size=[70, 70], activation='elu', **kwargs):\n",
    "        super().__init__(**kwargs)\n",
    "        self.layer_size = layer_size\n",
    "        self.latent_size = latent_size\n",
    "        self.encoder_layer = []\n",
    "        for i in range(len(self.layer_size)):\n",
    "            self.encoder_layer.append(Dense(layer_size[i], activation=activation, name=('encoder_layer'+str(i+1))))\n",
    "        self.z = Dense(latent_size, activation=activation, name='latent_layer')\n",
    "        \n",
    "    def call(self, inputs):\n",
    "        x = inputs\n",
    "        for i in range(len(self.layer_size)):\n",
    "            x = self.encoder_layer[i](x)\n",
    "        z = self.z(x)\n",
    "        return z\n",
    "\n",
    "class DifferenceSquared(keras.layers.Layer):\n",
    "    def __init__(self, **kwargs):\n",
    "        super().__init__(**kwargs)\n",
    "    def call(self, inputs):\n",
    "        input1 = inputs[0]\n",
    "        input2 = inputs[1]\n",
    "        mean_squared = tf.reshape(tf.reduce_sum((input1 - input2)**2, axis=1), (-1,1))\n",
    "        return mean_squared\n",
    "\n",
    "#create a subclass VAE of Model\n",
    "#the model takes encoder and decoder models and joins them to build beta-VAE\n",
    "#the model defines a training method to train the beta-VAE model so constructed\n",
    "\"\"\"Variables in the class object:\n",
    "\n",
    "   encoder               --   encoder model to produce mean and log_var as output from the input\n",
    "   decoder               --   decoder model to produce the output\n",
    "   reconstruction_loss   --   total loss for the output accuracy of the decoder - sum over total outputs and average over samples\n",
    "   kl_loss               --   total loss for the kl-metric - sum over output units of latent layer and average over samples\n",
    "   total_loss            --   reconstruction_loss + kl_loss\n",
    "   beta_rec              --   parameter to control the relative significance of reconstruction loss\n",
    "   beta_kl               --   parameter to control the relative significance of kl-divergence loss\n",
    "\"\"\"\n",
    "\n",
    "class ScNN(Model):\n",
    "    def __init__(self, input_size=50, encoder_layer=[70, 70], latent_size=1, output_size=1, beta_rec=500., activation='elu', **kwargs):\n",
    "        super().__init__(**kwargs)\n",
    "        self.encoder = Encoder(layer_size=encoder_layer, latent_size=latent_size, activation=activation, name='encoder')\n",
    "        self.difference_squared = DifferenceSquared(name='comparison_layer')\n",
    "        self.output_classify = Dense(output_size, activation='sigmoid', name='output')\n",
    "        self.beta_rec = beta_rec\n",
    "        #define the losses\n",
    "        #Mean stores the mean value of the argument passed to it and a name for the mean value\n",
    "        self.bce = keras.losses.BinaryCrossentropy(from_logits=False)\n",
    "        self.total_loss = keras.metrics.Mean(name='total_loss')\n",
    "        self.total_reconstruction_loss = keras.metrics.Mean(name='reconstruction_loss')\n",
    "    #return the losses to be printed during training\n",
    "    def build(self, input_shape):\n",
    "        # Add any operations you need to perform during build, like creating weights.\n",
    "        super().build(input_shape)\n",
    "    @property\n",
    "    def metrics(self):\n",
    "        return [self.total_loss, self.total_reconstruction_loss]\n",
    "    #feeds an output of encoder and question to the decoder and returns the outputs of encoder and decoder\n",
    "    #encoder input and a question is passed as input\n",
    "    def call(self, inputs):\n",
    "        input1 = inputs[:,0:4]\n",
    "        input2 = inputs[:,4:8]\n",
    "        z1 = self.encoder(input1)\n",
    "        z2 = self.encoder(input2)\n",
    "        decoder_output = self.difference_squared([z1, z2])\n",
    "        \n",
    "        output = self.output_classify(decoder_output)\n",
    "        return output\n",
    "    #training method called when called to fit\n",
    "    #the method is passed a set of observation, a question for each observation and the corresponding answers\n",
    "    def train_step(self, data):\n",
    "        inputs = data['input']\n",
    "        outputs = data['output']\n",
    "        \n",
    "        with tf.GradientTape() as tape:\n",
    "            #feed-forward step\n",
    "            #calls the call() method\n",
    "            predictions = self(inputs)\n",
    "            #calculate losses for the current feed-forward step\n",
    "            #outputs and predictions are one dimensional so only take mean over samples\n",
    "            #reconstruction_loss = self.beta_rec*tf.reduce_mean(tf.reduce_sum((outputs - predictions)**2, axis=1))\n",
    "            reconstruction_loss = self.beta_rec*self.bce(outputs, predictions)\n",
    "            #take sum over dimension and mean over samples\n",
    "            #kl_loss = 0.5*self.beta_kl*tf.reduce_mean(tf.reduce_sum(tf.square(z_mean) + 2*tf.exp(z_log_sigma) -  2*z_log_sigma, axis=1))\n",
    "            loss = reconstruction_loss\n",
    "            #calculates gradients w.r.t. the trainable weights of the model\n",
    "            gradients = tape.gradient(loss, self.trainable_weights)\n",
    "            #updates the trainable weights using the gradients calculated\n",
    "            #method to update the weights is passed in call to compile function of the model as optimizer parameter\n",
    "            self.optimizer.apply_gradients(zip(gradients, self.trainable_weights))\n",
    "            #updates the current losses\n",
    "            self.total_reconstruction_loss.update_state(reconstruction_loss)\n",
    "            self.total_loss.update_state(loss)\n",
    "            #return the losses name and the corresponding values\n",
    "            return {m.name: m.result() for m in self.metrics}"
   ]
  },
  {
   "cell_type": "markdown",
   "id": "794e629c-1595-4232-8aa0-dd8905e42fa7",
   "metadata": {
    "jp-MarkdownHeadingCollapsed": true
   },
   "source": [
    "# Data Generation"
   ]
  },
  {
   "cell_type": "code",
   "execution_count": 201,
   "id": "7518327d-1db1-45d7-8010-1f17b0de06d7",
   "metadata": {},
   "outputs": [],
   "source": [
    "def generate3DRotations(num=1):\n",
    "    vector_dimension = 4\n",
    "    random_3drotation = np.zeros((num, vector_dimension, vector_dimension))\n",
    "    random_3drotation[:, 1:,1:] = scipy.spatial.transform.Rotation.random(train_samples).as_matrix()\n",
    "    random_3drotation[:,0,0] = 1\n",
    "    return random_3drotation"
   ]
  },
  {
   "cell_type": "code",
   "execution_count": 208,
   "id": "a2c47478-09e7-47fa-834c-c200860224f0",
   "metadata": {},
   "outputs": [],
   "source": [
    "def generateLorentzTransforms(num=1):\n",
    "    vector_dimension = 4\n",
    "    beta = np.random.uniform(low=0, high=0.99, size=(train_samples, 1,1))\n",
    "    gamma = 1/np.sqrt(1-beta**2)\n",
    "    random_lorentz_trans = np.zeros((train_samples, vector_dimension, vector_dimension))\n",
    "    random_lorentz_trans[:, 0:1, 1] = beta[:,0:1,0]\n",
    "    random_lorentz_trans[:, 1:2, 0] = beta[:,0:1,0]\n",
    "    random_lorentz_trans[:, 0, 0] = 1\n",
    "    random_lorentz_trans[:, 1, 1] = 1\n",
    "    random_lorentz_trans = random_lorentz_trans*gamma\n",
    "    random_lorentz_trans[:, 2, 2] = 1\n",
    "    random_lorentz_trans[:, 3, 3] = 1\n",
    "    return random_lorentz_trans"
   ]
  },
  {
   "cell_type": "code",
   "execution_count": 209,
   "id": "1c64e6d0-cce2-4050-b51f-4a180f2e5ce6",
   "metadata": {},
   "outputs": [],
   "source": [
    "def calculateInterval(event):\n",
    "    vector_dimension = event.shape[1]\n",
    "    interval = event[:,0:1]**2\n",
    "    for i in range(1, vector_dimension):\n",
    "        interval -= event[:,i:i+1]**2\n",
    "    return interval"
   ]
  },
  {
   "cell_type": "code",
   "execution_count": 210,
   "id": "bdfe626c-1c05-4756-8065-87ac1430e238",
   "metadata": {},
   "outputs": [],
   "source": [
    "train_samples = 50000\n",
    "vector_dimension = 4\n",
    "\n",
    "random_3drotation1 = generate3DRotations(num=train_samples)\n",
    "random_3drotation2 = generate3DRotations(num=train_samples)\n",
    "\n",
    "random_lorentz_trans = generateLorentzTransforms(num=train_samples)"
   ]
  },
  {
   "cell_type": "code",
   "execution_count": 211,
   "id": "3a6afea0-ae3e-4a98-ac28-b6387e297577",
   "metadata": {},
   "outputs": [],
   "source": [
    "random_lorentz_trans = np.matmul(np.matmul(random_3drotation1, random_lorentz_trans), random_3drotation2)"
   ]
  },
  {
   "cell_type": "code",
   "execution_count": 212,
   "id": "401d9f1c-cd9f-4dae-abc3-1e3dc1b91509",
   "metadata": {},
   "outputs": [],
   "source": [
    "events_train = np.random.uniform(low=-1, high=1, size=(train_samples, vector_dimension, 1))\n",
    "events_similar_train = np.matmul(random_lorentz_trans, events_train)\n",
    "\n",
    "#the third index does not store any extra dimension\n",
    "events_train = events_train[:,:,0]\n",
    "events_similar_train = events_similar_train[:,:,0]\n",
    "\n",
    "rng = np.random.default_rng()\n",
    "events_asimilar_train = rng.permutation(events_similar_train, axis=1)"
   ]
  },
  {
   "cell_type": "code",
   "execution_count": 213,
   "id": "a87f1eee-05a6-4cce-8cd0-5924d462f159",
   "metadata": {},
   "outputs": [
    {
     "name": "stdout",
     "output_type": "stream",
     "text": [
      "events_train.shape: (100000, 4)\n",
      "transformed_events.shape: (100000, 4)\n",
      "labels.shape: (100000, 1)\n"
     ]
    }
   ],
   "source": [
    "events_train = np.row_stack((events_train, events_train))\n",
    "print('events_train.shape: '+str(events_train.shape))\n",
    "\n",
    "transformed_events = np.row_stack((events_similar_train, events_asimilar_train))\n",
    "print('transformed_events.shape: '+str(transformed_events.shape))\n",
    "\n",
    "true_label = np.zeros((train_samples,1))\n",
    "false_label = np.ones((train_samples,1))\n",
    "labels = np.row_stack((true_label, false_label))\n",
    "print('labels.shape: '+str(labels.shape))\n",
    "\n",
    "event_pairs_and_similar_label = np.column_stack((events_train, transformed_events, labels))\n",
    "event_pairs_and_similar_label = rng.permutation(event_pairs_and_similar_label, axis=0)"
   ]
  },
  {
   "cell_type": "code",
   "execution_count": 231,
   "id": "2af551ab-8bdc-467a-882d-53cadc49b0ef",
   "metadata": {},
   "outputs": [],
   "source": [
    "interval1 = calculateInterval(event_pairs_and_similar_label[:,:4])\n",
    "interval2 = calculateInterval(event_pairs_and_similar_label[:,4:8])"
   ]
  },
  {
   "cell_type": "code",
   "execution_count": 232,
   "id": "547dc054-abf8-48af-b988-afd036a44bb6",
   "metadata": {},
   "outputs": [
    {
     "name": "stdout",
     "output_type": "stream",
     "text": [
      "[[-0.70676288 -0.85369407 -0.17025569 -0.80262543 -0.97369181 -0.15977353\n",
      "  -0.84187347 -0.85602873 -1.0418498  -0.11697056 -0.43526787 -0.55669337\n",
      "  -1.29500094 -1.22813809 -0.93855722 -0.99593009  0.66204229 -0.61555704\n",
      "   0.23628257 -0.87764698]]\n",
      "[[ 0.04318917 -0.96906135 -0.45494832 -0.80262543 -0.97369181 -0.15977353\n",
      "   0.77589974 -0.85602873 -1.34542064 -0.11697056 -0.24783517 -0.55669337\n",
      "  -1.29500094 -1.22813809 -6.30546965 -0.99593009 -1.97414375 -0.61555704\n",
      "  -2.60386625 -0.87764698]]\n",
      "[1. 1. 1. 0. 0. 0. 1. 0. 1. 0. 1. 0. 0. 0. 1. 0. 1. 0. 1. 0.]\n"
     ]
    }
   ],
   "source": [
    "print(interval1[:20].T)\n",
    "print(interval2[:20].T)\n",
    "print(event_pairs_and_similar_label[:20,-1])"
   ]
  },
  {
   "cell_type": "markdown",
   "id": "f8c390de-2cd7-4e06-987b-a3b436405670",
   "metadata": {},
   "source": [
    "# Model Training"
   ]
  },
  {
   "cell_type": "code",
   "execution_count": 257,
   "id": "a6b46950-381e-45d9-941a-f1bdcaa77691",
   "metadata": {},
   "outputs": [],
   "source": [
    "#input_size=50, encoder_layer=[70, 70], latent_size=3, output_size=1, beta_rec=500., beta_kl=1.\n",
    "beta_rec = 500\n",
    "\n",
    "model = ScNN(input_size=8, encoder_layer=[150,150], latent_size=1, output_size=1, beta_rec=beta_rec)"
   ]
  },
  {
   "cell_type": "code",
   "execution_count": 258,
   "id": "75dd740d-c95d-459e-bcd7-0ef6e428318d",
   "metadata": {
    "scrolled": true
   },
   "outputs": [
    {
     "name": "stdout",
     "output_type": "stream",
     "text": [
      "Epoch 1/50\n",
      "\u001b[1m200/200\u001b[0m \u001b[32m━━━━━━━━━━━━━━━━━━━━\u001b[0m\u001b[37m\u001b[0m \u001b[1m1s\u001b[0m 2ms/step - reconstruction_loss: 4615801490450153472.0000 - total_loss: 4615801490450153472.0000\n",
      "Epoch 2/50\n",
      "\u001b[1m200/200\u001b[0m \u001b[32m━━━━━━━━━━━━━━━━━━━━\u001b[0m\u001b[37m\u001b[0m \u001b[1m0s\u001b[0m 2ms/step - reconstruction_loss: 1268.2445 - total_loss: 1268.2445\n",
      "Epoch 3/50\n",
      "\u001b[1m200/200\u001b[0m \u001b[32m━━━━━━━━━━━━━━━━━━━━\u001b[0m\u001b[37m\u001b[0m \u001b[1m0s\u001b[0m 1ms/step - reconstruction_loss: 1944.7305 - total_loss: 1944.7305\n",
      "Epoch 4/50\n",
      "\u001b[1m200/200\u001b[0m \u001b[32m━━━━━━━━━━━━━━━━━━━━\u001b[0m\u001b[37m\u001b[0m \u001b[1m0s\u001b[0m 1ms/step - reconstruction_loss: 1585.7946 - total_loss: 1585.7946\n",
      "Epoch 5/50\n",
      "\u001b[1m200/200\u001b[0m \u001b[32m━━━━━━━━━━━━━━━━━━━━\u001b[0m\u001b[37m\u001b[0m \u001b[1m0s\u001b[0m 1ms/step - reconstruction_loss: 2534.1201 - total_loss: 2534.1201\n",
      "Epoch 6/50\n",
      "\u001b[1m200/200\u001b[0m \u001b[32m━━━━━━━━━━━━━━━━━━━━\u001b[0m\u001b[37m\u001b[0m \u001b[1m0s\u001b[0m 1ms/step - reconstruction_loss: 1445.7617 - total_loss: 1445.7617\n",
      "Epoch 7/50\n",
      "\u001b[1m200/200\u001b[0m \u001b[32m━━━━━━━━━━━━━━━━━━━━\u001b[0m\u001b[37m\u001b[0m \u001b[1m0s\u001b[0m 2ms/step - reconstruction_loss: 2177.3540 - total_loss: 2177.3540\n",
      "Epoch 8/50\n",
      "\u001b[1m200/200\u001b[0m \u001b[32m━━━━━━━━━━━━━━━━━━━━\u001b[0m\u001b[37m\u001b[0m \u001b[1m0s\u001b[0m 2ms/step - reconstruction_loss: 2376.1306 - total_loss: 2376.1306\n",
      "Epoch 9/50\n",
      "\u001b[1m200/200\u001b[0m \u001b[32m━━━━━━━━━━━━━━━━━━━━\u001b[0m\u001b[37m\u001b[0m \u001b[1m0s\u001b[0m 2ms/step - reconstruction_loss: 712.1015 - total_loss: 712.1015\n",
      "Epoch 10/50\n",
      "\u001b[1m200/200\u001b[0m \u001b[32m━━━━━━━━━━━━━━━━━━━━\u001b[0m\u001b[37m\u001b[0m \u001b[1m0s\u001b[0m 1ms/step - reconstruction_loss: 2226.3723 - total_loss: 2226.3723\n",
      "Epoch 11/50\n",
      "\u001b[1m200/200\u001b[0m \u001b[32m━━━━━━━━━━━━━━━━━━━━\u001b[0m\u001b[37m\u001b[0m \u001b[1m0s\u001b[0m 2ms/step - reconstruction_loss: 2263.5671 - total_loss: 2263.5671\n",
      "Epoch 12/50\n",
      "\u001b[1m200/200\u001b[0m \u001b[32m━━━━━━━━━━━━━━━━━━━━\u001b[0m\u001b[37m\u001b[0m \u001b[1m0s\u001b[0m 1ms/step - reconstruction_loss: 3402.4109 - total_loss: 3402.4109\n",
      "Epoch 13/50\n",
      "\u001b[1m200/200\u001b[0m \u001b[32m━━━━━━━━━━━━━━━━━━━━\u001b[0m\u001b[37m\u001b[0m \u001b[1m0s\u001b[0m 2ms/step - reconstruction_loss: 913.7056 - total_loss: 913.7056\n",
      "Epoch 14/50\n",
      "\u001b[1m200/200\u001b[0m \u001b[32m━━━━━━━━━━━━━━━━━━━━\u001b[0m\u001b[37m\u001b[0m \u001b[1m0s\u001b[0m 1ms/step - reconstruction_loss: 2594.3162 - total_loss: 2594.3162\n",
      "Epoch 15/50\n",
      "\u001b[1m200/200\u001b[0m \u001b[32m━━━━━━━━━━━━━━━━━━━━\u001b[0m\u001b[37m\u001b[0m \u001b[1m0s\u001b[0m 2ms/step - reconstruction_loss: 2234.9407 - total_loss: 2234.9407\n",
      "Epoch 16/50\n",
      "\u001b[1m200/200\u001b[0m \u001b[32m━━━━━━━━━━━━━━━━━━━━\u001b[0m\u001b[37m\u001b[0m \u001b[1m0s\u001b[0m 2ms/step - reconstruction_loss: 1710.9692 - total_loss: 1710.9692\n",
      "Epoch 17/50\n",
      "\u001b[1m200/200\u001b[0m \u001b[32m━━━━━━━━━━━━━━━━━━━━\u001b[0m\u001b[37m\u001b[0m \u001b[1m0s\u001b[0m 2ms/step - reconstruction_loss: 1075.2208 - total_loss: 1075.2208\n",
      "Epoch 18/50\n",
      "\u001b[1m200/200\u001b[0m \u001b[32m━━━━━━━━━━━━━━━━━━━━\u001b[0m\u001b[37m\u001b[0m \u001b[1m0s\u001b[0m 1ms/step - reconstruction_loss: 1913.5560 - total_loss: 1913.5560\n",
      "Epoch 19/50\n",
      "\u001b[1m200/200\u001b[0m \u001b[32m━━━━━━━━━━━━━━━━━━━━\u001b[0m\u001b[37m\u001b[0m \u001b[1m0s\u001b[0m 1ms/step - reconstruction_loss: 3186.9443 - total_loss: 3186.9443\n",
      "Epoch 20/50\n",
      "\u001b[1m200/200\u001b[0m \u001b[32m━━━━━━━━━━━━━━━━━━━━\u001b[0m\u001b[37m\u001b[0m \u001b[1m0s\u001b[0m 2ms/step - reconstruction_loss: 1457.7528 - total_loss: 1457.7528\n",
      "Epoch 21/50\n",
      "\u001b[1m200/200\u001b[0m \u001b[32m━━━━━━━━━━━━━━━━━━━━\u001b[0m\u001b[37m\u001b[0m \u001b[1m0s\u001b[0m 1ms/step - reconstruction_loss: 2088.7434 - total_loss: 2088.7434\n",
      "Epoch 22/50\n",
      "\u001b[1m200/200\u001b[0m \u001b[32m━━━━━━━━━━━━━━━━━━━━\u001b[0m\u001b[37m\u001b[0m \u001b[1m0s\u001b[0m 1ms/step - reconstruction_loss: 1419.0720 - total_loss: 1419.0720\n",
      "Epoch 23/50\n",
      "\u001b[1m200/200\u001b[0m \u001b[32m━━━━━━━━━━━━━━━━━━━━\u001b[0m\u001b[37m\u001b[0m \u001b[1m0s\u001b[0m 2ms/step - reconstruction_loss: 3121.2136 - total_loss: 3121.2136\n",
      "Epoch 24/50\n",
      "\u001b[1m200/200\u001b[0m \u001b[32m━━━━━━━━━━━━━━━━━━━━\u001b[0m\u001b[37m\u001b[0m \u001b[1m0s\u001b[0m 1ms/step - reconstruction_loss: 1370.7556 - total_loss: 1370.7556\n",
      "Epoch 25/50\n",
      "\u001b[1m200/200\u001b[0m \u001b[32m━━━━━━━━━━━━━━━━━━━━\u001b[0m\u001b[37m\u001b[0m \u001b[1m0s\u001b[0m 2ms/step - reconstruction_loss: 1692.0233 - total_loss: 1692.0233\n",
      "Epoch 26/50\n",
      "\u001b[1m200/200\u001b[0m \u001b[32m━━━━━━━━━━━━━━━━━━━━\u001b[0m\u001b[37m\u001b[0m \u001b[1m0s\u001b[0m 1ms/step - reconstruction_loss: 1199.3496 - total_loss: 1199.3496\n",
      "Epoch 27/50\n",
      "\u001b[1m200/200\u001b[0m \u001b[32m━━━━━━━━━━━━━━━━━━━━\u001b[0m\u001b[37m\u001b[0m \u001b[1m0s\u001b[0m 2ms/step - reconstruction_loss: 970.2184 - total_loss: 970.2184\n",
      "Epoch 28/50\n",
      "\u001b[1m200/200\u001b[0m \u001b[32m━━━━━━━━━━━━━━━━━━━━\u001b[0m\u001b[37m\u001b[0m \u001b[1m0s\u001b[0m 2ms/step - reconstruction_loss: 1363.1920 - total_loss: 1363.1920\n",
      "Epoch 29/50\n",
      "\u001b[1m200/200\u001b[0m \u001b[32m━━━━━━━━━━━━━━━━━━━━\u001b[0m\u001b[37m\u001b[0m \u001b[1m0s\u001b[0m 2ms/step - reconstruction_loss: 2493.5791 - total_loss: 2493.5791\n",
      "Epoch 30/50\n",
      "\u001b[1m200/200\u001b[0m \u001b[32m━━━━━━━━━━━━━━━━━━━━\u001b[0m\u001b[37m\u001b[0m \u001b[1m0s\u001b[0m 2ms/step - reconstruction_loss: 1953.1639 - total_loss: 1953.1639\n",
      "Epoch 31/50\n",
      "\u001b[1m200/200\u001b[0m \u001b[32m━━━━━━━━━━━━━━━━━━━━\u001b[0m\u001b[37m\u001b[0m \u001b[1m0s\u001b[0m 1ms/step - reconstruction_loss: 1277.6072 - total_loss: 1277.6072\n",
      "Epoch 32/50\n",
      "\u001b[1m200/200\u001b[0m \u001b[32m━━━━━━━━━━━━━━━━━━━━\u001b[0m\u001b[37m\u001b[0m \u001b[1m0s\u001b[0m 1ms/step - reconstruction_loss: 1953.6063 - total_loss: 1953.6063\n",
      "Epoch 33/50\n",
      "\u001b[1m200/200\u001b[0m \u001b[32m━━━━━━━━━━━━━━━━━━━━\u001b[0m\u001b[37m\u001b[0m \u001b[1m0s\u001b[0m 2ms/step - reconstruction_loss: 2331.1289 - total_loss: 2331.1289\n",
      "Epoch 34/50\n",
      "\u001b[1m200/200\u001b[0m \u001b[32m━━━━━━━━━━━━━━━━━━━━\u001b[0m\u001b[37m\u001b[0m \u001b[1m0s\u001b[0m 2ms/step - reconstruction_loss: 1604.4000 - total_loss: 1604.4000\n",
      "Epoch 35/50\n",
      "\u001b[1m200/200\u001b[0m \u001b[32m━━━━━━━━━━━━━━━━━━━━\u001b[0m\u001b[37m\u001b[0m \u001b[1m0s\u001b[0m 2ms/step - reconstruction_loss: 1204.5607 - total_loss: 1204.5607\n",
      "Epoch 36/50\n",
      "\u001b[1m200/200\u001b[0m \u001b[32m━━━━━━━━━━━━━━━━━━━━\u001b[0m\u001b[37m\u001b[0m \u001b[1m0s\u001b[0m 2ms/step - reconstruction_loss: 1261.4551 - total_loss: 1261.4551\n",
      "Epoch 37/50\n",
      "\u001b[1m200/200\u001b[0m \u001b[32m━━━━━━━━━━━━━━━━━━━━\u001b[0m\u001b[37m\u001b[0m \u001b[1m0s\u001b[0m 2ms/step - reconstruction_loss: 1862.6254 - total_loss: 1862.6254\n",
      "Epoch 38/50\n",
      "\u001b[1m200/200\u001b[0m \u001b[32m━━━━━━━━━━━━━━━━━━━━\u001b[0m\u001b[37m\u001b[0m \u001b[1m0s\u001b[0m 1ms/step - reconstruction_loss: 1214.7722 - total_loss: 1214.7722\n",
      "Epoch 39/50\n",
      "\u001b[1m200/200\u001b[0m \u001b[32m━━━━━━━━━━━━━━━━━━━━\u001b[0m\u001b[37m\u001b[0m \u001b[1m0s\u001b[0m 1ms/step - reconstruction_loss: 1159.8662 - total_loss: 1159.8662\n",
      "Epoch 40/50\n",
      "\u001b[1m200/200\u001b[0m \u001b[32m━━━━━━━━━━━━━━━━━━━━\u001b[0m\u001b[37m\u001b[0m \u001b[1m0s\u001b[0m 1ms/step - reconstruction_loss: 2146.7930 - total_loss: 2146.7930\n",
      "Epoch 41/50\n",
      "\u001b[1m200/200\u001b[0m \u001b[32m━━━━━━━━━━━━━━━━━━━━\u001b[0m\u001b[37m\u001b[0m \u001b[1m0s\u001b[0m 2ms/step - reconstruction_loss: 1516.2031 - total_loss: 1516.2031\n",
      "Epoch 42/50\n",
      "\u001b[1m200/200\u001b[0m \u001b[32m━━━━━━━━━━━━━━━━━━━━\u001b[0m\u001b[37m\u001b[0m \u001b[1m0s\u001b[0m 2ms/step - reconstruction_loss: 2086.6208 - total_loss: 2086.6208\n",
      "Epoch 43/50\n",
      "\u001b[1m200/200\u001b[0m \u001b[32m━━━━━━━━━━━━━━━━━━━━\u001b[0m\u001b[37m\u001b[0m \u001b[1m0s\u001b[0m 1ms/step - reconstruction_loss: 3266.4785 - total_loss: 3266.4785\n",
      "Epoch 44/50\n",
      "\u001b[1m200/200\u001b[0m \u001b[32m━━━━━━━━━━━━━━━━━━━━\u001b[0m\u001b[37m\u001b[0m \u001b[1m0s\u001b[0m 1ms/step - reconstruction_loss: 2059.3826 - total_loss: 2059.3826\n",
      "Epoch 45/50\n",
      "\u001b[1m200/200\u001b[0m \u001b[32m━━━━━━━━━━━━━━━━━━━━\u001b[0m\u001b[37m\u001b[0m \u001b[1m0s\u001b[0m 1ms/step - reconstruction_loss: 945.8768 - total_loss: 945.8768 \n",
      "Epoch 46/50\n",
      "\u001b[1m200/200\u001b[0m \u001b[32m━━━━━━━━━━━━━━━━━━━━\u001b[0m\u001b[37m\u001b[0m \u001b[1m0s\u001b[0m 2ms/step - reconstruction_loss: 1499.8988 - total_loss: 1499.8988\n",
      "Epoch 47/50\n",
      "\u001b[1m200/200\u001b[0m \u001b[32m━━━━━━━━━━━━━━━━━━━━\u001b[0m\u001b[37m\u001b[0m \u001b[1m0s\u001b[0m 2ms/step - reconstruction_loss: 1632.6479 - total_loss: 1632.6479\n",
      "Epoch 48/50\n",
      "\u001b[1m200/200\u001b[0m \u001b[32m━━━━━━━━━━━━━━━━━━━━\u001b[0m\u001b[37m\u001b[0m \u001b[1m0s\u001b[0m 2ms/step - reconstruction_loss: 911.6605 - total_loss: 911.6605\n",
      "Epoch 49/50\n",
      "\u001b[1m200/200\u001b[0m \u001b[32m━━━━━━━━━━━━━━━━━━━━\u001b[0m\u001b[37m\u001b[0m \u001b[1m0s\u001b[0m 2ms/step - reconstruction_loss: 2473.3987 - total_loss: 2473.3987\n",
      "Epoch 50/50\n",
      "\u001b[1m200/200\u001b[0m \u001b[32m━━━━━━━━━━━━━━━━━━━━\u001b[0m\u001b[37m\u001b[0m \u001b[1m0s\u001b[0m 1ms/step - reconstruction_loss: 1439.2443 - total_loss: 1439.2443\n"
     ]
    },
    {
     "data": {
      "text/plain": [
       "<keras.src.callbacks.history.History at 0x7f3844866d50>"
      ]
     },
     "execution_count": 258,
     "metadata": {},
     "output_type": "execute_result"
    }
   ],
   "source": [
    "epochs = 50\n",
    "batch_size = 500\n",
    "learning_rate = 100.\n",
    "\n",
    "model.compile(optimizer=keras.optimizers.Adam(learning_rate=learning_rate))\n",
    "model.fit({'input': event_pairs_and_similar_label[:, :-1], 'output': event_pairs_and_similar_label[:,-1].reshape(-1,1)}, batch_size=batch_size, epochs=epochs)"
   ]
  },
  {
   "cell_type": "code",
   "execution_count": 259,
   "id": "412a7672-647b-4f92-9fe0-be8bf137dc56",
   "metadata": {},
   "outputs": [
    {
     "data": {
      "text/plain": [
       "<matplotlib.collections.PathCollection at 0x7f383f906720>"
      ]
     },
     "execution_count": 259,
     "metadata": {},
     "output_type": "execute_result"
    },
    {
     "data": {
      "image/png": "[encoded data removed]",
      "text/plain": [
       "<Figure size 640x480 with 1 Axes>"
      ]
     },
     "metadata": {},
     "output_type": "display_data"
    }
   ],
   "source": [
    "test_samples = 5000\n",
    "events_test = np.random.uniform(low=-1, high=1, size=(test_samples, vector_dimension))\n",
    "z = model.encoder(events_test)\n",
    "interval_test = calculateInterval(events_test)\n",
    "\n",
    "plt.scatter(interval_test, z, s=1)"
   ]
  },
  {
   "cell_type": "code",
   "execution_count": null,
   "id": "a732e6b2-8f51-4cd2-8116-11b95e66f467",
   "metadata": {},
   "outputs": [],
   "source": []
  }
 ],
 "metadata": {
  "kernelspec": {
   "display_name": "Python 3 (ipykernel)",
   "language": "python",
   "name": "python3"
  },
  "language_info": {
   "codemirror_mode": {
    "name": "ipython",
    "version": 3
   },
   "file_extension": ".py",
   "mimetype": "text/x-python",
   "name": "python",
   "nbconvert_exporter": "python",
   "pygments_lexer": "ipython3",
   "version": "3.12.4"
  }
 },
 "nbformat": 4,
 "nbformat_minor": 5
}
