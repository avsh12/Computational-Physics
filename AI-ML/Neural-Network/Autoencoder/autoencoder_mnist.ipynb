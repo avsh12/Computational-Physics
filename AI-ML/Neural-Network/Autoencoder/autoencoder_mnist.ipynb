{
 "cells": [
  {
   "cell_type": "code",
   "execution_count": null,
   "metadata": {
    "id": "lS0r_JFjckRo"
   },
   "outputs": [],
   "source": [
    "import numpy as np\n",
    "import tensorflow as tf\n",
    "from tensorflow import keras\n",
    "from keras.datasets import mnist\n",
    "from matplotlib import pyplot as plt"
   ]
  },
  {
   "cell_type": "markdown",
   "metadata": {
    "id": "H8f_RTymsxFF"
   },
   "source": [
    "#Autoencoder for MNIST dtatset: Sequential Model"
   ]
  },
  {
   "cell_type": "code",
   "execution_count": null,
   "metadata": {
    "id": "4xYSESKmSZJd"
   },
   "outputs": [],
   "source": [
    "#takes a list of flattened image data and plots the image list in rows\n",
    "def plotDigits(x_img, cols=5):\n",
    "  #pick five random indices from the sample range of the image data\n",
    "  random_sample_indices = [np.random.randint(low=0, high=x_img[0].shape[0]) for i in range(5)]\n",
    "  #select the five images\n",
    "  random_sample_images = x_img[0][random_sample_indices, :]\n",
    "\n",
    "  #number of rows to be plotted\n",
    "  rows = len(x_img)\n",
    "  #create subplot axes\n",
    "  fig, ax = plt.subplots(nrows=rows, ncols=cols, squeeze=False)\n",
    "\n",
    "  for row in range(rows):\n",
    "    for i, index in enumerate(random_sample_indices):\n",
    "      #the image pixels are in flattened array\n",
    "      #reshape the pixel array to 28*28 dimension\n",
    "      ax[row, i].imshow(x_img[row][index].reshape(28,28), cmap='gray')\n",
    "      ax[row, i].grid=False\n",
    "      ax[row, i].set_xticks([])\n",
    "      ax[row, i].set_yticks([])\n",
    "\n",
    "  return ax, fig"
   ]
  },
  {
   "cell_type": "markdown",
   "metadata": {
    "id": "79AyuHwPt-Wy"
   },
   "source": [
    "## Getting Dataset"
   ]
  },
  {
   "cell_type": "code",
   "execution_count": null,
   "metadata": {
    "colab": {
     "base_uri": "https://localhost:8080/"
    },
    "executionInfo": {
     "elapsed": 1047,
     "status": "ok",
     "timestamp": 1719861114404,
     "user": {
      "displayName": "Adarsh Vishwakarma",
      "userId": "08228595058095443271"
     },
     "user_tz": -330
    },
    "id": "qmLubxPmtGn9",
    "outputId": "c3632916-58b0-4d25-9272-f7a4018f5cd7"
   },
   "outputs": [
    {
     "name": "stdout",
     "output_type": "stream",
     "text": [
      "Downloading data from https://storage.googleapis.com/tensorflow/tf-keras-datasets/mnist.npz\n",
      "11490434/11490434 [==============================] - 0s 0us/step\n"
     ]
    }
   ],
   "source": [
    "(x_train, y_train), (x_test, y_test) = mnist.load_data()"
   ]
  },
  {
   "cell_type": "code",
   "execution_count": null,
   "metadata": {
    "colab": {
     "base_uri": "https://localhost:8080/",
     "height": 139
    },
    "executionInfo": {
     "elapsed": 422,
     "status": "ok",
     "timestamp": 1719875910123,
     "user": {
      "displayName": "Adarsh Vishwakarma",
      "userId": "08228595058095443271"
     },
     "user_tz": -330
    },
    "id": "npdYCbtojECp",
    "outputId": "8f6c9de9-c09f-4d0e-ccd2-5b5b9723d905"
   },
   "outputs": [
    {
     "data": {
      "text/plain": [
       "[]"
      ]
     },
     "execution_count": 256,
     "metadata": {},
     "output_type": "execute_result"
    },
    {
     "data": {
      "image/png": "[encoded data removed]",
      "text/plain": [
       "<Figure size 640x480 with 5 Axes>"
      ]
     },
     "metadata": {},
     "output_type": "display_data"
    }
   ],
   "source": [
    "#plot five random digits\n",
    "ax, fig = plotDigits([x_train], cols=5)\n",
    "plt.plot()"
   ]
  },
  {
   "cell_type": "markdown",
   "metadata": {
    "id": "vFNLfanFubfj"
   },
   "source": [
    "layer1 = keras.layers.Dense(28*28, activation='relu', name='hidden_layer1')\n",
    "layer2 = keras.layers.Dense(1, activation='relu', name='hidden_layer2')\n",
    "output = keras.layers.Dense(28*28, activation='relu', name='output_layer')"
   ]
  },
  {
   "cell_type": "markdown",
   "metadata": {
    "id": "_5FeIg1xzXa7"
   },
   "source": [
    "## Preprocessing input"
   ]
  },
  {
   "cell_type": "code",
   "execution_count": null,
   "metadata": {
    "colab": {
     "base_uri": "https://localhost:8080/"
    },
    "executionInfo": {
     "elapsed": 437,
     "status": "ok",
     "timestamp": 1719862826016,
     "user": {
      "displayName": "Adarsh Vishwakarma",
      "userId": "08228595058095443271"
     },
     "user_tz": -330
    },
    "id": "SAd-Q9CqzyE6",
    "outputId": "15d3d2a6-da11-4b67-a4e7-faf781d36125"
   },
   "outputs": [
    {
     "name": "stdout",
     "output_type": "stream",
     "text": [
      "(60000, 28, 28)\n",
      "(60000,)\n",
      "(10000, 28, 28)\n"
     ]
    }
   ],
   "source": [
    "print(x_train.shape)\n",
    "print(y_train.shape)\n",
    "print(x_test.shape)"
   ]
  },
  {
   "cell_type": "code",
   "execution_count": null,
   "metadata": {
    "id": "WDSS0PuRziEA"
   },
   "outputs": [],
   "source": [
    "#flatten the pixel array of the images\n",
    "def reshapeImage(images, normalize=False):\n",
    "  images_reshaped = images.reshape((images.shape[0], images.shape[1]*images.shape[2]))\n",
    "\n",
    "  if normalize:\n",
    "    #reduce the range of values to [0,1]\n",
    "    images_reshaped = images_reshaped.astype('float32')/255\n",
    "\n",
    "  return images_reshaped"
   ]
  },
  {
   "cell_type": "code",
   "execution_count": null,
   "metadata": {
    "id": "adVNExCU0gjs"
   },
   "outputs": [],
   "source": [
    "#flatten and normalize the pixel values of the digits to [0,1]\n",
    "x_train_reshaped = reshapeImage(x_train, normalize=True)\n",
    "x_test_reshaped = reshapeImage(x_test, normalize=True)"
   ]
  },
  {
   "cell_type": "code",
   "execution_count": null,
   "metadata": {
    "colab": {
     "base_uri": "https://localhost:8080/"
    },
    "executionInfo": {
     "elapsed": 534,
     "status": "ok",
     "timestamp": 1719864966686,
     "user": {
      "displayName": "Adarsh Vishwakarma",
      "userId": "08228595058095443271"
     },
     "user_tz": -330
    },
    "id": "0VXjZOfM1AE6",
    "outputId": "18052628-2ffc-4c02-b2c1-4b38f6994175"
   },
   "outputs": [
    {
     "name": "stdout",
     "output_type": "stream",
     "text": [
      "(60000, 784)\n",
      "(10000, 784)\n"
     ]
    }
   ],
   "source": [
    "print(x_train_reshaped.shape)\n",
    "print(x_test_reshaped.shape)"
   ]
  },
  {
   "cell_type": "markdown",
   "metadata": {
    "id": "UFgPRkr7Slz5"
   },
   "source": [
    "## Building a simple Autoencoder"
   ]
  },
  {
   "cell_type": "code",
   "execution_count": null,
   "metadata": {
    "id": "X4YUmgNcx8yY"
   },
   "outputs": [],
   "source": [
    "input_image_size = 28*28\n",
    "#the size of the latent representation\n",
    "latent_rep_size = 1\n",
    "\n",
    "#create an input layer\n",
    "input_images = keras.Input(shape=(input_image_size,), name='input_image')\n",
    "#create an encoder. Here it consists of one layer only. So, this is just latent representation layer\n",
    "encoder_l1 = keras.layers.Dense(latent_rep_size, activation='relu', name='encoder_layer1')(input_images)\n",
    "#output layer\n",
    "decoder_l1 = keras.layers.Dense(input_image_size, activation='sigmoid')(encoder_l1)\n",
    "\n",
    "#build a sequential model using the three layers in sequence\n",
    "model = keras.Model(inputs=input_images, outputs=decoder_l1, name='autoencoder')"
   ]
  },
  {
   "cell_type": "code",
   "execution_count": null,
   "metadata": {
    "colab": {
     "base_uri": "https://localhost:8080/",
     "height": 312
    },
    "collapsed": true,
    "executionInfo": {
     "elapsed": 8,
     "status": "ok",
     "timestamp": 1719864729520,
     "user": {
      "displayName": "Adarsh Vishwakarma",
      "userId": "08228595058095443271"
     },
     "user_tz": -330
    },
    "id": "aHUXMQHByDhr",
    "jupyter": {
     "outputs_hidden": true
    },
    "outputId": "10aaef7a-1933-461f-8341-be5799f59161"
   },
   "outputs": [
    {
     "data": {
      "image/png": "[encoded data removed]",
      "text/plain": [
       "<IPython.core.display.Image object>"
      ]
     },
     "execution_count": 82,
     "metadata": {},
     "output_type": "execute_result"
    }
   ],
   "source": [
    "#graph of the model\n",
    "keras.utils.plot_model(model, show_shapes=True)"
   ]
  },
  {
   "cell_type": "code",
   "execution_count": null,
   "metadata": {
    "colab": {
     "base_uri": "https://localhost:8080/"
    },
    "executionInfo": {
     "elapsed": 44780,
     "status": "ok",
     "timestamp": 1719873678639,
     "user": {
      "displayName": "Adarsh Vishwakarma",
      "userId": "08228595058095443271"
     },
     "user_tz": -330
    },
    "id": "1-6U_6LqzNOO",
    "outputId": "bc48d3a7-9b4a-456c-988d-31deb72792d7"
   },
   "outputs": [
    {
     "name": "stdout",
     "output_type": "stream",
     "text": [
      "Epoch 1/10\n",
      "1875/1875 [==============================] - 5s 2ms/step - loss: 0.0751\n",
      "Epoch 2/10\n",
      "1875/1875 [==============================] - 4s 2ms/step - loss: 0.0653\n",
      "Epoch 3/10\n",
      "1875/1875 [==============================] - 5s 3ms/step - loss: 0.0641\n",
      "Epoch 4/10\n",
      "1875/1875 [==============================] - 4s 2ms/step - loss: 0.0635\n",
      "Epoch 5/10\n",
      "1875/1875 [==============================] - 4s 2ms/step - loss: 0.0632\n",
      "Epoch 6/10\n",
      "1875/1875 [==============================] - 5s 3ms/step - loss: 0.0629\n",
      "Epoch 7/10\n",
      "1875/1875 [==============================] - 4s 2ms/step - loss: 0.0624\n",
      "Epoch 8/10\n",
      "1875/1875 [==============================] - 4s 2ms/step - loss: 0.0620\n",
      "Epoch 9/10\n",
      "1875/1875 [==============================] - 5s 3ms/step - loss: 0.0616\n",
      "Epoch 10/10\n",
      "1875/1875 [==============================] - 4s 2ms/step - loss: 0.0613\n"
     ]
    },
    {
     "data": {
      "text/plain": [
       "<keras.src.callbacks.History at 0x7d88f758db70>"
      ]
     },
     "execution_count": 201,
     "metadata": {},
     "output_type": "execute_result"
    }
   ],
   "source": [
    "#compile the model to define the gradient update method and the loss function for training\n",
    "model.compile(optimizer='adam', loss='mean_squared_error')\n",
    "#fit the model using the flattened data\n",
    "#input an output are same\n",
    "model.fit(x_train_reshaped, x_train_reshaped, epochs=10)"
   ]
  },
  {
   "cell_type": "code",
   "execution_count": null,
   "metadata": {
    "colab": {
     "base_uri": "https://localhost:8080/"
    },
    "executionInfo": {
     "elapsed": 1049,
     "status": "ok",
     "timestamp": 1719873679661,
     "user": {
      "displayName": "Adarsh Vishwakarma",
      "userId": "08228595058095443271"
     },
     "user_tz": -330
    },
    "id": "EeiT_0g11aJg",
    "outputId": "fbf5e78a-33d6-4388-a25a-c5e431b91630"
   },
   "outputs": [
    {
     "name": "stdout",
     "output_type": "stream",
     "text": [
      "313/313 [==============================] - 1s 2ms/step\n"
     ]
    }
   ],
   "source": [
    "#predict the output using test data\n",
    "output = model.predict(x_test_reshaped)"
   ]
  },
  {
   "cell_type": "code",
   "execution_count": null,
   "metadata": {
    "colab": {
     "base_uri": "https://localhost:8080/"
    },
    "executionInfo": {
     "elapsed": 400,
     "status": "ok",
     "timestamp": 1719863383344,
     "user": {
      "displayName": "Adarsh Vishwakarma",
      "userId": "08228595058095443271"
     },
     "user_tz": -330
    },
    "id": "CLk-eNXE1pdu",
    "outputId": "4418e20f-c5db-4de6-d533-12b40dcb6d7b"
   },
   "outputs": [
    {
     "data": {
      "text/plain": [
       "(10000, 784)"
      ]
     },
     "execution_count": 66,
     "metadata": {},
     "output_type": "execute_result"
    }
   ],
   "source": [
    "output.shape"
   ]
  },
  {
   "cell_type": "code",
   "execution_count": null,
   "metadata": {
    "colab": {
     "base_uri": "https://localhost:8080/",
     "height": 341
    },
    "executionInfo": {
     "elapsed": 1372,
     "status": "ok",
     "timestamp": 1719876664581,
     "user": {
      "displayName": "Adarsh Vishwakarma",
      "userId": "08228595058095443271"
     },
     "user_tz": -330
    },
    "id": "LNUpjEQQa8a4",
    "outputId": "4b9cba75-c754-4b76-ba6b-454122e61cf0"
   },
   "outputs": [
    {
     "data": {
      "text/plain": [
       "[]"
      ]
     },
     "execution_count": 258,
     "metadata": {},
     "output_type": "execute_result"
    },
    {
     "data": {
      "image/png": "[encoded data removed]",
      "text/plain": [
       "<Figure size 640x480 with 10 Axes>"
      ]
     },
     "metadata": {},
     "output_type": "display_data"
    }
   ],
   "source": [
    "#plot the input test image and its predicted output\n",
    "labels = ['Input', 'Latent Layer Size: 1']\n",
    "\n",
    "ax, plots = plotDigits([x_test_reshaped, output], cols=5)\n",
    "\n",
    "for i in range(2):\n",
    "  ax[i, 0].set_ylabel(labels[i], rotation='horizontal', labelpad=65)\n",
    "\n",
    "plt.plot()"
   ]
  },
  {
   "cell_type": "markdown",
   "metadata": {
    "id": "OzuwAnEVH2lC"
   },
   "source": [
    "## Changing dimension of latent representation layer"
   ]
  },
  {
   "cell_type": "markdown",
   "metadata": {
    "id": "-LOt1zHuo9vx"
   },
   "source": [
    "The code varies the dimension of the latent layer from 1 in multiples of 2 upto 32. The output for each latent layer dimension is plotted."
   ]
  },
  {
   "cell_type": "code",
   "execution_count": null,
   "metadata": {
    "colab": {
     "base_uri": "https://localhost:8080/"
    },
    "executionInfo": {
     "elapsed": 268505,
     "status": "ok",
     "timestamp": 1719868060204,
     "user": {
      "displayName": "Adarsh Vishwakarma",
      "userId": "08228595058095443271"
     },
     "user_tz": -330
    },
    "id": "2jATmFRzGRF4",
    "outputId": "bddd5d4e-4925-46a6-91be-39ca098c9840"
   },
   "outputs": [
    {
     "name": "stdout",
     "output_type": "stream",
     "text": [
      "313/313 [==============================] - 0s 2ms/step\n",
      "313/313 [==============================] - 3s 8ms/step\n",
      "313/313 [==============================] - 0s 2ms/step\n",
      "313/313 [==============================] - 0s 2ms/step\n",
      "313/313 [==============================] - 0s 2ms/step\n",
      "313/313 [==============================] - 1s 2ms/step\n"
     ]
    }
   ],
   "source": [
    "#number of different dimensions cases\n",
    "num_layers = 6\n",
    "#initialize the latent layer dimension to 1\n",
    "layer_dim = 1\n",
    "\n",
    "#create an empty list to store model and output for each latent layer dimension\n",
    "models = []\n",
    "outputs = []\n",
    "\n",
    "for layer in range(num_layers):\n",
    "  #create the latent layer\n",
    "  encoder_l1 = keras.layers.Dense(layer_dim, activation='relu', name='encoder_layer1')(input_images)\n",
    "  decoder_l1 = keras.layers.Dense(input_image_size, activation='sigmoid')(encoder_l1)\n",
    "  models.append(keras.Model(inputs=input_images, outputs=decoder_l1, name='autoencoder'))\n",
    "\n",
    "  models[layer].compile(optimizer='adam', loss='mean_squared_error')\n",
    "  models[layer].fit(x_train_reshaped, x_train_reshaped, epochs=10, verbose=0)\n",
    "\n",
    "  layer_dim = 2*layer_dim\n",
    "\n",
    "  outputs.append(model.predict(x_test_reshaped))"
   ]
  },
  {
   "cell_type": "code",
   "execution_count": null,
   "metadata": {
    "colab": {
     "base_uri": "https://localhost:8080/",
     "height": 423
    },
    "executionInfo": {
     "elapsed": 3273,
     "status": "ok",
     "timestamp": 1719874202872,
     "user": {
      "displayName": "Adarsh Vishwakarma",
      "userId": "08228595058095443271"
     },
     "user_tz": -330
    },
    "id": "x5xvL5QkV8dN",
    "outputId": "0f3d9962-bb40-48a7-ed95-8c5c8cd8a536"
   },
   "outputs": [
    {
     "data": {
      "text/plain": [
       "[]"
      ]
     },
     "execution_count": 216,
     "metadata": {},
     "output_type": "execute_result"
    },
    {
     "data": {
      "image/png": "[encoded data removed]",
      "text/plain": [
       "<Figure size 640x480 with 35 Axes>"
      ]
     },
     "metadata": {},
     "output_type": "display_data"
    }
   ],
   "source": [
    "#plot the digits for each dimension of latent layer\n",
    "labels = ['Input']\n",
    "for i in range(1, 7):\n",
    "  labels.append('Hidden Layer Size: ' + str(2**(i-1)))\n",
    "\n",
    "plt, ax, plots = plotDigits([x_test_reshaped] + outputs, cols=5)\n",
    "\n",
    "for i in range(7):\n",
    "  ax[i, 0].set_ylabel(labels[i], rotation='horizontal', labelpad=65)\n",
    "\n",
    "plt.plot()"
   ]
  },
  {
   "cell_type": "markdown",
   "metadata": {
    "id": "mPGSeFE8Pfzz"
   },
   "source": [
    "## Denoising using autoencoder"
   ]
  },
  {
   "cell_type": "code",
   "execution_count": null,
   "metadata": {
    "id": "6FbvOYQFEMu1"
   },
   "outputs": [],
   "source": [
    "#create noises for the training and test datasets as random values\n",
    "train_noise = np.random.uniform(low=-0.7, high=0.7, size=(1, x_train_reshaped.shape[1]))\n",
    "test_noise = np.random.uniform(low=-0.7, high=0.7, size=(1, x_test_reshaped.shape[1]))"
   ]
  },
  {
   "cell_type": "code",
   "execution_count": null,
   "metadata": {
    "id": "7atRyu3W2KEe"
   },
   "outputs": [],
   "source": [
    "#add the noise\n",
    "x_train_noise = x_train_reshaped + train_noise\n",
    "x_test_noise = x_test_reshaped + test_noise\n",
    "#clip the noise in the range [0,1]\n",
    "x_train_noise = np.clip(x_train_noise, a_min=0, a_max=1)\n",
    "x_test_noise = np.clip(x_test_noise, a_min=0, a_max=1)"
   ]
  },
  {
   "cell_type": "code",
   "execution_count": null,
   "metadata": {
    "colab": {
     "base_uri": "https://localhost:8080/",
     "height": 447
    },
    "executionInfo": {
     "elapsed": 450,
     "status": "ok",
     "timestamp": 1719877078629,
     "user": {
      "displayName": "Adarsh Vishwakarma",
      "userId": "08228595058095443271"
     },
     "user_tz": -330
    },
    "id": "7djYn2tKflLZ",
    "outputId": "c5f99f7b-5433-4cac-c7c3-a0e6a0f8e535"
   },
   "outputs": [
    {
     "data": {
      "text/plain": [
       "<matplotlib.image.AxesImage at 0x7d891c132b90>"
      ]
     },
     "execution_count": 259,
     "metadata": {},
     "output_type": "execute_result"
    },
    {
     "data": {
      "image/png": "[encoded data removed]",
      "text/plain": [
       "<Figure size 640x480 with 1 Axes>"
      ]
     },
     "metadata": {},
     "output_type": "display_data"
    }
   ],
   "source": [
    "plt.imshow(x_test_noise[0].reshape(28,28), cmap='gray')"
   ]
  },
  {
   "cell_type": "code",
   "execution_count": null,
   "metadata": {
    "id": "z_LlgLAWRifK"
   },
   "outputs": [],
   "source": [
    "#create a model with latent layer dimension 100\n",
    "layer_dim = 100\n",
    "\n",
    "encoder_l1 = keras.layers.Dense(layer_dim, activation='relu', name='encoder_layer1')(input_images)\n",
    "decoder_l1 = keras.layers.Dense(input_image_size, activation='sigmoid')(encoder_l1)\n",
    "model = keras.Model(inputs=input_images, outputs=decoder_l1, name='autoencoder')"
   ]
  },
  {
   "cell_type": "code",
   "execution_count": null,
   "metadata": {
    "colab": {
     "base_uri": "https://localhost:8080/"
    },
    "executionInfo": {
     "elapsed": 143268,
     "status": "ok",
     "timestamp": 1719874697957,
     "user": {
      "displayName": "Adarsh Vishwakarma",
      "userId": "08228595058095443271"
     },
     "user_tz": -330
    },
    "id": "W0V9R9F-Qp1I",
    "outputId": "5beae494-3d2f-4ccc-ed29-38288cd9db9f"
   },
   "outputs": [
    {
     "name": "stdout",
     "output_type": "stream",
     "text": [
      "Epoch 1/10\n",
      "1875/1875 [==============================] - 10s 5ms/step - loss: 0.0244\n",
      "Epoch 2/10\n",
      "1875/1875 [==============================] - 8s 4ms/step - loss: 0.0083\n",
      "Epoch 3/10\n",
      "1875/1875 [==============================] - 10s 5ms/step - loss: 0.0062\n",
      "Epoch 4/10\n",
      "1875/1875 [==============================] - 11s 6ms/step - loss: 0.0055\n",
      "Epoch 5/10\n",
      "1875/1875 [==============================] - 9s 5ms/step - loss: 0.0052\n",
      "Epoch 6/10\n",
      "1875/1875 [==============================] - 9s 5ms/step - loss: 0.0050\n",
      "Epoch 7/10\n",
      "1875/1875 [==============================] - 10s 5ms/step - loss: 0.0049\n",
      "Epoch 8/10\n",
      "1875/1875 [==============================] - 10s 5ms/step - loss: 0.0049\n",
      "Epoch 9/10\n",
      "1875/1875 [==============================] - 8s 5ms/step - loss: 0.0048\n",
      "Epoch 10/10\n",
      "1875/1875 [==============================] - 10s 5ms/step - loss: 0.0048\n"
     ]
    },
    {
     "data": {
      "text/plain": [
       "<keras.src.callbacks.History at 0x7d88fa5c4760>"
      ]
     },
     "execution_count": 232,
     "metadata": {},
     "output_type": "execute_result"
    }
   ],
   "source": [
    "model.compile(optimizer='adam', loss='mean_squared_error')\n",
    "#feed the network noised data and train using dataset without noise\n",
    "model.fit(x_train_noise, x_train_reshaped, epochs=10)"
   ]
  },
  {
   "cell_type": "code",
   "execution_count": null,
   "metadata": {
    "colab": {
     "base_uri": "https://localhost:8080/"
    },
    "executionInfo": {
     "elapsed": 1543,
     "status": "ok",
     "timestamp": 1719874875444,
     "user": {
      "displayName": "Adarsh Vishwakarma",
      "userId": "08228595058095443271"
     },
     "user_tz": -330
    },
    "id": "Wj2x2BfX2J0u",
    "outputId": "50d557d8-59c8-4bb8-870b-a694b55f7e02"
   },
   "outputs": [
    {
     "name": "stdout",
     "output_type": "stream",
     "text": [
      "313/313 [==============================] - 1s 3ms/step\n"
     ]
    }
   ],
   "source": [
    "#predict on the noised test dataset\n",
    "output = model.predict(x_test_noise)"
   ]
  },
  {
   "cell_type": "code",
   "execution_count": null,
   "metadata": {
    "colab": {
     "base_uri": "https://localhost:8080/",
     "height": 400
    },
    "executionInfo": {
     "elapsed": 1951,
     "status": "ok",
     "timestamp": 1719874877389,
     "user": {
      "displayName": "Adarsh Vishwakarma",
      "userId": "08228595058095443271"
     },
     "user_tz": -330
    },
    "id": "hf_Jb38zafEp",
    "outputId": "e2aa1e15-26a8-427c-94e2-5886ce092e65"
   },
   "outputs": [
    {
     "data": {
      "text/plain": [
       "[]"
      ]
     },
     "execution_count": 250,
     "metadata": {},
     "output_type": "execute_result"
    },
    {
     "data": {
      "image/png": "[encoded data removed]",
      "text/plain": [
       "<Figure size 640x480 with 15 Axes>"
      ]
     },
     "metadata": {},
     "output_type": "display_data"
    }
   ],
   "source": [
    "labels = ['Input', 'Noised Input', 'Denoised Output']\n",
    "\n",
    "plt, ax, plots = plotDigits([x_test_reshaped] + [x_test_noise, output], cols=5)\n",
    "\n",
    "for i in range(3):\n",
    "  ax[i, 0].set_ylabel(labels[i], rotation='horizontal', labelpad=60)\n",
    "\n",
    "plt.plot()"
   ]
  },
  {
   "cell_type": "code",
   "execution_count": null,
   "metadata": {
    "id": "oglYVfjjR91r"
   },
   "outputs": [],
   "source": []
  },
  {
   "cell_type": "code",
   "execution_count": null,
   "metadata": {
    "id": "XIlVwABHR9yY"
   },
   "outputs": [],
   "source": []
  },
  {
   "cell_type": "markdown",
   "metadata": {
    "id": "5npPLqHgxWjK"
   },
   "source": [
    "#Sequential Model"
   ]
  },
  {
   "cell_type": "code",
   "execution_count": null,
   "metadata": {
    "id": "e1WhGjTXrE9T"
   },
   "outputs": [],
   "source": [
    "def generateData(t0=0, t1=5, b0= 0.5, b1=1, k0=5, k1=10, units=50, samples=500):\n",
    "  #damping constant b and spring constant k\n",
    "  bk = np.zeros((samples, 2))\n",
    "  bk[0, 0] = b0\n",
    "  bk[0, 1] = b1\n",
    "  omega = np.sqrt(bk[0, 1] - bk[0, 0]**2/4)\n",
    "  db = (b1-b0)/samples\n",
    "  dk = (k1-k0)/samples\n",
    "\n",
    "  t = (np.linspace(t0, t1, units)).reshape(1, units)\n",
    "  xt = np.zeros((samples, units))\n",
    "\n",
    "  for i in range(samples):\n",
    "    xt[i,:] = (np.exp(-bk[i, 0]*t/2)*np.cos(omega*t))#.reshape(1, N)\n",
    "    if i<samples-1:\n",
    "      bk[i+1, 0] = bk[i, 0] + db\n",
    "      bk[i+1, 1] = bk[i, 1] + dk\n",
    "      omega = np.sqrt(bk[i+1, 1] -bk[i+1, 0]**2/4)\n",
    "\n",
    "  return xt, bk"
   ]
  },
  {
   "cell_type": "code",
   "execution_count": null,
   "metadata": {
    "id": "CV2pYfhFcvh6"
   },
   "outputs": [],
   "source": [
    "class SimpleDense(tf.keras.layers.Layer):\n",
    "  def __init__(self, units, activation=None):\n",
    "    super().__init__()\n",
    "    self.units = units\n",
    "    self.activation = activation\n",
    "\n",
    "  def build(self, input_shape):\n",
    "    input_dim = input_shape[-1]\n",
    "\n",
    "    self.W = self.add_weight(shape=(input_dim, self.units), initializer='random_normal')\n",
    "    self.B = self.add_weight(shape=(self.units,), initializer='zeros')\n",
    "\n",
    "  def call(self, inputs):\n",
    "    y = tf.matmul(inputs, self.W) + self.B\n",
    "    if self.activation is not None:\n",
    "      y = self.activation(y)\n",
    "\n",
    "    return y"
   ]
  },
  {
   "cell_type": "code",
   "execution_count": null,
   "metadata": {
    "id": "Vr44W2etbsJu"
   },
   "outputs": [],
   "source": [
    "layer1 = SimpleDense(500, activation=tf.nn.relu)\n",
    "layer2 = SimpleDense(100, activation=tf.nn.relu)\n",
    "layer3 = SimpleDense(2, activation=tf.nn.relu)\n",
    "\n",
    "#out1 = layer1(xt)\n",
    "#out2 = layer2(out1)\n",
    "#out3 = layer3(out2)"
   ]
  },
  {
   "cell_type": "code",
   "execution_count": null,
   "metadata": {
    "id": "Wwdy1d7PnnUQ"
   },
   "outputs": [],
   "source": [
    "model = tf.keras.Sequential([layer1, layer2, layer3])\n",
    "model.compile(optimizer='rmsprop', loss='mean_squared_error', metrics='accuracy')"
   ]
  },
  {
   "cell_type": "code",
   "execution_count": null,
   "metadata": {
    "colab": {
     "base_uri": "https://localhost:8080/"
    },
    "executionInfo": {
     "elapsed": 393,
     "status": "ok",
     "timestamp": 1719853645255,
     "user": {
      "displayName": "Adarsh Vishwakarma",
      "userId": "08228595058095443271"
     },
     "user_tz": -330
    },
    "id": "qle-Sd7-pl0P",
    "outputId": "e6aee009-6a72-4733-ef84-8b907086ba40"
   },
   "outputs": [
    {
     "data": {
      "text/plain": [
       "500"
      ]
     },
     "execution_count": 10,
     "metadata": {},
     "output_type": "execute_result"
    }
   ],
   "source": [
    "train_xt, train_bk = generateData()\n",
    "len(train_xt)"
   ]
  },
  {
   "cell_type": "code",
   "execution_count": null,
   "metadata": {
    "id": "u969cSDWuXwD"
   },
   "outputs": [],
   "source": [
    "experimental_error_xt = tf.random.uniform(train_xt.shape, minval=-0.02, maxval=0.2)\n",
    "experimental_error_bk = tf.random.uniform(train_bk.shape, minval=-0.01, maxval=0.01)"
   ]
  },
  {
   "cell_type": "code",
   "execution_count": null,
   "metadata": {
    "id": "kkpR4LBDu88H"
   },
   "outputs": [],
   "source": [
    "train_xt += experimental_error_xt\n",
    "train_bk += experimental_error_bk"
   ]
  },
  {
   "cell_type": "code",
   "execution_count": null,
   "metadata": {
    "colab": {
     "base_uri": "https://localhost:8080/"
    },
    "collapsed": true,
    "executionInfo": {
     "elapsed": 34,
     "status": "ok",
     "timestamp": 1719853665109,
     "user": {
      "displayName": "Adarsh Vishwakarma",
      "userId": "08228595058095443271"
     },
     "user_tz": -330
    },
    "id": "lKwpu-L5oOfm",
    "jupyter": {
     "outputs_hidden": true
    },
    "outputId": "ae10e71c-9e8b-4074-81f7-e0e8d531ddd9"
   },
   "outputs": [
    {
     "name": "stdout",
     "output_type": "stream",
     "text": [
      "Epoch 1/10\n",
      "5/5 [==============================] - 1s 7ms/step - loss: 6.9688 - accuracy: 0.0000e+00\n",
      "Epoch 2/10\n",
      "5/5 [==============================] - 0s 5ms/step - loss: 3.1056 - accuracy: 0.8000\n",
      "Epoch 3/10\n",
      "5/5 [==============================] - 0s 5ms/step - loss: 0.6432 - accuracy: 1.0000\n",
      "Epoch 4/10\n",
      "5/5 [==============================] - 0s 5ms/step - loss: 0.1942 - accuracy: 1.0000\n",
      "Epoch 5/10\n",
      "5/5 [==============================] - 0s 5ms/step - loss: 0.0921 - accuracy: 1.0000\n",
      "Epoch 6/10\n",
      "5/5 [==============================] - 0s 5ms/step - loss: 0.0541 - accuracy: 1.0000\n",
      "Epoch 7/10\n",
      "5/5 [==============================] - 0s 5ms/step - loss: 0.0404 - accuracy: 1.0000\n",
      "Epoch 8/10\n",
      "5/5 [==============================] - 0s 5ms/step - loss: 0.0494 - accuracy: 1.0000\n",
      "Epoch 9/10\n",
      "5/5 [==============================] - 0s 7ms/step - loss: 0.0248 - accuracy: 1.0000\n",
      "Epoch 10/10\n",
      "5/5 [==============================] - 0s 5ms/step - loss: 0.0593 - accuracy: 1.0000\n"
     ]
    }
   ],
   "source": [
    "history = model.fit(train_xt, train_bk, epochs=10, batch_size=100)"
   ]
  },
  {
   "cell_type": "code",
   "execution_count": null,
   "metadata": {
    "colab": {
     "base_uri": "https://localhost:8080/"
    },
    "executionInfo": {
     "elapsed": 413,
     "status": "ok",
     "timestamp": 1719853673171,
     "user": {
      "displayName": "Adarsh Vishwakarma",
      "userId": "08228595058095443271"
     },
     "user_tz": -330
    },
    "id": "bWq7l0I9ckMm",
    "outputId": "137f72ea-f2cb-43b8-f4ec-e33a65899acf"
   },
   "outputs": [
    {
     "data": {
      "text/plain": [
       "{'loss': [6.968836307525635,\n",
       "  3.1056036949157715,\n",
       "  0.6432175636291504,\n",
       "  0.194175124168396,\n",
       "  0.09207236021757126,\n",
       "  0.05411961302161217,\n",
       "  0.04040118306875229,\n",
       "  0.049377743154764175,\n",
       "  0.02481990121304989,\n",
       "  0.05934041738510132],\n",
       " 'accuracy': [0.0, 0.800000011920929, 1.0, 1.0, 1.0, 1.0, 1.0, 1.0, 1.0, 1.0]}"
      ]
     },
     "execution_count": 14,
     "metadata": {},
     "output_type": "execute_result"
    }
   ],
   "source": [
    "history.history"
   ]
  },
  {
   "cell_type": "code",
   "execution_count": null,
   "metadata": {
    "colab": {
     "base_uri": "https://localhost:8080/"
    },
    "executionInfo": {
     "elapsed": 431,
     "status": "ok",
     "timestamp": 1719853676330,
     "user": {
      "displayName": "Adarsh Vishwakarma",
      "userId": "08228595058095443271"
     },
     "user_tz": -330
    },
    "id": "ILq3D4G4QZOD",
    "outputId": "6b3e23bf-7449-4162-b652-e8c47f43ab7f"
   },
   "outputs": [
    {
     "name": "stdout",
     "output_type": "stream",
     "text": [
      "Model: \"sequential\"\n",
      "_________________________________________________________________\n",
      " Layer (type)                Output Shape              Param #   \n",
      "=================================================================\n",
      " simple_dense_3 (SimpleDens  (100, 500)                25500     \n",
      " e)                                                              \n",
      "                                                                 \n",
      " simple_dense_4 (SimpleDens  (100, 100)                50100     \n",
      " e)                                                              \n",
      "                                                                 \n",
      " simple_dense_5 (SimpleDens  (100, 2)                  202       \n",
      " e)                                                              \n",
      "                                                                 \n",
      "=================================================================\n",
      "Total params: 75802 (296.10 KB)\n",
      "Trainable params: 75802 (296.10 KB)\n",
      "Non-trainable params: 0 (0.00 Byte)\n",
      "_________________________________________________________________\n"
     ]
    }
   ],
   "source": [
    "model.summary()"
   ]
  },
  {
   "cell_type": "code",
   "execution_count": null,
   "metadata": {
    "id": "i2vwduIptATC"
   },
   "outputs": [],
   "source": [
    "test_xt, test_bk = generateData(t0=5, t1=10, b0=1, b1=1.5, k0=5, k1=8, units=50, samples=100)"
   ]
  },
  {
   "cell_type": "code",
   "execution_count": null,
   "metadata": {
    "colab": {
     "base_uri": "https://localhost:8080/"
    },
    "executionInfo": {
     "elapsed": 654,
     "status": "ok",
     "timestamp": 1719853710861,
     "user": {
      "displayName": "Adarsh Vishwakarma",
      "userId": "08228595058095443271"
     },
     "user_tz": -330
    },
    "id": "Cjk12qAXqWLo",
    "outputId": "63e79bc7-e1b3-448f-b2cf-11f6d45de4f5"
   },
   "outputs": [
    {
     "name": "stdout",
     "output_type": "stream",
     "text": [
      "1/1 [==============================] - 0s 89ms/step\n"
     ]
    }
   ],
   "source": [
    "predictions_xt = model.predict(test_xt, batch_size=100)"
   ]
  },
  {
   "cell_type": "code",
   "execution_count": null,
   "metadata": {
    "colab": {
     "base_uri": "https://localhost:8080/"
    },
    "executionInfo": {
     "elapsed": 10,
     "status": "ok",
     "timestamp": 1719853710862,
     "user": {
      "displayName": "Adarsh Vishwakarma",
      "userId": "08228595058095443271"
     },
     "user_tz": -330
    },
    "id": "CZR3nB8oqWF5",
    "outputId": "228e9bbe-1318-49d6-b386-5ae94ed13d9e"
   },
   "outputs": [
    {
     "data": {
      "text/plain": [
       "array([[0.08352647, 0.2975991 ],\n",
       "       [0.08414876, 0.30254444],\n",
       "       [0.0847252 , 0.30774036],\n",
       "       [0.08527549, 0.31320748],\n",
       "       [0.08580416, 0.3188531 ],\n",
       "       [0.08625609, 0.32466888],\n",
       "       [0.08663864, 0.33060554],\n",
       "       [0.0869591 , 0.33663023],\n",
       "       [0.08721363, 0.34273103],\n",
       "       [0.08739703, 0.3488141 ]], dtype=float32)"
      ]
     },
     "execution_count": 18,
     "metadata": {},
     "output_type": "execute_result"
    }
   ],
   "source": [
    "predictions_xt[:10,:]"
   ]
  },
  {
   "cell_type": "code",
   "execution_count": null,
   "metadata": {
    "colab": {
     "base_uri": "https://localhost:8080/"
    },
    "executionInfo": {
     "elapsed": 402,
     "status": "ok",
     "timestamp": 1719853715648,
     "user": {
      "displayName": "Adarsh Vishwakarma",
      "userId": "08228595058095443271"
     },
     "user_tz": -330
    },
    "id": "ooJHGgjLcpa2",
    "outputId": "6d5e44ad-907a-434f-9e31-4913c14be550"
   },
   "outputs": [
    {
     "data": {
      "text/plain": [
       "array([[1.   , 1.5  ],\n",
       "       [1.005, 1.53 ],\n",
       "       [1.01 , 1.56 ],\n",
       "       [1.015, 1.59 ],\n",
       "       [1.02 , 1.62 ],\n",
       "       [1.025, 1.65 ],\n",
       "       [1.03 , 1.68 ],\n",
       "       [1.035, 1.71 ],\n",
       "       [1.04 , 1.74 ],\n",
       "       [1.045, 1.77 ]])"
      ]
     },
     "execution_count": 19,
     "metadata": {},
     "output_type": "execute_result"
    }
   ],
   "source": [
    "test_bk[:10,:]"
   ]
  },
  {
   "cell_type": "code",
   "execution_count": null,
   "metadata": {
    "id": "bMn52bh3tiqr"
   },
   "outputs": [],
   "source": []
  },
  {
   "cell_type": "code",
   "execution_count": null,
   "metadata": {
    "id": "UM9GfDkvtihZ"
   },
   "outputs": [],
   "source": []
  },
  {
   "cell_type": "markdown",
   "metadata": {
    "id": "vbbrtAtLx0-H"
   },
   "source": []
  },
  {
   "cell_type": "code",
   "execution_count": null,
   "metadata": {
    "id": "aCywi6Y7tieq"
   },
   "outputs": [],
   "source": []
  },
  {
   "cell_type": "markdown",
   "metadata": {
    "id": "uOcpfMuvjKp8"
   },
   "source": [
    "The topology of the network decides the output space or what's called _hypothesis space_. By introducing a particular structure or architecture for the network, the output is forced to lie in a certain space. In order to obtain a output space that contains the answer to the problem we want to extract from the input data, it is important to choose appropriate architecture. It is the architecture that defines what can be learned from the data."
   ]
  },
  {
   "cell_type": "markdown",
   "metadata": {
    "id": "ZthvsClMigP9"
   },
   "source": [
    "# Functional Model"
   ]
  },
  {
   "cell_type": "code",
   "execution_count": null,
   "metadata": {
    "id": "TzCpxUIcSbyJ"
   },
   "outputs": [],
   "source": [
    "#observation size\n",
    "input_size = 50\n",
    "#question_size\n",
    "question_size = 1\n",
    "\n",
    "#observation data\n",
    "observation = keras.Input(shape=(input_size,), name='observation_time_series')\n",
    "#encoder\n",
    "encoder_l1 = keras.layers.Dense(500, activation='relu', name='encoder_layer_1')(observation)\n",
    "encoder_l2 = keras.layers.Dense(100, activation='relu', name='encoder_layer_2')(encoder_l1)\n",
    "#latent representation\n",
    "latent_rep = keras.layers.Dense(3, activation='sigmoid', name='latent_representation')(encoder_l2)\n",
    "#question\n",
    "question = keras.Input(shape=(question_size,), name='question')\n",
    "#coombine the latent representation and question\n",
    "decoder_feed = keras.layers.Concatenate()([latent_rep, question])\n",
    "#decoder\n",
    "decoder_l1 = keras.layers.Dense(100, activation='relu', name='decoder_layer_1')(decoder_feed)\n",
    "decoder_l2 = keras.layers.Dense(100, activation='relu', name='decoder_layer_2')(decoder_l1)\n",
    "#answer\n",
    "answer = keras.layers.Dense(1, activation='sigmoid', name='answer')(decoder_l2)\n",
    "\n",
    "model = keras.Model(inputs=[observation, question], outputs=answer, name='damped_pendulum')"
   ]
  },
  {
   "cell_type": "code",
   "execution_count": null,
   "metadata": {
    "colab": {
     "base_uri": "https://localhost:8080/",
     "height": 865
    },
    "collapsed": true,
    "executionInfo": {
     "elapsed": 775,
     "status": "ok",
     "timestamp": 1719856643159,
     "user": {
      "displayName": "Adarsh Vishwakarma",
      "userId": "08228595058095443271"
     },
     "user_tz": -330
    },
    "id": "mxkA5TX-Tl_c",
    "jupyter": {
     "outputs_hidden": true
    },
    "outputId": "19769370-5af1-4df2-db45-810901e84c65"
   },
   "outputs": [
    {
     "data": {
      "image/png": "[encoded data removed]",
      "text/plain": [
       "<IPython.core.display.Image object>"
      ]
     },
     "execution_count": 42,
     "metadata": {},
     "output_type": "execute_result"
    }
   ],
   "source": [
    "keras.utils.plot_model(model, show_shapes=True)"
   ]
  },
  {
   "cell_type": "markdown",
   "metadata": {
    "id": "FiJnkN0ceh7D"
   },
   "source": [
    "We can choose to build the architecture either in functional API or by creating subclass of Model class. Creating a subclass is convenient because it givesmore flexibility and can be easily reused in different examples. But, using it will compromise with the convenient features that functional API comes with viz. there is no graph structure to it so layer connectivity is not accessible it is not possible to inspect every layers and use the useful utility like summary() and plot_model. So, we will choose to take the subclass approach down the stream and create subclasses and use functional method using those subclasses. This method ensures that the layers of interest are present at the node of the model graph."
   ]
  },
  {
   "cell_type": "markdown",
   "metadata": {
    "id": "pcqobr-YgFsF"
   },
   "source": [
    "Subclasses are: Encoder and Decoder.\n",
    "\n",
    "In the model, between Encoder and Decoder sits two layers: Latent representation and Question."
   ]
  },
  {
   "cell_type": "code",
   "execution_count": null,
   "metadata": {
    "id": "AvRGfFVvbETb"
   },
   "outputs": [],
   "source": [
    "class Encoder(keras.Model):\n",
    "  def __init__(self, activation=None):\n",
    "    super().__init__()\n",
    "    self.activation = activation"
   ]
  }
 ],
 "metadata": {
  "colab": {
   "authorship_tag": "ABX9TyPfbj6SzKFW/SE4NWX5QNQg",
   "collapsed_sections": [
    "5npPLqHgxWjK",
    "ZthvsClMigP9"
   ],
   "provenance": [],
   "toc_visible": true
  },
  "kernelspec": {
   "display_name": "Python 3 (ipykernel)",
   "language": "python",
   "name": "python3"
  },
  "language_info": {
   "codemirror_mode": {
    "name": "ipython",
    "version": 3
   },
   "file_extension": ".py",
   "mimetype": "text/x-python",
   "name": "python",
   "nbconvert_exporter": "python",
   "pygments_lexer": "ipython3",
   "version": "3.12.4"
  }
 },
 "nbformat": 4,
 "nbformat_minor": 4
}
