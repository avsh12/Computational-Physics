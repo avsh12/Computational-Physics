{
 "cells": [
  {
   "cell_type": "code",
   "execution_count": 3,
   "metadata": {
    "executionInfo": {
     "elapsed": 5,
     "status": "ok",
     "timestamp": 1721156075165,
     "user": {
      "displayName": "Adarsh Vishwakarma",
      "userId": "08228595058095443271"
     },
     "user_tz": -330
    },
    "id": "yFGUJmISQfPI"
   },
   "outputs": [],
   "source": [
    "import numpy as np\n",
    "from matplotlib import pyplot as plt"
   ]
  },
  {
   "cell_type": "code",
   "execution_count": 4,
   "metadata": {
    "executionInfo": {
     "elapsed": 10191,
     "status": "ok",
     "timestamp": 1721156085352,
     "user": {
      "displayName": "Adarsh Vishwakarma",
      "userId": "08228595058095443271"
     },
     "user_tz": -330
    },
    "id": "uZuEmfR19F8A"
   },
   "outputs": [],
   "source": [
    "import tensorflow as tf\n",
    "from tensorflow import keras\n",
    "from tensorflow.keras import Input, Model\n",
    "from tensorflow.keras.layers import Dense\n",
    "from tensorflow.keras import datasets"
   ]
  },
  {
   "cell_type": "code",
   "execution_count": 1,
   "metadata": {},
   "outputs": [],
   "source": [
    "from model import ScNN"
   ]
  },
  {
   "cell_type": "markdown",
   "metadata": {
    "id": "79AyuHwPt-Wy"
   },
   "source": [
    "# Generating Dataset"
   ]
  },
  {
   "cell_type": "markdown",
   "metadata": {
    "id": "iNKvdlVilGJO"
   },
   "source": [
    "System: In 2D space, a free particle (A) and a particle (B) constrained to move on a circle.\n",
    "\n",
    "The particle A is moving with initial velocity $u$ and the angular velocity of B is $\\omega$. Their masses are $m_1\\;\\&\\;m_2$ respectively.\n",
    "\n",
    "Let the particle A collides with particle B at $(0, r).$ The final velocity of A is $v$ and final angular velocity of B is $\\omega'$."
   ]
  },
  {
   "cell_type": "code",
   "execution_count": 62,
   "metadata": {
    "executionInfo": {
     "elapsed": 417,
     "status": "ok",
     "timestamp": 1721156148826,
     "user": {
      "displayName": "Adarsh Vishwakarma",
      "userId": "08228595058095443271"
     },
     "user_tz": -330
    },
    "id": "8zKz9iIH5kLS"
   },
   "outputs": [],
   "source": [
    "def generateData(p1inx_min=-10, p1inx_max=-5, v1inx_min=0.5, v1inx_max=1, v1iny_min=-0.5, v1iny_max=0.5, omega_min=-1, omega_max=1, r=1, m1=1, m2=1, units=5, samples=1000):\n",
    "  p1inx = np.random.uniform(low=p1inx_min, high=p1inx_max, size=(samples,1))\n",
    "  v1inx = np.random.uniform(low=v1inx_min, high=v1inx_max, size=(samples,1))\n",
    "  v1iny = np.random.uniform(low=v1iny_min, high=v1iny_max, size=(samples,1))\n",
    "  #v1finx = np.random.uniform(low=v1inx_min/2, high=v1iny_max/2, size=(samples,1))\n",
    "  #v1finy = np.random.uniform(low=v1iny_min/2, high=v1iny_max/2, size=(samples,1))\n",
    "  omega = np.random.uniform(low=omega_min, high=omega_max, size=(samples,1))\n",
    "\n",
    "  v1finx_threshold = np.sqrt(v1inx**2 + m2*r**2*omega**2/m1)\n",
    "  v1finx = np.random.uniform(low=-v1finx_threshold/1.1, high=v1finx_threshold/1.1, size=(samples, 1))\n",
    "  v1finy = v1iny\n",
    "\n",
    "  t_collision = -p1inx/v1inx\n",
    "\n",
    "  p1iny = r - v1iny*t_collision\n",
    "  #p2inx = -r*np.cos(omega*t_collision)\n",
    "  #p2iny = -r*np.sin(omega*t_collision)\n",
    "\n",
    "  l2in = m2*omega*r**2\n",
    "  l1in = m1*(p1inx*v1iny - p1iny*v1inx)\n",
    "  lin = l1in + l2in\n",
    "\n",
    "  t_pre_collision = np.linspace(start=t_collision-5, stop=t_collision, num=units, axis=1)[:,:,0]\n",
    "  t_post_collision = np.linspace(start=t_collision, stop=t_collision+5, num=units, axis=1)[:,:,0]\n",
    "  #step = 10/units\n",
    "  #diff = np.random.uniform(low=-step/units, high=step/units, size=(samples, units))\n",
    "  #t_pre_collision = t_pre_collision + diff\n",
    "  #diff = np.random.uniform(low=-step/units, high=step/units, size=(samples, units))\n",
    "  #t_post_collision = t_post_collision + diff\n",
    "  #t_pre_collision = np.random.uniform(low=t_collision-10, high=t_collision-1, size=(samples, units))\n",
    "  #t_post_collision = np.random.uniform(low=t_collision+1, high=t_collision+10, size=(samples, units))\n",
    "\n",
    "  p1x_pre = p1inx + v1inx*t_pre_collision\n",
    "  p1y_pre = p1iny + v1iny*t_pre_collision\n",
    "  p2x_pre = -r*np.sin(omega*(t_pre_collision-t_collision))\n",
    "  p2y_pre = r*np.cos(omega*(t_pre_collision-t_collision))\n",
    "  #p2x_pre = p2inx + r*np.cos(omega*t_pre_collision)\n",
    "  #p2y_pre = p2iny + r*np.sin(omega*t_pre_collision)\n",
    "  #p1x_post = p1inx + v1finx*t_post_collision\n",
    "  #p1y_post = p1iny + v1finy*t_post_collision\n",
    "  p1x_post = v1finx*(t_post_collision-t_collision)\n",
    "  p1y_post = r + v1finy*(t_post_collision-t_collision)\n",
    "\n",
    "  #l2fin = -m2*r*v1inx\n",
    "  #l1fin = lin - l2fin\n",
    "  #omega_fin = l2fin/(m2*r**2)\n",
    "  omega_fin = omega + (v1finx - v1inx)*m1/(m2*r)\n",
    "\n",
    "  p2x_post = -r*np.sin(omega_fin*(t_post_collision-t_collision))\n",
    "  p2y_post = r*np.cos(omega_fin*(t_post_collision-t_collision))\n",
    "  #p2x_post = r*np.cos(omega_fin*(t_post_collision-t_collision))\n",
    "  #p2y_post = r*(1 + np.sin(omega_fin*(t_post_collision-t_collision)))\n",
    "\n",
    "  t_prediction = t_collision + 5\n",
    "  p2x_prediction = -r*np.sin(omega_fin*(t_prediction-t_collision))\n",
    "  p2y_prediction = r*np.cos(omega_fin*(t_prediction-t_collision))\n",
    "\n",
    "  return t_pre_collision, p1x_pre, p1y_pre, p2x_pre, p2y_pre, t_collision, t_post_collision, p1x_post, p1y_post, p2x_post, p2y_post, t_prediction, p2x_prediction, p2y_prediction, lin"
   ]
  },
  {
   "cell_type": "code",
   "execution_count": 63,
   "metadata": {
    "executionInfo": {
     "elapsed": 1,
     "status": "ok",
     "timestamp": 1721156149235,
     "user": {
      "displayName": "Adarsh Vishwakarma",
      "userId": "08228595058095443271"
     },
     "user_tz": -330
    },
    "id": "J59u2WjW5oYD"
   },
   "outputs": [],
   "source": [
    "samples = int(1e1)\n",
    "units=50\n",
    "t_pre_collision, p1x_pre, p1y_pre, p2x_pre, p2y_pre, t_collision, t_post_collision, p1x_post, p1y_post, p2x_post, p2y_post, t_prediction, p2x_prediction, p2y_prediction, lin = generateData(units=units, samples=samples)"
   ]
  },
  {
   "cell_type": "code",
   "execution_count": 64,
   "metadata": {
    "colab": {
     "base_uri": "https://localhost:8080/",
     "height": 453
    },
    "executionInfo": {
     "elapsed": 1622,
     "status": "ok",
     "timestamp": 1721157396492,
     "user": {
      "displayName": "Adarsh Vishwakarma",
      "userId": "08228595058095443271"
     },
     "user_tz": -330
    },
    "id": "8Ecw2ZmgIsCW",
    "outputId": "8246e1d6-7763-45f4-e2b8-cc8b669f0062"
   },
   "outputs": [
    {
     "data": {
      "text/plain": [
       "[]"
      ]
     },
     "execution_count": 64,
     "metadata": {},
     "output_type": "execute_result"
    },
    {
     "data": {
      "image/png": "[encoded data removed]",
      "text/plain": [
       "<Figure size 640x480 with 1 Axes>"
      ]
     },
     "metadata": {},
     "output_type": "display_data"
    }
   ],
   "source": [
    "index1 = 2\n",
    "plt.plot(p1x_pre[index1], p1y_pre[index1])\n",
    "plt.plot(p1x_post[index1], p1y_post[index1])\n",
    "plt.plot(p2x_pre[index1], p2y_pre[index1])\n",
    "plt.plot(p2x_post[index1], p2y_post[index1])\n",
    "\n",
    "plt.scatter(p2x_pre[index1,0], p2y_pre[index1,0], c='black')\n",
    "plt.scatter(p2x_pre[index1,-1], p2y_pre[index1,-1], c='red')\n",
    "plt.scatter(p2x_post[index1,[1,-1]], p2y_post[index1,[1,-1]], c='blue')\n",
    "ax = plt.gca()\n",
    "ax.set_xlim(-3,3)\n",
    "ax.set_ylim(-3,3)\n",
    "ax.set_aspect('equal')\n",
    "plt.plot()"
   ]
  },
  {
   "cell_type": "markdown",
   "metadata": {
    "id": "N3i-NI2UqXTS"
   },
   "source": [
    "## Create and Train Model"
   ]
  },
  {
   "cell_type": "code",
   "execution_count": 65,
   "metadata": {
    "colab": {
     "base_uri": "https://localhost:8080/"
    },
    "executionInfo": {
     "elapsed": 1470,
     "status": "ok",
     "timestamp": 1721156389223,
     "user": {
      "displayName": "Adarsh Vishwakarma",
      "userId": "08228595058095443271"
     },
     "user_tz": -330
    },
    "id": "AEnqHiRH6jF2",
    "outputId": "4f17203f-4b3d-44b8-b57d-27fb8a660adc"
   },
   "outputs": [
    {
     "name": "stdout",
     "output_type": "stream",
     "text": [
      "(500000, 5)\n",
      "(500000, 5)\n",
      "(500000, 5)\n"
     ]
    }
   ],
   "source": [
    "train_samples = int(5e5)\n",
    "t_pre_collision_train, p1x_pre_train, p1y_pre_train, p2x_pre_train, p2y_pre_train, t_collision_train, t_post_collision_train, p1x_post_train, p1y_post_train, p2x_post_train, p2y_post_train, t_prediction_train, p2x_prediction_train, p2y_prediction_train, lin_train = generateData(omega_min=0.1, omega_max=1.5, samples=train_samples)\n",
    "print(t_pre_collision_train.shape)\n",
    "print(p1x_pre_train.shape)\n",
    "print(p2x_pre_train.shape)"
   ]
  },
  {
   "cell_type": "code",
   "execution_count": 66,
   "metadata": {},
   "outputs": [],
   "source": [
    "collision = ScNN(input_size=30, encoder_layer=[150,100], latent_size=1, question_size=16, decoder_layer=[100,100], output_size=2, beta_rec=2, beta_kl=0, activation='tanh')"
   ]
  },
  {
   "cell_type": "code",
   "execution_count": 67,
   "metadata": {},
   "outputs": [],
   "source": [
    "combined_input = keras.layers.Concatenate()([t_pre_collision_train, p1x_pre_train, p1y_pre_train, t_pre_collision_train, p2x_pre_train, p2y_pre_train])\n",
    "combined_question = keras.layers.Concatenate()([t_prediction_train, t_post_collision_train, p1x_post_train, p1y_post_train])\n",
    "combined_answer = keras.layers.Concatenate()([p2x_prediction_train, p2y_prediction_train])"
   ]
  },
  {
   "cell_type": "code",
   "execution_count": 68,
   "metadata": {
    "colab": {
     "base_uri": "https://localhost:8080/"
    },
    "collapsed": true,
    "executionInfo": {
     "elapsed": 386472,
     "status": "ok",
     "timestamp": 1721157993355,
     "user": {
      "displayName": "Adarsh Vishwakarma",
      "userId": "08228595058095443271"
     },
     "user_tz": -330
    },
    "id": "FdojiDzY1cJ1",
    "jupyter": {
     "outputs_hidden": true
    },
    "outputId": "3d12c812-e090-4e06-a376-7647e1b1ac81",
    "scrolled": true
   },
   "outputs": [
    {
     "name": "stdout",
     "output_type": "stream",
     "text": [
      "Epoch 1/100\n",
      "\u001b[1m1000/1000\u001b[0m \u001b[32m━━━━━━━━━━━━━━━━━━━━\u001b[0m\u001b[37m\u001b[0m \u001b[1m3s\u001b[0m 2ms/step - kl_loss: 0.0000e+00 - reconstruction_loss: 1.4767 - total_loss: 1.4767\n",
      "Epoch 2/100\n",
      "\u001b[1m1000/1000\u001b[0m \u001b[32m━━━━━━━━━━━━━━━━━━━━\u001b[0m\u001b[37m\u001b[0m \u001b[1m2s\u001b[0m 2ms/step - kl_loss: 0.0000e+00 - reconstruction_loss: 0.0416 - total_loss: 0.0416\n",
      "Epoch 3/100\n",
      "\u001b[1m1000/1000\u001b[0m \u001b[32m━━━━━━━━━━━━━━━━━━━━\u001b[0m\u001b[37m\u001b[0m \u001b[1m2s\u001b[0m 2ms/step - kl_loss: 0.0000e+00 - reconstruction_loss: 0.0139 - total_loss: 0.0139\n",
      "Epoch 4/100\n",
      "\u001b[1m1000/1000\u001b[0m \u001b[32m━━━━━━━━━━━━━━━━━━━━\u001b[0m\u001b[37m\u001b[0m \u001b[1m2s\u001b[0m 2ms/step - kl_loss: 0.0000e+00 - reconstruction_loss: 0.0071 - total_loss: 0.0071\n",
      "Epoch 5/100\n",
      "\u001b[1m1000/1000\u001b[0m \u001b[32m━━━━━━━━━━━━━━━━━━━━\u001b[0m\u001b[37m\u001b[0m \u001b[1m2s\u001b[0m 2ms/step - kl_loss: 0.0000e+00 - reconstruction_loss: 0.0045 - total_loss: 0.0045\n",
      "Epoch 6/100\n",
      "\u001b[1m1000/1000\u001b[0m \u001b[32m━━━━━━━━━━━━━━━━━━━━\u001b[0m\u001b[37m\u001b[0m \u001b[1m2s\u001b[0m 2ms/step - kl_loss: 0.0000e+00 - reconstruction_loss: 0.0036 - total_loss: 0.0036\n",
      "Epoch 7/100\n",
      "\u001b[1m1000/1000\u001b[0m \u001b[32m━━━━━━━━━━━━━━━━━━━━\u001b[0m\u001b[37m\u001b[0m \u001b[1m2s\u001b[0m 2ms/step - kl_loss: 0.0000e+00 - reconstruction_loss: 0.0031 - total_loss: 0.0031\n",
      "Epoch 8/100\n",
      "\u001b[1m1000/1000\u001b[0m \u001b[32m━━━━━━━━━━━━━━━━━━━━\u001b[0m\u001b[37m\u001b[0m \u001b[1m2s\u001b[0m 2ms/step - kl_loss: 0.0000e+00 - reconstruction_loss: 0.0025 - total_loss: 0.0025\n",
      "Epoch 9/100\n",
      "\u001b[1m1000/1000\u001b[0m \u001b[32m━━━━━━━━━━━━━━━━━━━━\u001b[0m\u001b[37m\u001b[0m \u001b[1m2s\u001b[0m 2ms/step - kl_loss: 0.0000e+00 - reconstruction_loss: 0.0024 - total_loss: 0.0024\n",
      "Epoch 10/100\n",
      "\u001b[1m1000/1000\u001b[0m \u001b[32m━━━━━━━━━━━━━━━━━━━━\u001b[0m\u001b[37m\u001b[0m \u001b[1m2s\u001b[0m 2ms/step - kl_loss: 0.0000e+00 - reconstruction_loss: 0.0018 - total_loss: 0.0018\n",
      "Epoch 11/100\n",
      "\u001b[1m1000/1000\u001b[0m \u001b[32m━━━━━━━━━━━━━━━━━━━━\u001b[0m\u001b[37m\u001b[0m \u001b[1m2s\u001b[0m 2ms/step - kl_loss: 0.0000e+00 - reconstruction_loss: 0.0017 - total_loss: 0.0017\n",
      "Epoch 12/100\n",
      "\u001b[1m1000/1000\u001b[0m \u001b[32m━━━━━━━━━━━━━━━━━━━━\u001b[0m\u001b[37m\u001b[0m \u001b[1m2s\u001b[0m 2ms/step - kl_loss: 0.0000e+00 - reconstruction_loss: 0.0018 - total_loss: 0.0018\n",
      "Epoch 13/100\n",
      "\u001b[1m1000/1000\u001b[0m \u001b[32m━━━━━━━━━━━━━━━━━━━━\u001b[0m\u001b[37m\u001b[0m \u001b[1m2s\u001b[0m 2ms/step - kl_loss: 0.0000e+00 - reconstruction_loss: 0.0015 - total_loss: 0.0015\n",
      "Epoch 14/100\n",
      "\u001b[1m1000/1000\u001b[0m \u001b[32m━━━━━━━━━━━━━━━━━━━━\u001b[0m\u001b[37m\u001b[0m \u001b[1m2s\u001b[0m 2ms/step - kl_loss: 0.0000e+00 - reconstruction_loss: 0.0015 - total_loss: 0.0015\n",
      "Epoch 15/100\n",
      "\u001b[1m1000/1000\u001b[0m \u001b[32m━━━━━━━━━━━━━━━━━━━━\u001b[0m\u001b[37m\u001b[0m \u001b[1m2s\u001b[0m 2ms/step - kl_loss: 0.0000e+00 - reconstruction_loss: 0.0021 - total_loss: 0.0021\n",
      "Epoch 16/100\n",
      "\u001b[1m1000/1000\u001b[0m \u001b[32m━━━━━━━━━━━━━━━━━━━━\u001b[0m\u001b[37m\u001b[0m \u001b[1m2s\u001b[0m 2ms/step - kl_loss: 0.0000e+00 - reconstruction_loss: 0.0014 - total_loss: 0.0014\n",
      "Epoch 17/100\n",
      "\u001b[1m1000/1000\u001b[0m \u001b[32m━━━━━━━━━━━━━━━━━━━━\u001b[0m\u001b[37m\u001b[0m \u001b[1m2s\u001b[0m 2ms/step - kl_loss: 0.0000e+00 - reconstruction_loss: 0.0012 - total_loss: 0.0012\n",
      "Epoch 18/100\n",
      "\u001b[1m1000/1000\u001b[0m \u001b[32m━━━━━━━━━━━━━━━━━━━━\u001b[0m\u001b[37m\u001b[0m \u001b[1m2s\u001b[0m 2ms/step - kl_loss: 0.0000e+00 - reconstruction_loss: 0.0011 - total_loss: 0.0011\n",
      "Epoch 19/100\n",
      "\u001b[1m1000/1000\u001b[0m \u001b[32m━━━━━━━━━━━━━━━━━━━━\u001b[0m\u001b[37m\u001b[0m \u001b[1m2s\u001b[0m 2ms/step - kl_loss: 0.0000e+00 - reconstruction_loss: 0.0011 - total_loss: 0.0011\n",
      "Epoch 20/100\n",
      "\u001b[1m1000/1000\u001b[0m \u001b[32m━━━━━━━━━━━━━━━━━━━━\u001b[0m\u001b[37m\u001b[0m \u001b[1m2s\u001b[0m 2ms/step - kl_loss: 0.0000e+00 - reconstruction_loss: 0.0010 - total_loss: 0.0010\n",
      "Epoch 21/100\n",
      "\u001b[1m1000/1000\u001b[0m \u001b[32m━━━━━━━━━━━━━━━━━━━━\u001b[0m\u001b[37m\u001b[0m \u001b[1m2s\u001b[0m 2ms/step - kl_loss: 0.0000e+00 - reconstruction_loss: 0.0011 - total_loss: 0.0011\n",
      "Epoch 22/100\n",
      "\u001b[1m1000/1000\u001b[0m \u001b[32m━━━━━━━━━━━━━━━━━━━━\u001b[0m\u001b[37m\u001b[0m \u001b[1m2s\u001b[0m 2ms/step - kl_loss: 0.0000e+00 - reconstruction_loss: 0.0010 - total_loss: 0.0010\n",
      "Epoch 23/100\n",
      "\u001b[1m1000/1000\u001b[0m \u001b[32m━━━━━━━━━━━━━━━━━━━━\u001b[0m\u001b[37m\u001b[0m \u001b[1m2s\u001b[0m 2ms/step - kl_loss: 0.0000e+00 - reconstruction_loss: 9.2702e-04 - total_loss: 9.2702e-04\n",
      "Epoch 24/100\n",
      "\u001b[1m1000/1000\u001b[0m \u001b[32m━━━━━━━━━━━━━━━━━━━━\u001b[0m\u001b[37m\u001b[0m \u001b[1m2s\u001b[0m 2ms/step - kl_loss: 0.0000e+00 - reconstruction_loss: 8.9822e-04 - total_loss: 8.9822e-04\n",
      "Epoch 25/100\n",
      "\u001b[1m1000/1000\u001b[0m \u001b[32m━━━━━━━━━━━━━━━━━━━━\u001b[0m\u001b[37m\u001b[0m \u001b[1m2s\u001b[0m 2ms/step - kl_loss: 0.0000e+00 - reconstruction_loss: 0.0010 - total_loss: 0.0010\n",
      "Epoch 26/100\n",
      "\u001b[1m1000/1000\u001b[0m \u001b[32m━━━━━━━━━━━━━━━━━━━━\u001b[0m\u001b[37m\u001b[0m \u001b[1m2s\u001b[0m 2ms/step - kl_loss: 0.0000e+00 - reconstruction_loss: 9.2611e-04 - total_loss: 9.2611e-04\n",
      "Epoch 27/100\n",
      "\u001b[1m1000/1000\u001b[0m \u001b[32m━━━━━━━━━━━━━━━━━━━━\u001b[0m\u001b[37m\u001b[0m \u001b[1m2s\u001b[0m 2ms/step - kl_loss: 0.0000e+00 - reconstruction_loss: 9.1465e-04 - total_loss: 9.1465e-04\n",
      "Epoch 28/100\n",
      "\u001b[1m1000/1000\u001b[0m \u001b[32m━━━━━━━━━━━━━━━━━━━━\u001b[0m\u001b[37m\u001b[0m \u001b[1m2s\u001b[0m 2ms/step - kl_loss: 0.0000e+00 - reconstruction_loss: 5.6961e-04 - total_loss: 5.6961e-04\n",
      "Epoch 29/100\n",
      "\u001b[1m1000/1000\u001b[0m \u001b[32m━━━━━━━━━━━━━━━━━━━━\u001b[0m\u001b[37m\u001b[0m \u001b[1m2s\u001b[0m 2ms/step - kl_loss: 0.0000e+00 - reconstruction_loss: 7.6454e-04 - total_loss: 7.6454e-04\n",
      "Epoch 30/100\n",
      "\u001b[1m1000/1000\u001b[0m \u001b[32m━━━━━━━━━━━━━━━━━━━━\u001b[0m\u001b[37m\u001b[0m \u001b[1m2s\u001b[0m 2ms/step - kl_loss: 0.0000e+00 - reconstruction_loss: 8.6029e-04 - total_loss: 8.6029e-04\n",
      "Epoch 31/100\n",
      "\u001b[1m1000/1000\u001b[0m \u001b[32m━━━━━━━━━━━━━━━━━━━━\u001b[0m\u001b[37m\u001b[0m \u001b[1m2s\u001b[0m 2ms/step - kl_loss: 0.0000e+00 - reconstruction_loss: 7.8787e-04 - total_loss: 7.8787e-04\n",
      "Epoch 32/100\n",
      "\u001b[1m1000/1000\u001b[0m \u001b[32m━━━━━━━━━━━━━━━━━━━━\u001b[0m\u001b[37m\u001b[0m \u001b[1m2s\u001b[0m 2ms/step - kl_loss: 0.0000e+00 - reconstruction_loss: 4.0225e-04 - total_loss: 4.0225e-04\n",
      "Epoch 33/100\n",
      "\u001b[1m1000/1000\u001b[0m \u001b[32m━━━━━━━━━━━━━━━━━━━━\u001b[0m\u001b[37m\u001b[0m \u001b[1m2s\u001b[0m 2ms/step - kl_loss: 0.0000e+00 - reconstruction_loss: 7.7942e-04 - total_loss: 7.7942e-04\n",
      "Epoch 34/100\n",
      "\u001b[1m1000/1000\u001b[0m \u001b[32m━━━━━━━━━━━━━━━━━━━━\u001b[0m\u001b[37m\u001b[0m \u001b[1m2s\u001b[0m 2ms/step - kl_loss: 0.0000e+00 - reconstruction_loss: 6.7730e-04 - total_loss: 6.7730e-04\n",
      "Epoch 35/100\n",
      "\u001b[1m1000/1000\u001b[0m \u001b[32m━━━━━━━━━━━━━━━━━━━━\u001b[0m\u001b[37m\u001b[0m \u001b[1m2s\u001b[0m 2ms/step - kl_loss: 0.0000e+00 - reconstruction_loss: 8.6949e-04 - total_loss: 8.6949e-04\n",
      "Epoch 36/100\n",
      "\u001b[1m1000/1000\u001b[0m \u001b[32m━━━━━━━━━━━━━━━━━━━━\u001b[0m\u001b[37m\u001b[0m \u001b[1m2s\u001b[0m 2ms/step - kl_loss: 0.0000e+00 - reconstruction_loss: 7.0042e-04 - total_loss: 7.0042e-04\n",
      "Epoch 37/100\n",
      "\u001b[1m1000/1000\u001b[0m \u001b[32m━━━━━━━━━━━━━━━━━━━━\u001b[0m\u001b[37m\u001b[0m \u001b[1m2s\u001b[0m 2ms/step - kl_loss: 0.0000e+00 - reconstruction_loss: 9.4571e-04 - total_loss: 9.4571e-04\n",
      "Epoch 38/100\n",
      "\u001b[1m1000/1000\u001b[0m \u001b[32m━━━━━━━━━━━━━━━━━━━━\u001b[0m\u001b[37m\u001b[0m \u001b[1m2s\u001b[0m 2ms/step - kl_loss: 0.0000e+00 - reconstruction_loss: 7.2874e-04 - total_loss: 7.2874e-04\n",
      "Epoch 39/100\n",
      "\u001b[1m1000/1000\u001b[0m \u001b[32m━━━━━━━━━━━━━━━━━━━━\u001b[0m\u001b[37m\u001b[0m \u001b[1m2s\u001b[0m 2ms/step - kl_loss: 0.0000e+00 - reconstruction_loss: 6.2589e-04 - total_loss: 6.2589e-04\n",
      "Epoch 40/100\n",
      "\u001b[1m1000/1000\u001b[0m \u001b[32m━━━━━━━━━━━━━━━━━━━━\u001b[0m\u001b[37m\u001b[0m \u001b[1m2s\u001b[0m 2ms/step - kl_loss: 0.0000e+00 - reconstruction_loss: 4.8543e-04 - total_loss: 4.8543e-04\n",
      "Epoch 41/100\n",
      "\u001b[1m1000/1000\u001b[0m \u001b[32m━━━━━━━━━━━━━━━━━━━━\u001b[0m\u001b[37m\u001b[0m \u001b[1m2s\u001b[0m 2ms/step - kl_loss: 0.0000e+00 - reconstruction_loss: 7.1875e-04 - total_loss: 7.1875e-04\n",
      "Epoch 42/100\n",
      "\u001b[1m1000/1000\u001b[0m \u001b[32m━━━━━━━━━━━━━━━━━━━━\u001b[0m\u001b[37m\u001b[0m \u001b[1m2s\u001b[0m 2ms/step - kl_loss: 0.0000e+00 - reconstruction_loss: 6.2666e-04 - total_loss: 6.2666e-04\n",
      "Epoch 43/100\n",
      "\u001b[1m1000/1000\u001b[0m \u001b[32m━━━━━━━━━━━━━━━━━━━━\u001b[0m\u001b[37m\u001b[0m \u001b[1m2s\u001b[0m 2ms/step - kl_loss: 0.0000e+00 - reconstruction_loss: 7.6374e-04 - total_loss: 7.6374e-04\n",
      "Epoch 44/100\n",
      "\u001b[1m1000/1000\u001b[0m \u001b[32m━━━━━━━━━━━━━━━━━━━━\u001b[0m\u001b[37m\u001b[0m \u001b[1m2s\u001b[0m 2ms/step - kl_loss: 0.0000e+00 - reconstruction_loss: 3.0128e-04 - total_loss: 3.0128e-04\n",
      "Epoch 45/100\n",
      "\u001b[1m1000/1000\u001b[0m \u001b[32m━━━━━━━━━━━━━━━━━━━━\u001b[0m\u001b[37m\u001b[0m \u001b[1m2s\u001b[0m 2ms/step - kl_loss: 0.0000e+00 - reconstruction_loss: 6.4461e-04 - total_loss: 6.4461e-04\n",
      "Epoch 46/100\n",
      "\u001b[1m1000/1000\u001b[0m \u001b[32m━━━━━━━━━━━━━━━━━━━━\u001b[0m\u001b[37m\u001b[0m \u001b[1m2s\u001b[0m 2ms/step - kl_loss: 0.0000e+00 - reconstruction_loss: 6.0546e-04 - total_loss: 6.0546e-04\n",
      "Epoch 47/100\n",
      "\u001b[1m1000/1000\u001b[0m \u001b[32m━━━━━━━━━━━━━━━━━━━━\u001b[0m\u001b[37m\u001b[0m \u001b[1m2s\u001b[0m 2ms/step - kl_loss: 0.0000e+00 - reconstruction_loss: 7.7176e-04 - total_loss: 7.7176e-04\n",
      "Epoch 48/100\n",
      "\u001b[1m1000/1000\u001b[0m \u001b[32m━━━━━━━━━━━━━━━━━━━━\u001b[0m\u001b[37m\u001b[0m \u001b[1m2s\u001b[0m 2ms/step - kl_loss: 0.0000e+00 - reconstruction_loss: 7.1832e-04 - total_loss: 7.1832e-04\n",
      "Epoch 49/100\n",
      "\u001b[1m1000/1000\u001b[0m \u001b[32m━━━━━━━━━━━━━━━━━━━━\u001b[0m\u001b[37m\u001b[0m \u001b[1m2s\u001b[0m 2ms/step - kl_loss: 0.0000e+00 - reconstruction_loss: 3.9629e-04 - total_loss: 3.9629e-04\n",
      "Epoch 50/100\n",
      "\u001b[1m1000/1000\u001b[0m \u001b[32m━━━━━━━━━━━━━━━━━━━━\u001b[0m\u001b[37m\u001b[0m \u001b[1m2s\u001b[0m 2ms/step - kl_loss: 0.0000e+00 - reconstruction_loss: 5.2463e-04 - total_loss: 5.2463e-04\n",
      "Epoch 51/100\n",
      "\u001b[1m1000/1000\u001b[0m \u001b[32m━━━━━━━━━━━━━━━━━━━━\u001b[0m\u001b[37m\u001b[0m \u001b[1m2s\u001b[0m 2ms/step - kl_loss: 0.0000e+00 - reconstruction_loss: 5.6000e-04 - total_loss: 5.6000e-04\n",
      "Epoch 52/100\n",
      "\u001b[1m1000/1000\u001b[0m \u001b[32m━━━━━━━━━━━━━━━━━━━━\u001b[0m\u001b[37m\u001b[0m \u001b[1m2s\u001b[0m 2ms/step - kl_loss: 0.0000e+00 - reconstruction_loss: 6.1020e-04 - total_loss: 6.1020e-04\n",
      "Epoch 53/100\n",
      "\u001b[1m1000/1000\u001b[0m \u001b[32m━━━━━━━━━━━━━━━━━━━━\u001b[0m\u001b[37m\u001b[0m \u001b[1m2s\u001b[0m 2ms/step - kl_loss: 0.0000e+00 - reconstruction_loss: 4.8933e-04 - total_loss: 4.8933e-04\n",
      "Epoch 54/100\n",
      "\u001b[1m1000/1000\u001b[0m \u001b[32m━━━━━━━━━━━━━━━━━━━━\u001b[0m\u001b[37m\u001b[0m \u001b[1m2s\u001b[0m 2ms/step - kl_loss: 0.0000e+00 - reconstruction_loss: 6.0670e-04 - total_loss: 6.0670e-04\n",
      "Epoch 55/100\n",
      "\u001b[1m1000/1000\u001b[0m \u001b[32m━━━━━━━━━━━━━━━━━━━━\u001b[0m\u001b[37m\u001b[0m \u001b[1m2s\u001b[0m 2ms/step - kl_loss: 0.0000e+00 - reconstruction_loss: 6.3047e-04 - total_loss: 6.3047e-04\n",
      "Epoch 56/100\n",
      "\u001b[1m1000/1000\u001b[0m \u001b[32m━━━━━━━━━━━━━━━━━━━━\u001b[0m\u001b[37m\u001b[0m \u001b[1m2s\u001b[0m 2ms/step - kl_loss: 0.0000e+00 - reconstruction_loss: 5.2778e-04 - total_loss: 5.2778e-04\n",
      "Epoch 57/100\n",
      "\u001b[1m1000/1000\u001b[0m \u001b[32m━━━━━━━━━━━━━━━━━━━━\u001b[0m\u001b[37m\u001b[0m \u001b[1m2s\u001b[0m 2ms/step - kl_loss: 0.0000e+00 - reconstruction_loss: 4.8992e-04 - total_loss: 4.8992e-04\n",
      "Epoch 58/100\n",
      "\u001b[1m1000/1000\u001b[0m \u001b[32m━━━━━━━━━━━━━━━━━━━━\u001b[0m\u001b[37m\u001b[0m \u001b[1m2s\u001b[0m 2ms/step - kl_loss: 0.0000e+00 - reconstruction_loss: 4.6351e-04 - total_loss: 4.6351e-04\n",
      "Epoch 59/100\n",
      "\u001b[1m1000/1000\u001b[0m \u001b[32m━━━━━━━━━━━━━━━━━━━━\u001b[0m\u001b[37m\u001b[0m \u001b[1m2s\u001b[0m 2ms/step - kl_loss: 0.0000e+00 - reconstruction_loss: 3.6682e-04 - total_loss: 3.6682e-04\n",
      "Epoch 60/100\n",
      "\u001b[1m1000/1000\u001b[0m \u001b[32m━━━━━━━━━━━━━━━━━━━━\u001b[0m\u001b[37m\u001b[0m \u001b[1m2s\u001b[0m 2ms/step - kl_loss: 0.0000e+00 - reconstruction_loss: 5.9496e-04 - total_loss: 5.9496e-04\n",
      "Epoch 61/100\n",
      "\u001b[1m1000/1000\u001b[0m \u001b[32m━━━━━━━━━━━━━━━━━━━━\u001b[0m\u001b[37m\u001b[0m \u001b[1m2s\u001b[0m 2ms/step - kl_loss: 0.0000e+00 - reconstruction_loss: 5.0640e-04 - total_loss: 5.0640e-04\n",
      "Epoch 62/100\n",
      "\u001b[1m1000/1000\u001b[0m \u001b[32m━━━━━━━━━━━━━━━━━━━━\u001b[0m\u001b[37m\u001b[0m \u001b[1m2s\u001b[0m 2ms/step - kl_loss: 0.0000e+00 - reconstruction_loss: 6.2863e-04 - total_loss: 6.2863e-04\n",
      "Epoch 63/100\n",
      "\u001b[1m1000/1000\u001b[0m \u001b[32m━━━━━━━━━━━━━━━━━━━━\u001b[0m\u001b[37m\u001b[0m \u001b[1m2s\u001b[0m 2ms/step - kl_loss: 0.0000e+00 - reconstruction_loss: 3.5768e-04 - total_loss: 3.5768e-04\n",
      "Epoch 64/100\n",
      "\u001b[1m1000/1000\u001b[0m \u001b[32m━━━━━━━━━━━━━━━━━━━━\u001b[0m\u001b[37m\u001b[0m \u001b[1m2s\u001b[0m 2ms/step - kl_loss: 0.0000e+00 - reconstruction_loss: 5.6360e-04 - total_loss: 5.6360e-04\n",
      "Epoch 65/100\n",
      "\u001b[1m1000/1000\u001b[0m \u001b[32m━━━━━━━━━━━━━━━━━━━━\u001b[0m\u001b[37m\u001b[0m \u001b[1m2s\u001b[0m 2ms/step - kl_loss: 0.0000e+00 - reconstruction_loss: 5.2182e-04 - total_loss: 5.2182e-04\n",
      "Epoch 66/100\n",
      "\u001b[1m1000/1000\u001b[0m \u001b[32m━━━━━━━━━━━━━━━━━━━━\u001b[0m\u001b[37m\u001b[0m \u001b[1m2s\u001b[0m 2ms/step - kl_loss: 0.0000e+00 - reconstruction_loss: 4.9116e-04 - total_loss: 4.9116e-04\n",
      "Epoch 67/100\n",
      "\u001b[1m1000/1000\u001b[0m \u001b[32m━━━━━━━━━━━━━━━━━━━━\u001b[0m\u001b[37m\u001b[0m \u001b[1m2s\u001b[0m 2ms/step - kl_loss: 0.0000e+00 - reconstruction_loss: 5.7084e-04 - total_loss: 5.7084e-04\n",
      "Epoch 68/100\n",
      "\u001b[1m1000/1000\u001b[0m \u001b[32m━━━━━━━━━━━━━━━━━━━━\u001b[0m\u001b[37m\u001b[0m \u001b[1m2s\u001b[0m 2ms/step - kl_loss: 0.0000e+00 - reconstruction_loss: 4.8658e-04 - total_loss: 4.8658e-04\n",
      "Epoch 69/100\n",
      "\u001b[1m1000/1000\u001b[0m \u001b[32m━━━━━━━━━━━━━━━━━━━━\u001b[0m\u001b[37m\u001b[0m \u001b[1m2s\u001b[0m 2ms/step - kl_loss: 0.0000e+00 - reconstruction_loss: 2.1691e-04 - total_loss: 2.1691e-04\n",
      "Epoch 70/100\n",
      "\u001b[1m1000/1000\u001b[0m \u001b[32m━━━━━━━━━━━━━━━━━━━━\u001b[0m\u001b[37m\u001b[0m \u001b[1m2s\u001b[0m 2ms/step - kl_loss: 0.0000e+00 - reconstruction_loss: 4.9017e-04 - total_loss: 4.9017e-04\n",
      "Epoch 71/100\n",
      "\u001b[1m1000/1000\u001b[0m \u001b[32m━━━━━━━━━━━━━━━━━━━━\u001b[0m\u001b[37m\u001b[0m \u001b[1m2s\u001b[0m 2ms/step - kl_loss: 0.0000e+00 - reconstruction_loss: 6.8666e-04 - total_loss: 6.8666e-04\n",
      "Epoch 72/100\n",
      "\u001b[1m1000/1000\u001b[0m \u001b[32m━━━━━━━━━━━━━━━━━━━━\u001b[0m\u001b[37m\u001b[0m \u001b[1m2s\u001b[0m 2ms/step - kl_loss: 0.0000e+00 - reconstruction_loss: 4.3538e-04 - total_loss: 4.3538e-04\n",
      "Epoch 73/100\n",
      "\u001b[1m1000/1000\u001b[0m \u001b[32m━━━━━━━━━━━━━━━━━━━━\u001b[0m\u001b[37m\u001b[0m \u001b[1m2s\u001b[0m 2ms/step - kl_loss: 0.0000e+00 - reconstruction_loss: 6.2312e-04 - total_loss: 6.2312e-04\n",
      "Epoch 74/100\n",
      "\u001b[1m1000/1000\u001b[0m \u001b[32m━━━━━━━━━━━━━━━━━━━━\u001b[0m\u001b[37m\u001b[0m \u001b[1m2s\u001b[0m 2ms/step - kl_loss: 0.0000e+00 - reconstruction_loss: 5.4418e-04 - total_loss: 5.4418e-04\n",
      "Epoch 75/100\n",
      "\u001b[1m1000/1000\u001b[0m \u001b[32m━━━━━━━━━━━━━━━━━━━━\u001b[0m\u001b[37m\u001b[0m \u001b[1m2s\u001b[0m 2ms/step - kl_loss: 0.0000e+00 - reconstruction_loss: 5.8412e-04 - total_loss: 5.8412e-04\n",
      "Epoch 76/100\n",
      "\u001b[1m1000/1000\u001b[0m \u001b[32m━━━━━━━━━━━━━━━━━━━━\u001b[0m\u001b[37m\u001b[0m \u001b[1m2s\u001b[0m 2ms/step - kl_loss: 0.0000e+00 - reconstruction_loss: 4.4124e-04 - total_loss: 4.4124e-04\n",
      "Epoch 77/100\n",
      "\u001b[1m1000/1000\u001b[0m \u001b[32m━━━━━━━━━━━━━━━━━━━━\u001b[0m\u001b[37m\u001b[0m \u001b[1m2s\u001b[0m 2ms/step - kl_loss: 0.0000e+00 - reconstruction_loss: 5.1234e-04 - total_loss: 5.1234e-04\n",
      "Epoch 78/100\n",
      "\u001b[1m1000/1000\u001b[0m \u001b[32m━━━━━━━━━━━━━━━━━━━━\u001b[0m\u001b[37m\u001b[0m \u001b[1m2s\u001b[0m 2ms/step - kl_loss: 0.0000e+00 - reconstruction_loss: 5.5717e-04 - total_loss: 5.5717e-04\n",
      "Epoch 79/100\n",
      "\u001b[1m1000/1000\u001b[0m \u001b[32m━━━━━━━━━━━━━━━━━━━━\u001b[0m\u001b[37m\u001b[0m \u001b[1m2s\u001b[0m 2ms/step - kl_loss: 0.0000e+00 - reconstruction_loss: 5.6974e-04 - total_loss: 5.6974e-04\n",
      "Epoch 80/100\n",
      "\u001b[1m1000/1000\u001b[0m \u001b[32m━━━━━━━━━━━━━━━━━━━━\u001b[0m\u001b[37m\u001b[0m \u001b[1m2s\u001b[0m 2ms/step - kl_loss: 0.0000e+00 - reconstruction_loss: 4.1959e-04 - total_loss: 4.1959e-04\n",
      "Epoch 81/100\n",
      "\u001b[1m1000/1000\u001b[0m \u001b[32m━━━━━━━━━━━━━━━━━━━━\u001b[0m\u001b[37m\u001b[0m \u001b[1m2s\u001b[0m 2ms/step - kl_loss: 0.0000e+00 - reconstruction_loss: 3.9276e-04 - total_loss: 3.9276e-04\n",
      "Epoch 82/100\n",
      "\u001b[1m1000/1000\u001b[0m \u001b[32m━━━━━━━━━━━━━━━━━━━━\u001b[0m\u001b[37m\u001b[0m \u001b[1m2s\u001b[0m 2ms/step - kl_loss: 0.0000e+00 - reconstruction_loss: 4.2212e-04 - total_loss: 4.2212e-04\n",
      "Epoch 83/100\n",
      "\u001b[1m1000/1000\u001b[0m \u001b[32m━━━━━━━━━━━━━━━━━━━━\u001b[0m\u001b[37m\u001b[0m \u001b[1m2s\u001b[0m 2ms/step - kl_loss: 0.0000e+00 - reconstruction_loss: 5.4702e-04 - total_loss: 5.4702e-04\n",
      "Epoch 84/100\n",
      "\u001b[1m1000/1000\u001b[0m \u001b[32m━━━━━━━━━━━━━━━━━━━━\u001b[0m\u001b[37m\u001b[0m \u001b[1m2s\u001b[0m 2ms/step - kl_loss: 0.0000e+00 - reconstruction_loss: 4.5865e-04 - total_loss: 4.5865e-04\n",
      "Epoch 85/100\n",
      "\u001b[1m1000/1000\u001b[0m \u001b[32m━━━━━━━━━━━━━━━━━━━━\u001b[0m\u001b[37m\u001b[0m \u001b[1m2s\u001b[0m 2ms/step - kl_loss: 0.0000e+00 - reconstruction_loss: 4.7440e-04 - total_loss: 4.7440e-04\n",
      "Epoch 86/100\n",
      "\u001b[1m1000/1000\u001b[0m \u001b[32m━━━━━━━━━━━━━━━━━━━━\u001b[0m\u001b[37m\u001b[0m \u001b[1m2s\u001b[0m 2ms/step - kl_loss: 0.0000e+00 - reconstruction_loss: 5.2262e-04 - total_loss: 5.2262e-04\n",
      "Epoch 87/100\n",
      "\u001b[1m1000/1000\u001b[0m \u001b[32m━━━━━━━━━━━━━━━━━━━━\u001b[0m\u001b[37m\u001b[0m \u001b[1m2s\u001b[0m 2ms/step - kl_loss: 0.0000e+00 - reconstruction_loss: 5.0505e-04 - total_loss: 5.0505e-04\n",
      "Epoch 88/100\n",
      "\u001b[1m1000/1000\u001b[0m \u001b[32m━━━━━━━━━━━━━━━━━━━━\u001b[0m\u001b[37m\u001b[0m \u001b[1m2s\u001b[0m 2ms/step - kl_loss: 0.0000e+00 - reconstruction_loss: 3.9502e-04 - total_loss: 3.9502e-04\n",
      "Epoch 89/100\n",
      "\u001b[1m1000/1000\u001b[0m \u001b[32m━━━━━━━━━━━━━━━━━━━━\u001b[0m\u001b[37m\u001b[0m \u001b[1m2s\u001b[0m 2ms/step - kl_loss: 0.0000e+00 - reconstruction_loss: 4.6639e-04 - total_loss: 4.6639e-04\n",
      "Epoch 90/100\n",
      "\u001b[1m1000/1000\u001b[0m \u001b[32m━━━━━━━━━━━━━━━━━━━━\u001b[0m\u001b[37m\u001b[0m \u001b[1m2s\u001b[0m 2ms/step - kl_loss: 0.0000e+00 - reconstruction_loss: 3.5700e-04 - total_loss: 3.5700e-04\n",
      "Epoch 91/100\n",
      "\u001b[1m1000/1000\u001b[0m \u001b[32m━━━━━━━━━━━━━━━━━━━━\u001b[0m\u001b[37m\u001b[0m \u001b[1m2s\u001b[0m 2ms/step - kl_loss: 0.0000e+00 - reconstruction_loss: 3.9876e-04 - total_loss: 3.9876e-04\n",
      "Epoch 92/100\n",
      "\u001b[1m1000/1000\u001b[0m \u001b[32m━━━━━━━━━━━━━━━━━━━━\u001b[0m\u001b[37m\u001b[0m \u001b[1m2s\u001b[0m 2ms/step - kl_loss: 0.0000e+00 - reconstruction_loss: 5.1579e-04 - total_loss: 5.1579e-04\n",
      "Epoch 93/100\n",
      "\u001b[1m1000/1000\u001b[0m \u001b[32m━━━━━━━━━━━━━━━━━━━━\u001b[0m\u001b[37m\u001b[0m \u001b[1m2s\u001b[0m 2ms/step - kl_loss: 0.0000e+00 - reconstruction_loss: 3.8680e-04 - total_loss: 3.8680e-04\n",
      "Epoch 94/100\n",
      "\u001b[1m1000/1000\u001b[0m \u001b[32m━━━━━━━━━━━━━━━━━━━━\u001b[0m\u001b[37m\u001b[0m \u001b[1m2s\u001b[0m 2ms/step - kl_loss: 0.0000e+00 - reconstruction_loss: 4.8610e-04 - total_loss: 4.8610e-04\n",
      "Epoch 95/100\n",
      "\u001b[1m1000/1000\u001b[0m \u001b[32m━━━━━━━━━━━━━━━━━━━━\u001b[0m\u001b[37m\u001b[0m \u001b[1m2s\u001b[0m 2ms/step - kl_loss: 0.0000e+00 - reconstruction_loss: 4.3008e-04 - total_loss: 4.3008e-04\n",
      "Epoch 96/100\n",
      "\u001b[1m1000/1000\u001b[0m \u001b[32m━━━━━━━━━━━━━━━━━━━━\u001b[0m\u001b[37m\u001b[0m \u001b[1m2s\u001b[0m 2ms/step - kl_loss: 0.0000e+00 - reconstruction_loss: 5.3356e-04 - total_loss: 5.3356e-04\n",
      "Epoch 97/100\n",
      "\u001b[1m1000/1000\u001b[0m \u001b[32m━━━━━━━━━━━━━━━━━━━━\u001b[0m\u001b[37m\u001b[0m \u001b[1m2s\u001b[0m 2ms/step - kl_loss: 0.0000e+00 - reconstruction_loss: 4.0221e-04 - total_loss: 4.0221e-04\n",
      "Epoch 98/100\n",
      "\u001b[1m1000/1000\u001b[0m \u001b[32m━━━━━━━━━━━━━━━━━━━━\u001b[0m\u001b[37m\u001b[0m \u001b[1m2s\u001b[0m 2ms/step - kl_loss: 0.0000e+00 - reconstruction_loss: 4.8523e-04 - total_loss: 4.8523e-04\n",
      "Epoch 99/100\n",
      "\u001b[1m1000/1000\u001b[0m \u001b[32m━━━━━━━━━━━━━━━━━━━━\u001b[0m\u001b[37m\u001b[0m \u001b[1m2s\u001b[0m 2ms/step - kl_loss: 0.0000e+00 - reconstruction_loss: 5.3706e-04 - total_loss: 5.3706e-04\n",
      "Epoch 100/100\n",
      "\u001b[1m1000/1000\u001b[0m \u001b[32m━━━━━━━━━━━━━━━━━━━━\u001b[0m\u001b[37m\u001b[0m \u001b[1m2s\u001b[0m 2ms/step - kl_loss: 0.0000e+00 - reconstruction_loss: 6.3379e-04 - total_loss: 6.3379e-04\n"
     ]
    },
    {
     "data": {
      "text/plain": [
       "<keras.src.callbacks.history.History at 0x7f596c56f560>"
      ]
     },
     "execution_count": 68,
     "metadata": {},
     "output_type": "execute_result"
    }
   ],
   "source": [
    "learning_rate = 1e-3\n",
    "batch_size=500\n",
    "epochs=100\n",
    "\n",
    "collision.compile(optimizer=keras.optimizers.Adam(learning_rate=learning_rate))\n",
    "collision.fit({'time_series': combined_input, 't_question': combined_question, 'answer': combined_answer}, batch_size=batch_size, epochs=epochs)"
   ]
  },
  {
   "cell_type": "code",
   "execution_count": 79,
   "metadata": {
    "colab": {
     "base_uri": "https://localhost:8080/"
    },
    "collapsed": true,
    "executionInfo": {
     "elapsed": 386472,
     "status": "ok",
     "timestamp": 1721157993355,
     "user": {
      "displayName": "Adarsh Vishwakarma",
      "userId": "08228595058095443271"
     },
     "user_tz": -330
    },
    "id": "FdojiDzY1cJ1",
    "jupyter": {
     "outputs_hidden": true
    },
    "outputId": "3d12c812-e090-4e06-a376-7647e1b1ac81",
    "scrolled": true
   },
   "outputs": [
    {
     "name": "stdout",
     "output_type": "stream",
     "text": [
      "Epoch 1/100\n",
      "\u001b[1m1000/1000\u001b[0m \u001b[32m━━━━━━━━━━━━━━━━━━━━\u001b[0m\u001b[37m\u001b[0m \u001b[1m3s\u001b[0m 2ms/step - kl_loss: 0.0000e+00 - reconstruction_loss: 0.0017 - total_loss: 0.0017\n",
      "Epoch 2/100\n",
      "\u001b[1m1000/1000\u001b[0m \u001b[32m━━━━━━━━━━━━━━━━━━━━\u001b[0m\u001b[37m\u001b[0m \u001b[1m2s\u001b[0m 2ms/step - kl_loss: 0.0000e+00 - reconstruction_loss: 3.0946e-05 - total_loss: 3.0946e-05\n",
      "Epoch 3/100\n",
      "\u001b[1m1000/1000\u001b[0m \u001b[32m━━━━━━━━━━━━━━━━━━━━\u001b[0m\u001b[37m\u001b[0m \u001b[1m2s\u001b[0m 2ms/step - kl_loss: 0.0000e+00 - reconstruction_loss: 1.1952e-04 - total_loss: 1.1952e-04\n",
      "Epoch 4/100\n",
      "\u001b[1m1000/1000\u001b[0m \u001b[32m━━━━━━━━━━━━━━━━━━━━\u001b[0m\u001b[37m\u001b[0m \u001b[1m2s\u001b[0m 2ms/step - kl_loss: 0.0000e+00 - reconstruction_loss: 1.1314e-04 - total_loss: 1.1314e-04\n",
      "Epoch 5/100\n",
      "\u001b[1m1000/1000\u001b[0m \u001b[32m━━━━━━━━━━━━━━━━━━━━\u001b[0m\u001b[37m\u001b[0m \u001b[1m2s\u001b[0m 2ms/step - kl_loss: 0.0000e+00 - reconstruction_loss: 1.4018e-04 - total_loss: 1.4018e-04\n",
      "Epoch 6/100\n",
      "\u001b[1m1000/1000\u001b[0m \u001b[32m━━━━━━━━━━━━━━━━━━━━\u001b[0m\u001b[37m\u001b[0m \u001b[1m2s\u001b[0m 2ms/step - kl_loss: 0.0000e+00 - reconstruction_loss: 7.3882e-05 - total_loss: 7.3882e-05\n",
      "Epoch 7/100\n",
      "\u001b[1m1000/1000\u001b[0m \u001b[32m━━━━━━━━━━━━━━━━━━━━\u001b[0m\u001b[37m\u001b[0m \u001b[1m2s\u001b[0m 2ms/step - kl_loss: 0.0000e+00 - reconstruction_loss: 1.1907e-04 - total_loss: 1.1907e-04\n",
      "Epoch 8/100\n",
      "\u001b[1m1000/1000\u001b[0m \u001b[32m━━━━━━━━━━━━━━━━━━━━\u001b[0m\u001b[37m\u001b[0m \u001b[1m2s\u001b[0m 2ms/step - kl_loss: 0.0000e+00 - reconstruction_loss: 1.2566e-04 - total_loss: 1.2566e-04\n",
      "Epoch 9/100\n",
      "\u001b[1m1000/1000\u001b[0m \u001b[32m━━━━━━━━━━━━━━━━━━━━\u001b[0m\u001b[37m\u001b[0m \u001b[1m2s\u001b[0m 2ms/step - kl_loss: 0.0000e+00 - reconstruction_loss: 1.3102e-04 - total_loss: 1.3102e-04\n",
      "Epoch 10/100\n",
      "\u001b[1m1000/1000\u001b[0m \u001b[32m━━━━━━━━━━━━━━━━━━━━\u001b[0m\u001b[37m\u001b[0m \u001b[1m2s\u001b[0m 2ms/step - kl_loss: 0.0000e+00 - reconstruction_loss: 1.0246e-04 - total_loss: 1.0246e-04\n",
      "Epoch 11/100\n",
      "\u001b[1m1000/1000\u001b[0m \u001b[32m━━━━━━━━━━━━━━━━━━━━\u001b[0m\u001b[37m\u001b[0m \u001b[1m2s\u001b[0m 2ms/step - kl_loss: 0.0000e+00 - reconstruction_loss: 1.0465e-04 - total_loss: 1.0465e-04\n",
      "Epoch 12/100\n",
      "\u001b[1m1000/1000\u001b[0m \u001b[32m━━━━━━━━━━━━━━━━━━━━\u001b[0m\u001b[37m\u001b[0m \u001b[1m2s\u001b[0m 2ms/step - kl_loss: 0.0000e+00 - reconstruction_loss: 1.2714e-04 - total_loss: 1.2714e-04\n",
      "Epoch 13/100\n",
      "\u001b[1m1000/1000\u001b[0m \u001b[32m━━━━━━━━━━━━━━━━━━━━\u001b[0m\u001b[37m\u001b[0m \u001b[1m2s\u001b[0m 2ms/step - kl_loss: 0.0000e+00 - reconstruction_loss: 1.3453e-04 - total_loss: 1.3453e-04\n",
      "Epoch 14/100\n",
      "\u001b[1m1000/1000\u001b[0m \u001b[32m━━━━━━━━━━━━━━━━━━━━\u001b[0m\u001b[37m\u001b[0m \u001b[1m2s\u001b[0m 2ms/step - kl_loss: 0.0000e+00 - reconstruction_loss: 1.3525e-04 - total_loss: 1.3525e-04\n",
      "Epoch 15/100\n",
      "\u001b[1m1000/1000\u001b[0m \u001b[32m━━━━━━━━━━━━━━━━━━━━\u001b[0m\u001b[37m\u001b[0m \u001b[1m2s\u001b[0m 2ms/step - kl_loss: 0.0000e+00 - reconstruction_loss: 1.3357e-04 - total_loss: 1.3357e-04\n",
      "Epoch 16/100\n",
      "\u001b[1m1000/1000\u001b[0m \u001b[32m━━━━━━━━━━━━━━━━━━━━\u001b[0m\u001b[37m\u001b[0m \u001b[1m2s\u001b[0m 2ms/step - kl_loss: 0.0000e+00 - reconstruction_loss: 1.1238e-04 - total_loss: 1.1238e-04\n",
      "Epoch 17/100\n",
      "\u001b[1m1000/1000\u001b[0m \u001b[32m━━━━━━━━━━━━━━━━━━━━\u001b[0m\u001b[37m\u001b[0m \u001b[1m2s\u001b[0m 2ms/step - kl_loss: 0.0000e+00 - reconstruction_loss: 1.1854e-04 - total_loss: 1.1854e-04\n",
      "Epoch 18/100\n",
      "\u001b[1m1000/1000\u001b[0m \u001b[32m━━━━━━━━━━━━━━━━━━━━\u001b[0m\u001b[37m\u001b[0m \u001b[1m2s\u001b[0m 2ms/step - kl_loss: 0.0000e+00 - reconstruction_loss: 1.3337e-04 - total_loss: 1.3337e-04\n",
      "Epoch 19/100\n",
      "\u001b[1m1000/1000\u001b[0m \u001b[32m━━━━━━━━━━━━━━━━━━━━\u001b[0m\u001b[37m\u001b[0m \u001b[1m2s\u001b[0m 2ms/step - kl_loss: 0.0000e+00 - reconstruction_loss: 9.0322e-05 - total_loss: 9.0322e-05\n",
      "Epoch 20/100\n",
      "\u001b[1m1000/1000\u001b[0m \u001b[32m━━━━━━━━━━━━━━━━━━━━\u001b[0m\u001b[37m\u001b[0m \u001b[1m2s\u001b[0m 2ms/step - kl_loss: 0.0000e+00 - reconstruction_loss: 7.7345e-05 - total_loss: 7.7345e-05\n",
      "Epoch 21/100\n",
      "\u001b[1m1000/1000\u001b[0m \u001b[32m━━━━━━━━━━━━━━━━━━━━\u001b[0m\u001b[37m\u001b[0m \u001b[1m2s\u001b[0m 2ms/step - kl_loss: 0.0000e+00 - reconstruction_loss: 1.5244e-04 - total_loss: 1.5244e-04\n",
      "Epoch 22/100\n",
      "\u001b[1m1000/1000\u001b[0m \u001b[32m━━━━━━━━━━━━━━━━━━━━\u001b[0m\u001b[37m\u001b[0m \u001b[1m2s\u001b[0m 2ms/step - kl_loss: 0.0000e+00 - reconstruction_loss: 1.1854e-04 - total_loss: 1.1854e-04\n",
      "Epoch 23/100\n",
      "\u001b[1m1000/1000\u001b[0m \u001b[32m━━━━━━━━━━━━━━━━━━━━\u001b[0m\u001b[37m\u001b[0m \u001b[1m2s\u001b[0m 2ms/step - kl_loss: 0.0000e+00 - reconstruction_loss: 7.2904e-05 - total_loss: 7.2904e-05\n",
      "Epoch 24/100\n",
      "\u001b[1m1000/1000\u001b[0m \u001b[32m━━━━━━━━━━━━━━━━━━━━\u001b[0m\u001b[37m\u001b[0m \u001b[1m2s\u001b[0m 2ms/step - kl_loss: 0.0000e+00 - reconstruction_loss: 8.2111e-05 - total_loss: 8.2111e-05\n",
      "Epoch 25/100\n",
      "\u001b[1m1000/1000\u001b[0m \u001b[32m━━━━━━━━━━━━━━━━━━━━\u001b[0m\u001b[37m\u001b[0m \u001b[1m2s\u001b[0m 2ms/step - kl_loss: 0.0000e+00 - reconstruction_loss: 1.0204e-04 - total_loss: 1.0204e-04\n",
      "Epoch 26/100\n",
      "\u001b[1m1000/1000\u001b[0m \u001b[32m━━━━━━━━━━━━━━━━━━━━\u001b[0m\u001b[37m\u001b[0m \u001b[1m2s\u001b[0m 2ms/step - kl_loss: 0.0000e+00 - reconstruction_loss: 1.4729e-04 - total_loss: 1.4729e-04\n",
      "Epoch 27/100\n",
      "\u001b[1m1000/1000\u001b[0m \u001b[32m━━━━━━━━━━━━━━━━━━━━\u001b[0m\u001b[37m\u001b[0m \u001b[1m2s\u001b[0m 2ms/step - kl_loss: 0.0000e+00 - reconstruction_loss: 9.6396e-05 - total_loss: 9.6396e-05\n",
      "Epoch 28/100\n",
      "\u001b[1m1000/1000\u001b[0m \u001b[32m━━━━━━━━━━━━━━━━━━━━\u001b[0m\u001b[37m\u001b[0m \u001b[1m2s\u001b[0m 2ms/step - kl_loss: 0.0000e+00 - reconstruction_loss: 9.5868e-05 - total_loss: 9.5868e-05\n",
      "Epoch 29/100\n",
      "\u001b[1m1000/1000\u001b[0m \u001b[32m━━━━━━━━━━━━━━━━━━━━\u001b[0m\u001b[37m\u001b[0m \u001b[1m2s\u001b[0m 2ms/step - kl_loss: 0.0000e+00 - reconstruction_loss: 1.0960e-04 - total_loss: 1.0960e-04\n",
      "Epoch 30/100\n",
      "\u001b[1m1000/1000\u001b[0m \u001b[32m━━━━━━━━━━━━━━━━━━━━\u001b[0m\u001b[37m\u001b[0m \u001b[1m2s\u001b[0m 2ms/step - kl_loss: 0.0000e+00 - reconstruction_loss: 1.1559e-04 - total_loss: 1.1559e-04\n",
      "Epoch 31/100\n",
      "\u001b[1m1000/1000\u001b[0m \u001b[32m━━━━━━━━━━━━━━━━━━━━\u001b[0m\u001b[37m\u001b[0m \u001b[1m2s\u001b[0m 2ms/step - kl_loss: 0.0000e+00 - reconstruction_loss: 1.0876e-04 - total_loss: 1.0876e-04\n",
      "Epoch 32/100\n",
      "\u001b[1m1000/1000\u001b[0m \u001b[32m━━━━━━━━━━━━━━━━━━━━\u001b[0m\u001b[37m\u001b[0m \u001b[1m2s\u001b[0m 2ms/step - kl_loss: 0.0000e+00 - reconstruction_loss: 1.1348e-04 - total_loss: 1.1348e-04\n",
      "Epoch 33/100\n",
      "\u001b[1m1000/1000\u001b[0m \u001b[32m━━━━━━━━━━━━━━━━━━━━\u001b[0m\u001b[37m\u001b[0m \u001b[1m2s\u001b[0m 2ms/step - kl_loss: 0.0000e+00 - reconstruction_loss: 1.0228e-04 - total_loss: 1.0228e-04\n",
      "Epoch 34/100\n",
      "\u001b[1m1000/1000\u001b[0m \u001b[32m━━━━━━━━━━━━━━━━━━━━\u001b[0m\u001b[37m\u001b[0m \u001b[1m2s\u001b[0m 2ms/step - kl_loss: 0.0000e+00 - reconstruction_loss: 1.2558e-04 - total_loss: 1.2558e-04\n",
      "Epoch 35/100\n",
      "\u001b[1m1000/1000\u001b[0m \u001b[32m━━━━━━━━━━━━━━━━━━━━\u001b[0m\u001b[37m\u001b[0m \u001b[1m2s\u001b[0m 2ms/step - kl_loss: 0.0000e+00 - reconstruction_loss: 9.1703e-05 - total_loss: 9.1703e-05\n",
      "Epoch 36/100\n",
      "\u001b[1m1000/1000\u001b[0m \u001b[32m━━━━━━━━━━━━━━━━━━━━\u001b[0m\u001b[37m\u001b[0m \u001b[1m2s\u001b[0m 2ms/step - kl_loss: 0.0000e+00 - reconstruction_loss: 1.0402e-04 - total_loss: 1.0402e-04\n",
      "Epoch 37/100\n",
      "\u001b[1m1000/1000\u001b[0m \u001b[32m━━━━━━━━━━━━━━━━━━━━\u001b[0m\u001b[37m\u001b[0m \u001b[1m2s\u001b[0m 2ms/step - kl_loss: 0.0000e+00 - reconstruction_loss: 1.0321e-04 - total_loss: 1.0321e-04\n",
      "Epoch 38/100\n",
      "\u001b[1m1000/1000\u001b[0m \u001b[32m━━━━━━━━━━━━━━━━━━━━\u001b[0m\u001b[37m\u001b[0m \u001b[1m2s\u001b[0m 2ms/step - kl_loss: 0.0000e+00 - reconstruction_loss: 1.0263e-04 - total_loss: 1.0263e-04\n",
      "Epoch 39/100\n",
      "\u001b[1m1000/1000\u001b[0m \u001b[32m━━━━━━━━━━━━━━━━━━━━\u001b[0m\u001b[37m\u001b[0m \u001b[1m2s\u001b[0m 2ms/step - kl_loss: 0.0000e+00 - reconstruction_loss: 1.4144e-04 - total_loss: 1.4144e-04\n",
      "Epoch 40/100\n",
      "\u001b[1m1000/1000\u001b[0m \u001b[32m━━━━━━━━━━━━━━━━━━━━\u001b[0m\u001b[37m\u001b[0m \u001b[1m2s\u001b[0m 2ms/step - kl_loss: 0.0000e+00 - reconstruction_loss: 1.0090e-04 - total_loss: 1.0090e-04\n",
      "Epoch 41/100\n",
      "\u001b[1m1000/1000\u001b[0m \u001b[32m━━━━━━━━━━━━━━━━━━━━\u001b[0m\u001b[37m\u001b[0m \u001b[1m2s\u001b[0m 2ms/step - kl_loss: 0.0000e+00 - reconstruction_loss: 9.1753e-05 - total_loss: 9.1753e-05\n",
      "Epoch 42/100\n",
      "\u001b[1m1000/1000\u001b[0m \u001b[32m━━━━━━━━━━━━━━━━━━━━\u001b[0m\u001b[37m\u001b[0m \u001b[1m2s\u001b[0m 2ms/step - kl_loss: 0.0000e+00 - reconstruction_loss: 1.2757e-04 - total_loss: 1.2757e-04\n",
      "Epoch 43/100\n",
      "\u001b[1m1000/1000\u001b[0m \u001b[32m━━━━━━━━━━━━━━━━━━━━\u001b[0m\u001b[37m\u001b[0m \u001b[1m2s\u001b[0m 2ms/step - kl_loss: 0.0000e+00 - reconstruction_loss: 1.3714e-04 - total_loss: 1.3714e-04\n",
      "Epoch 44/100\n",
      "\u001b[1m1000/1000\u001b[0m \u001b[32m━━━━━━━━━━━━━━━━━━━━\u001b[0m\u001b[37m\u001b[0m \u001b[1m2s\u001b[0m 2ms/step - kl_loss: 0.0000e+00 - reconstruction_loss: 9.8413e-05 - total_loss: 9.8413e-05\n",
      "Epoch 45/100\n",
      "\u001b[1m1000/1000\u001b[0m \u001b[32m━━━━━━━━━━━━━━━━━━━━\u001b[0m\u001b[37m\u001b[0m \u001b[1m2s\u001b[0m 2ms/step - kl_loss: 0.0000e+00 - reconstruction_loss: 8.8814e-05 - total_loss: 8.8814e-05\n",
      "Epoch 46/100\n",
      "\u001b[1m1000/1000\u001b[0m \u001b[32m━━━━━━━━━━━━━━━━━━━━\u001b[0m\u001b[37m\u001b[0m \u001b[1m2s\u001b[0m 2ms/step - kl_loss: 0.0000e+00 - reconstruction_loss: 1.1761e-04 - total_loss: 1.1761e-04\n",
      "Epoch 47/100\n",
      "\u001b[1m1000/1000\u001b[0m \u001b[32m━━━━━━━━━━━━━━━━━━━━\u001b[0m\u001b[37m\u001b[0m \u001b[1m2s\u001b[0m 2ms/step - kl_loss: 0.0000e+00 - reconstruction_loss: 1.1841e-04 - total_loss: 1.1841e-04\n",
      "Epoch 48/100\n",
      "\u001b[1m1000/1000\u001b[0m \u001b[32m━━━━━━━━━━━━━━━━━━━━\u001b[0m\u001b[37m\u001b[0m \u001b[1m2s\u001b[0m 2ms/step - kl_loss: 0.0000e+00 - reconstruction_loss: 1.0960e-04 - total_loss: 1.0960e-04\n",
      "Epoch 49/100\n",
      "\u001b[1m1000/1000\u001b[0m \u001b[32m━━━━━━━━━━━━━━━━━━━━\u001b[0m\u001b[37m\u001b[0m \u001b[1m2s\u001b[0m 2ms/step - kl_loss: 0.0000e+00 - reconstruction_loss: 1.2517e-04 - total_loss: 1.2517e-04\n",
      "Epoch 50/100\n",
      "\u001b[1m1000/1000\u001b[0m \u001b[32m━━━━━━━━━━━━━━━━━━━━\u001b[0m\u001b[37m\u001b[0m \u001b[1m2s\u001b[0m 2ms/step - kl_loss: 0.0000e+00 - reconstruction_loss: 1.3776e-04 - total_loss: 1.3776e-04\n",
      "Epoch 51/100\n",
      "\u001b[1m1000/1000\u001b[0m \u001b[32m━━━━━━━━━━━━━━━━━━━━\u001b[0m\u001b[37m\u001b[0m \u001b[1m2s\u001b[0m 2ms/step - kl_loss: 0.0000e+00 - reconstruction_loss: 1.4629e-04 - total_loss: 1.4629e-04\n",
      "Epoch 52/100\n",
      "\u001b[1m1000/1000\u001b[0m \u001b[32m━━━━━━━━━━━━━━━━━━━━\u001b[0m\u001b[37m\u001b[0m \u001b[1m2s\u001b[0m 2ms/step - kl_loss: 0.0000e+00 - reconstruction_loss: 9.2582e-05 - total_loss: 9.2582e-05\n",
      "Epoch 53/100\n",
      "\u001b[1m1000/1000\u001b[0m \u001b[32m━━━━━━━━━━━━━━━━━━━━\u001b[0m\u001b[37m\u001b[0m \u001b[1m2s\u001b[0m 2ms/step - kl_loss: 0.0000e+00 - reconstruction_loss: 1.6437e-04 - total_loss: 1.6437e-04\n",
      "Epoch 54/100\n",
      "\u001b[1m1000/1000\u001b[0m \u001b[32m━━━━━━━━━━━━━━━━━━━━\u001b[0m\u001b[37m\u001b[0m \u001b[1m2s\u001b[0m 2ms/step - kl_loss: 0.0000e+00 - reconstruction_loss: 8.7295e-05 - total_loss: 8.7295e-05\n",
      "Epoch 55/100\n",
      "\u001b[1m1000/1000\u001b[0m \u001b[32m━━━━━━━━━━━━━━━━━━━━\u001b[0m\u001b[37m\u001b[0m \u001b[1m2s\u001b[0m 2ms/step - kl_loss: 0.0000e+00 - reconstruction_loss: 1.2034e-04 - total_loss: 1.2034e-04\n",
      "Epoch 56/100\n",
      "\u001b[1m1000/1000\u001b[0m \u001b[32m━━━━━━━━━━━━━━━━━━━━\u001b[0m\u001b[37m\u001b[0m \u001b[1m2s\u001b[0m 2ms/step - kl_loss: 0.0000e+00 - reconstruction_loss: 1.4561e-04 - total_loss: 1.4561e-04\n",
      "Epoch 57/100\n",
      "\u001b[1m1000/1000\u001b[0m \u001b[32m━━━━━━━━━━━━━━━━━━━━\u001b[0m\u001b[37m\u001b[0m \u001b[1m2s\u001b[0m 2ms/step - kl_loss: 0.0000e+00 - reconstruction_loss: 8.2749e-05 - total_loss: 8.2749e-05\n",
      "Epoch 58/100\n",
      "\u001b[1m1000/1000\u001b[0m \u001b[32m━━━━━━━━━━━━━━━━━━━━\u001b[0m\u001b[37m\u001b[0m \u001b[1m2s\u001b[0m 2ms/step - kl_loss: 0.0000e+00 - reconstruction_loss: 1.1300e-04 - total_loss: 1.1300e-04\n",
      "Epoch 59/100\n",
      "\u001b[1m1000/1000\u001b[0m \u001b[32m━━━━━━━━━━━━━━━━━━━━\u001b[0m\u001b[37m\u001b[0m \u001b[1m2s\u001b[0m 2ms/step - kl_loss: 0.0000e+00 - reconstruction_loss: 6.9818e-05 - total_loss: 6.9818e-05\n",
      "Epoch 60/100\n",
      "\u001b[1m1000/1000\u001b[0m \u001b[32m━━━━━━━━━━━━━━━━━━━━\u001b[0m\u001b[37m\u001b[0m \u001b[1m2s\u001b[0m 2ms/step - kl_loss: 0.0000e+00 - reconstruction_loss: 1.4065e-04 - total_loss: 1.4065e-04\n",
      "Epoch 61/100\n",
      "\u001b[1m1000/1000\u001b[0m \u001b[32m━━━━━━━━━━━━━━━━━━━━\u001b[0m\u001b[37m\u001b[0m \u001b[1m2s\u001b[0m 2ms/step - kl_loss: 0.0000e+00 - reconstruction_loss: 8.4101e-05 - total_loss: 8.4101e-05\n",
      "Epoch 62/100\n",
      "\u001b[1m1000/1000\u001b[0m \u001b[32m━━━━━━━━━━━━━━━━━━━━\u001b[0m\u001b[37m\u001b[0m \u001b[1m2s\u001b[0m 2ms/step - kl_loss: 0.0000e+00 - reconstruction_loss: 1.1099e-04 - total_loss: 1.1099e-04\n",
      "Epoch 63/100\n",
      "\u001b[1m1000/1000\u001b[0m \u001b[32m━━━━━━━━━━━━━━━━━━━━\u001b[0m\u001b[37m\u001b[0m \u001b[1m2s\u001b[0m 2ms/step - kl_loss: 0.0000e+00 - reconstruction_loss: 1.1836e-04 - total_loss: 1.1836e-04\n",
      "Epoch 64/100\n",
      "\u001b[1m1000/1000\u001b[0m \u001b[32m━━━━━━━━━━━━━━━━━━━━\u001b[0m\u001b[37m\u001b[0m \u001b[1m2s\u001b[0m 2ms/step - kl_loss: 0.0000e+00 - reconstruction_loss: 1.0811e-04 - total_loss: 1.0811e-04\n",
      "Epoch 65/100\n",
      "\u001b[1m1000/1000\u001b[0m \u001b[32m━━━━━━━━━━━━━━━━━━━━\u001b[0m\u001b[37m\u001b[0m \u001b[1m2s\u001b[0m 2ms/step - kl_loss: 0.0000e+00 - reconstruction_loss: 1.3735e-04 - total_loss: 1.3735e-04\n",
      "Epoch 66/100\n",
      "\u001b[1m1000/1000\u001b[0m \u001b[32m━━━━━━━━━━━━━━━━━━━━\u001b[0m\u001b[37m\u001b[0m \u001b[1m2s\u001b[0m 2ms/step - kl_loss: 0.0000e+00 - reconstruction_loss: 1.1334e-04 - total_loss: 1.1334e-04\n",
      "Epoch 67/100\n",
      "\u001b[1m1000/1000\u001b[0m \u001b[32m━━━━━━━━━━━━━━━━━━━━\u001b[0m\u001b[37m\u001b[0m \u001b[1m2s\u001b[0m 2ms/step - kl_loss: 0.0000e+00 - reconstruction_loss: 9.5390e-05 - total_loss: 9.5390e-05\n",
      "Epoch 68/100\n",
      "\u001b[1m1000/1000\u001b[0m \u001b[32m━━━━━━━━━━━━━━━━━━━━\u001b[0m\u001b[37m\u001b[0m \u001b[1m2s\u001b[0m 2ms/step - kl_loss: 0.0000e+00 - reconstruction_loss: 9.5259e-05 - total_loss: 9.5259e-05\n",
      "Epoch 69/100\n",
      "\u001b[1m1000/1000\u001b[0m \u001b[32m━━━━━━━━━━━━━━━━━━━━\u001b[0m\u001b[37m\u001b[0m \u001b[1m2s\u001b[0m 2ms/step - kl_loss: 0.0000e+00 - reconstruction_loss: 9.6986e-05 - total_loss: 9.6986e-05\n",
      "Epoch 70/100\n",
      "\u001b[1m1000/1000\u001b[0m \u001b[32m━━━━━━━━━━━━━━━━━━━━\u001b[0m\u001b[37m\u001b[0m \u001b[1m2s\u001b[0m 2ms/step - kl_loss: 0.0000e+00 - reconstruction_loss: 9.3814e-05 - total_loss: 9.3814e-05\n",
      "Epoch 71/100\n",
      "\u001b[1m1000/1000\u001b[0m \u001b[32m━━━━━━━━━━━━━━━━━━━━\u001b[0m\u001b[37m\u001b[0m \u001b[1m2s\u001b[0m 2ms/step - kl_loss: 0.0000e+00 - reconstruction_loss: 1.4171e-04 - total_loss: 1.4171e-04\n",
      "Epoch 72/100\n",
      "\u001b[1m1000/1000\u001b[0m \u001b[32m━━━━━━━━━━━━━━━━━━━━\u001b[0m\u001b[37m\u001b[0m \u001b[1m2s\u001b[0m 2ms/step - kl_loss: 0.0000e+00 - reconstruction_loss: 1.1727e-04 - total_loss: 1.1727e-04\n",
      "Epoch 73/100\n",
      "\u001b[1m1000/1000\u001b[0m \u001b[32m━━━━━━━━━━━━━━━━━━━━\u001b[0m\u001b[37m\u001b[0m \u001b[1m2s\u001b[0m 2ms/step - kl_loss: 0.0000e+00 - reconstruction_loss: 1.1115e-04 - total_loss: 1.1115e-04\n",
      "Epoch 74/100\n",
      "\u001b[1m1000/1000\u001b[0m \u001b[32m━━━━━━━━━━━━━━━━━━━━\u001b[0m\u001b[37m\u001b[0m \u001b[1m2s\u001b[0m 2ms/step - kl_loss: 0.0000e+00 - reconstruction_loss: 8.7673e-05 - total_loss: 8.7673e-05\n",
      "Epoch 75/100\n",
      "\u001b[1m1000/1000\u001b[0m \u001b[32m━━━━━━━━━━━━━━━━━━━━\u001b[0m\u001b[37m\u001b[0m \u001b[1m2s\u001b[0m 2ms/step - kl_loss: 0.0000e+00 - reconstruction_loss: 1.1962e-04 - total_loss: 1.1962e-04\n",
      "Epoch 76/100\n",
      "\u001b[1m1000/1000\u001b[0m \u001b[32m━━━━━━━━━━━━━━━━━━━━\u001b[0m\u001b[37m\u001b[0m \u001b[1m2s\u001b[0m 2ms/step - kl_loss: 0.0000e+00 - reconstruction_loss: 1.2452e-04 - total_loss: 1.2452e-04\n",
      "Epoch 77/100\n",
      "\u001b[1m1000/1000\u001b[0m \u001b[32m━━━━━━━━━━━━━━━━━━━━\u001b[0m\u001b[37m\u001b[0m \u001b[1m2s\u001b[0m 2ms/step - kl_loss: 0.0000e+00 - reconstruction_loss: 9.2085e-05 - total_loss: 9.2085e-05\n",
      "Epoch 78/100\n",
      "\u001b[1m1000/1000\u001b[0m \u001b[32m━━━━━━━━━━━━━━━━━━━━\u001b[0m\u001b[37m\u001b[0m \u001b[1m2s\u001b[0m 2ms/step - kl_loss: 0.0000e+00 - reconstruction_loss: 1.0010e-04 - total_loss: 1.0010e-04\n",
      "Epoch 79/100\n",
      "\u001b[1m1000/1000\u001b[0m \u001b[32m━━━━━━━━━━━━━━━━━━━━\u001b[0m\u001b[37m\u001b[0m \u001b[1m2s\u001b[0m 2ms/step - kl_loss: 0.0000e+00 - reconstruction_loss: 1.0397e-04 - total_loss: 1.0397e-04\n",
      "Epoch 80/100\n",
      "\u001b[1m1000/1000\u001b[0m \u001b[32m━━━━━━━━━━━━━━━━━━━━\u001b[0m\u001b[37m\u001b[0m \u001b[1m2s\u001b[0m 2ms/step - kl_loss: 0.0000e+00 - reconstruction_loss: 1.0451e-04 - total_loss: 1.0451e-04\n",
      "Epoch 81/100\n",
      "\u001b[1m1000/1000\u001b[0m \u001b[32m━━━━━━━━━━━━━━━━━━━━\u001b[0m\u001b[37m\u001b[0m \u001b[1m2s\u001b[0m 2ms/step - kl_loss: 0.0000e+00 - reconstruction_loss: 8.6184e-05 - total_loss: 8.6184e-05\n",
      "Epoch 82/100\n",
      "\u001b[1m1000/1000\u001b[0m \u001b[32m━━━━━━━━━━━━━━━━━━━━\u001b[0m\u001b[37m\u001b[0m \u001b[1m2s\u001b[0m 2ms/step - kl_loss: 0.0000e+00 - reconstruction_loss: 9.3757e-05 - total_loss: 9.3757e-05\n",
      "Epoch 83/100\n",
      "\u001b[1m1000/1000\u001b[0m \u001b[32m━━━━━━━━━━━━━━━━━━━━\u001b[0m\u001b[37m\u001b[0m \u001b[1m2s\u001b[0m 2ms/step - kl_loss: 0.0000e+00 - reconstruction_loss: 9.4872e-05 - total_loss: 9.4872e-05\n",
      "Epoch 84/100\n",
      "\u001b[1m1000/1000\u001b[0m \u001b[32m━━━━━━━━━━━━━━━━━━━━\u001b[0m\u001b[37m\u001b[0m \u001b[1m2s\u001b[0m 2ms/step - kl_loss: 0.0000e+00 - reconstruction_loss: 1.0027e-04 - total_loss: 1.0027e-04\n",
      "Epoch 85/100\n",
      "\u001b[1m1000/1000\u001b[0m \u001b[32m━━━━━━━━━━━━━━━━━━━━\u001b[0m\u001b[37m\u001b[0m \u001b[1m2s\u001b[0m 2ms/step - kl_loss: 0.0000e+00 - reconstruction_loss: 1.0756e-04 - total_loss: 1.0756e-04\n",
      "Epoch 86/100\n",
      "\u001b[1m1000/1000\u001b[0m \u001b[32m━━━━━━━━━━━━━━━━━━━━\u001b[0m\u001b[37m\u001b[0m \u001b[1m2s\u001b[0m 2ms/step - kl_loss: 0.0000e+00 - reconstruction_loss: 1.0482e-04 - total_loss: 1.0482e-04\n",
      "Epoch 87/100\n",
      "\u001b[1m1000/1000\u001b[0m \u001b[32m━━━━━━━━━━━━━━━━━━━━\u001b[0m\u001b[37m\u001b[0m \u001b[1m2s\u001b[0m 2ms/step - kl_loss: 0.0000e+00 - reconstruction_loss: 1.2807e-04 - total_loss: 1.2807e-04\n",
      "Epoch 88/100\n",
      "\u001b[1m1000/1000\u001b[0m \u001b[32m━━━━━━━━━━━━━━━━━━━━\u001b[0m\u001b[37m\u001b[0m \u001b[1m2s\u001b[0m 2ms/step - kl_loss: 0.0000e+00 - reconstruction_loss: 1.3696e-04 - total_loss: 1.3696e-04\n",
      "Epoch 89/100\n",
      "\u001b[1m1000/1000\u001b[0m \u001b[32m━━━━━━━━━━━━━━━━━━━━\u001b[0m\u001b[37m\u001b[0m \u001b[1m2s\u001b[0m 2ms/step - kl_loss: 0.0000e+00 - reconstruction_loss: 1.0680e-04 - total_loss: 1.0680e-04\n",
      "Epoch 90/100\n",
      "\u001b[1m1000/1000\u001b[0m \u001b[32m━━━━━━━━━━━━━━━━━━━━\u001b[0m\u001b[37m\u001b[0m \u001b[1m2s\u001b[0m 2ms/step - kl_loss: 0.0000e+00 - reconstruction_loss: 1.1181e-04 - total_loss: 1.1181e-04\n",
      "Epoch 91/100\n",
      "\u001b[1m1000/1000\u001b[0m \u001b[32m━━━━━━━━━━━━━━━━━━━━\u001b[0m\u001b[37m\u001b[0m \u001b[1m2s\u001b[0m 2ms/step - kl_loss: 0.0000e+00 - reconstruction_loss: 9.3386e-05 - total_loss: 9.3386e-05\n",
      "Epoch 92/100\n",
      "\u001b[1m1000/1000\u001b[0m \u001b[32m━━━━━━━━━━━━━━━━━━━━\u001b[0m\u001b[37m\u001b[0m \u001b[1m2s\u001b[0m 2ms/step - kl_loss: 0.0000e+00 - reconstruction_loss: 8.7595e-05 - total_loss: 8.7595e-05\n",
      "Epoch 93/100\n",
      "\u001b[1m1000/1000\u001b[0m \u001b[32m━━━━━━━━━━━━━━━━━━━━\u001b[0m\u001b[37m\u001b[0m \u001b[1m2s\u001b[0m 2ms/step - kl_loss: 0.0000e+00 - reconstruction_loss: 9.5974e-05 - total_loss: 9.5974e-05\n",
      "Epoch 94/100\n",
      "\u001b[1m1000/1000\u001b[0m \u001b[32m━━━━━━━━━━━━━━━━━━━━\u001b[0m\u001b[37m\u001b[0m \u001b[1m2s\u001b[0m 2ms/step - kl_loss: 0.0000e+00 - reconstruction_loss: 8.9687e-05 - total_loss: 8.9687e-05\n",
      "Epoch 95/100\n",
      "\u001b[1m1000/1000\u001b[0m \u001b[32m━━━━━━━━━━━━━━━━━━━━\u001b[0m\u001b[37m\u001b[0m \u001b[1m2s\u001b[0m 2ms/step - kl_loss: 0.0000e+00 - reconstruction_loss: 1.1474e-04 - total_loss: 1.1474e-04\n",
      "Epoch 96/100\n",
      "\u001b[1m1000/1000\u001b[0m \u001b[32m━━━━━━━━━━━━━━━━━━━━\u001b[0m\u001b[37m\u001b[0m \u001b[1m2s\u001b[0m 2ms/step - kl_loss: 0.0000e+00 - reconstruction_loss: 7.7508e-05 - total_loss: 7.7508e-05\n",
      "Epoch 97/100\n",
      "\u001b[1m1000/1000\u001b[0m \u001b[32m━━━━━━━━━━━━━━━━━━━━\u001b[0m\u001b[37m\u001b[0m \u001b[1m2s\u001b[0m 2ms/step - kl_loss: 0.0000e+00 - reconstruction_loss: 7.9278e-05 - total_loss: 7.9278e-05\n",
      "Epoch 98/100\n",
      "\u001b[1m1000/1000\u001b[0m \u001b[32m━━━━━━━━━━━━━━━━━━━━\u001b[0m\u001b[37m\u001b[0m \u001b[1m2s\u001b[0m 2ms/step - kl_loss: 0.0000e+00 - reconstruction_loss: 6.9988e-05 - total_loss: 6.9988e-05\n",
      "Epoch 99/100\n",
      "\u001b[1m1000/1000\u001b[0m \u001b[32m━━━━━━━━━━━━━━━━━━━━\u001b[0m\u001b[37m\u001b[0m \u001b[1m2s\u001b[0m 2ms/step - kl_loss: 0.0000e+00 - reconstruction_loss: 8.0410e-05 - total_loss: 8.0410e-05\n",
      "Epoch 100/100\n",
      "\u001b[1m1000/1000\u001b[0m \u001b[32m━━━━━━━━━━━━━━━━━━━━\u001b[0m\u001b[37m\u001b[0m \u001b[1m2s\u001b[0m 2ms/step - kl_loss: 0.0000e+00 - reconstruction_loss: 9.9307e-05 - total_loss: 9.9307e-05\n"
     ]
    },
    {
     "data": {
      "text/plain": [
       "<keras.src.callbacks.history.History at 0x7f5946566a20>"
      ]
     },
     "execution_count": 79,
     "metadata": {},
     "output_type": "execute_result"
    }
   ],
   "source": [
    "learning_rate = 5e-4\n",
    "batch_size=500\n",
    "epochs=100\n",
    "\n",
    "collision.compile(optimizer=keras.optimizers.Adam(learning_rate=learning_rate))\n",
    "collision.fit({'time_series': combined_input, 't_question': combined_question, 'answer': combined_answer}, batch_size=batch_size, epochs=epochs)"
   ]
  },
  {
   "cell_type": "code",
   "execution_count": 87,
   "metadata": {
    "colab": {
     "base_uri": "https://localhost:8080/"
    },
    "executionInfo": {
     "elapsed": 386472,
     "status": "ok",
     "timestamp": 1721157993355,
     "user": {
      "displayName": "Adarsh Vishwakarma",
      "userId": "08228595058095443271"
     },
     "user_tz": -330
    },
    "id": "FdojiDzY1cJ1",
    "outputId": "3d12c812-e090-4e06-a376-7647e1b1ac81",
    "scrolled": true
   },
   "outputs": [
    {
     "name": "stdout",
     "output_type": "stream",
     "text": [
      "Epoch 1/50\n",
      "\u001b[1m1000/1000\u001b[0m \u001b[32m━━━━━━━━━━━━━━━━━━━━\u001b[0m\u001b[37m\u001b[0m \u001b[1m3s\u001b[0m 2ms/step - kl_loss: 0.0000e+00 - reconstruction_loss: 5.2262e-05 - total_loss: 5.2262e-05\n",
      "Epoch 2/50\n",
      "\u001b[1m1000/1000\u001b[0m \u001b[32m━━━━━━━━━━━━━━━━━━━━\u001b[0m\u001b[37m\u001b[0m \u001b[1m2s\u001b[0m 2ms/step - kl_loss: 0.0000e+00 - reconstruction_loss: 3.9998e-06 - total_loss: 3.9998e-06\n",
      "Epoch 3/50\n",
      "\u001b[1m1000/1000\u001b[0m \u001b[32m━━━━━━━━━━━━━━━━━━━━\u001b[0m\u001b[37m\u001b[0m \u001b[1m2s\u001b[0m 2ms/step - kl_loss: 0.0000e+00 - reconstruction_loss: 6.6763e-06 - total_loss: 6.6763e-06\n",
      "Epoch 4/50\n",
      "\u001b[1m1000/1000\u001b[0m \u001b[32m━━━━━━━━━━━━━━━━━━━━\u001b[0m\u001b[37m\u001b[0m \u001b[1m2s\u001b[0m 2ms/step - kl_loss: 0.0000e+00 - reconstruction_loss: 6.2216e-06 - total_loss: 6.2216e-06\n",
      "Epoch 5/50\n",
      "\u001b[1m1000/1000\u001b[0m \u001b[32m━━━━━━━━━━━━━━━━━━━━\u001b[0m\u001b[37m\u001b[0m \u001b[1m2s\u001b[0m 2ms/step - kl_loss: 0.0000e+00 - reconstruction_loss: 6.1311e-06 - total_loss: 6.1311e-06\n",
      "Epoch 6/50\n",
      "\u001b[1m1000/1000\u001b[0m \u001b[32m━━━━━━━━━━━━━━━━━━━━\u001b[0m\u001b[37m\u001b[0m \u001b[1m2s\u001b[0m 2ms/step - kl_loss: 0.0000e+00 - reconstruction_loss: 6.5718e-06 - total_loss: 6.5718e-06\n",
      "Epoch 7/50\n",
      "\u001b[1m1000/1000\u001b[0m \u001b[32m━━━━━━━━━━━━━━━━━━━━\u001b[0m\u001b[37m\u001b[0m \u001b[1m2s\u001b[0m 2ms/step - kl_loss: 0.0000e+00 - reconstruction_loss: 5.9947e-06 - total_loss: 5.9947e-06\n",
      "Epoch 8/50\n",
      "\u001b[1m1000/1000\u001b[0m \u001b[32m━━━━━━━━━━━━━━━━━━━━\u001b[0m\u001b[37m\u001b[0m \u001b[1m2s\u001b[0m 2ms/step - kl_loss: 0.0000e+00 - reconstruction_loss: 5.9753e-06 - total_loss: 5.9753e-06\n",
      "Epoch 9/50\n",
      "\u001b[1m1000/1000\u001b[0m \u001b[32m━━━━━━━━━━━━━━━━━━━━\u001b[0m\u001b[37m\u001b[0m \u001b[1m2s\u001b[0m 2ms/step - kl_loss: 0.0000e+00 - reconstruction_loss: 6.5290e-06 - total_loss: 6.5290e-06\n",
      "Epoch 10/50\n",
      "\u001b[1m1000/1000\u001b[0m \u001b[32m━━━━━━━━━━━━━━━━━━━━\u001b[0m\u001b[37m\u001b[0m \u001b[1m2s\u001b[0m 2ms/step - kl_loss: 0.0000e+00 - reconstruction_loss: 6.2236e-06 - total_loss: 6.2236e-06\n",
      "Epoch 11/50\n",
      "\u001b[1m1000/1000\u001b[0m \u001b[32m━━━━━━━━━━━━━━━━━━━━\u001b[0m\u001b[37m\u001b[0m \u001b[1m2s\u001b[0m 2ms/step - kl_loss: 0.0000e+00 - reconstruction_loss: 6.0525e-06 - total_loss: 6.0525e-06\n",
      "Epoch 12/50\n",
      "\u001b[1m1000/1000\u001b[0m \u001b[32m━━━━━━━━━━━━━━━━━━━━\u001b[0m\u001b[37m\u001b[0m \u001b[1m2s\u001b[0m 2ms/step - kl_loss: 0.0000e+00 - reconstruction_loss: 6.0974e-06 - total_loss: 6.0974e-06\n",
      "Epoch 13/50\n",
      "\u001b[1m1000/1000\u001b[0m \u001b[32m━━━━━━━━━━━━━━━━━━━━\u001b[0m\u001b[37m\u001b[0m \u001b[1m2s\u001b[0m 2ms/step - kl_loss: 0.0000e+00 - reconstruction_loss: 5.2762e-06 - total_loss: 5.2762e-06\n",
      "Epoch 14/50\n",
      "\u001b[1m1000/1000\u001b[0m \u001b[32m━━━━━━━━━━━━━━━━━━━━\u001b[0m\u001b[37m\u001b[0m \u001b[1m2s\u001b[0m 2ms/step - kl_loss: 0.0000e+00 - reconstruction_loss: 6.3623e-06 - total_loss: 6.3623e-06\n",
      "Epoch 15/50\n",
      "\u001b[1m1000/1000\u001b[0m \u001b[32m━━━━━━━━━━━━━━━━━━━━\u001b[0m\u001b[37m\u001b[0m \u001b[1m2s\u001b[0m 2ms/step - kl_loss: 0.0000e+00 - reconstruction_loss: 5.9870e-06 - total_loss: 5.9870e-06\n",
      "Epoch 16/50\n",
      "\u001b[1m1000/1000\u001b[0m \u001b[32m━━━━━━━━━━━━━━━━━━━━\u001b[0m\u001b[37m\u001b[0m \u001b[1m2s\u001b[0m 2ms/step - kl_loss: 0.0000e+00 - reconstruction_loss: 5.5786e-06 - total_loss: 5.5786e-06\n",
      "Epoch 17/50\n",
      "\u001b[1m1000/1000\u001b[0m \u001b[32m━━━━━━━━━━━━━━━━━━━━\u001b[0m\u001b[37m\u001b[0m \u001b[1m2s\u001b[0m 2ms/step - kl_loss: 0.0000e+00 - reconstruction_loss: 6.2553e-06 - total_loss: 6.2553e-06\n",
      "Epoch 18/50\n",
      "\u001b[1m1000/1000\u001b[0m \u001b[32m━━━━━━━━━━━━━━━━━━━━\u001b[0m\u001b[37m\u001b[0m \u001b[1m2s\u001b[0m 2ms/step - kl_loss: 0.0000e+00 - reconstruction_loss: 7.0959e-06 - total_loss: 7.0959e-06\n",
      "Epoch 19/50\n",
      "\u001b[1m1000/1000\u001b[0m \u001b[32m━━━━━━━━━━━━━━━━━━━━\u001b[0m\u001b[37m\u001b[0m \u001b[1m2s\u001b[0m 2ms/step - kl_loss: 0.0000e+00 - reconstruction_loss: 5.0941e-06 - total_loss: 5.0941e-06\n",
      "Epoch 20/50\n",
      "\u001b[1m1000/1000\u001b[0m \u001b[32m━━━━━━━━━━━━━━━━━━━━\u001b[0m\u001b[37m\u001b[0m \u001b[1m2s\u001b[0m 2ms/step - kl_loss: 0.0000e+00 - reconstruction_loss: 5.1998e-06 - total_loss: 5.1998e-06\n",
      "Epoch 21/50\n",
      "\u001b[1m1000/1000\u001b[0m \u001b[32m━━━━━━━━━━━━━━━━━━━━\u001b[0m\u001b[37m\u001b[0m \u001b[1m2s\u001b[0m 2ms/step - kl_loss: 0.0000e+00 - reconstruction_loss: 6.4880e-06 - total_loss: 6.4880e-06\n",
      "Epoch 22/50\n",
      "\u001b[1m1000/1000\u001b[0m \u001b[32m━━━━━━━━━━━━━━━━━━━━\u001b[0m\u001b[37m\u001b[0m \u001b[1m2s\u001b[0m 2ms/step - kl_loss: 0.0000e+00 - reconstruction_loss: 5.7990e-06 - total_loss: 5.7990e-06\n",
      "Epoch 23/50\n",
      "\u001b[1m1000/1000\u001b[0m \u001b[32m━━━━━━━━━━━━━━━━━━━━\u001b[0m\u001b[37m\u001b[0m \u001b[1m2s\u001b[0m 2ms/step - kl_loss: 0.0000e+00 - reconstruction_loss: 5.7200e-06 - total_loss: 5.7200e-06\n",
      "Epoch 24/50\n",
      "\u001b[1m1000/1000\u001b[0m \u001b[32m━━━━━━━━━━━━━━━━━━━━\u001b[0m\u001b[37m\u001b[0m \u001b[1m2s\u001b[0m 2ms/step - kl_loss: 0.0000e+00 - reconstruction_loss: 5.3157e-06 - total_loss: 5.3157e-06\n",
      "Epoch 25/50\n",
      "\u001b[1m1000/1000\u001b[0m \u001b[32m━━━━━━━━━━━━━━━━━━━━\u001b[0m\u001b[37m\u001b[0m \u001b[1m2s\u001b[0m 2ms/step - kl_loss: 0.0000e+00 - reconstruction_loss: 5.5532e-06 - total_loss: 5.5532e-06\n",
      "Epoch 26/50\n",
      "\u001b[1m1000/1000\u001b[0m \u001b[32m━━━━━━━━━━━━━━━━━━━━\u001b[0m\u001b[37m\u001b[0m \u001b[1m2s\u001b[0m 2ms/step - kl_loss: 0.0000e+00 - reconstruction_loss: 5.1679e-06 - total_loss: 5.1679e-06\n",
      "Epoch 27/50\n",
      "\u001b[1m1000/1000\u001b[0m \u001b[32m━━━━━━━━━━━━━━━━━━━━\u001b[0m\u001b[37m\u001b[0m \u001b[1m2s\u001b[0m 2ms/step - kl_loss: 0.0000e+00 - reconstruction_loss: 5.1534e-06 - total_loss: 5.1534e-06\n",
      "Epoch 28/50\n",
      "\u001b[1m1000/1000\u001b[0m \u001b[32m━━━━━━━━━━━━━━━━━━━━\u001b[0m\u001b[37m\u001b[0m \u001b[1m2s\u001b[0m 2ms/step - kl_loss: 0.0000e+00 - reconstruction_loss: 5.2571e-06 - total_loss: 5.2571e-06\n",
      "Epoch 29/50\n",
      "\u001b[1m1000/1000\u001b[0m \u001b[32m━━━━━━━━━━━━━━━━━━━━\u001b[0m\u001b[37m\u001b[0m \u001b[1m2s\u001b[0m 2ms/step - kl_loss: 0.0000e+00 - reconstruction_loss: 4.9560e-06 - total_loss: 4.9560e-06\n",
      "Epoch 30/50\n",
      "\u001b[1m1000/1000\u001b[0m \u001b[32m━━━━━━━━━━━━━━━━━━━━\u001b[0m\u001b[37m\u001b[0m \u001b[1m2s\u001b[0m 2ms/step - kl_loss: 0.0000e+00 - reconstruction_loss: 6.5294e-06 - total_loss: 6.5294e-06\n",
      "Epoch 31/50\n",
      "\u001b[1m1000/1000\u001b[0m \u001b[32m━━━━━━━━━━━━━━━━━━━━\u001b[0m\u001b[37m\u001b[0m \u001b[1m2s\u001b[0m 2ms/step - kl_loss: 0.0000e+00 - reconstruction_loss: 5.0747e-06 - total_loss: 5.0747e-06\n",
      "Epoch 32/50\n",
      "\u001b[1m1000/1000\u001b[0m \u001b[32m━━━━━━━━━━━━━━━━━━━━\u001b[0m\u001b[37m\u001b[0m \u001b[1m2s\u001b[0m 2ms/step - kl_loss: 0.0000e+00 - reconstruction_loss: 5.4985e-06 - total_loss: 5.4985e-06\n",
      "Epoch 33/50\n",
      "\u001b[1m1000/1000\u001b[0m \u001b[32m━━━━━━━━━━━━━━━━━━━━\u001b[0m\u001b[37m\u001b[0m \u001b[1m2s\u001b[0m 2ms/step - kl_loss: 0.0000e+00 - reconstruction_loss: 6.1909e-06 - total_loss: 6.1909e-06\n",
      "Epoch 34/50\n",
      "\u001b[1m1000/1000\u001b[0m \u001b[32m━━━━━━━━━━━━━━━━━━━━\u001b[0m\u001b[37m\u001b[0m \u001b[1m2s\u001b[0m 2ms/step - kl_loss: 0.0000e+00 - reconstruction_loss: 5.8491e-06 - total_loss: 5.8491e-06\n",
      "Epoch 35/50\n",
      "\u001b[1m1000/1000\u001b[0m \u001b[32m━━━━━━━━━━━━━━━━━━━━\u001b[0m\u001b[37m\u001b[0m \u001b[1m2s\u001b[0m 2ms/step - kl_loss: 0.0000e+00 - reconstruction_loss: 5.6874e-06 - total_loss: 5.6874e-06\n",
      "Epoch 36/50\n",
      "\u001b[1m1000/1000\u001b[0m \u001b[32m━━━━━━━━━━━━━━━━━━━━\u001b[0m\u001b[37m\u001b[0m \u001b[1m2s\u001b[0m 2ms/step - kl_loss: 0.0000e+00 - reconstruction_loss: 5.3123e-06 - total_loss: 5.3123e-06\n",
      "Epoch 37/50\n",
      "\u001b[1m1000/1000\u001b[0m \u001b[32m━━━━━━━━━━━━━━━━━━━━\u001b[0m\u001b[37m\u001b[0m \u001b[1m2s\u001b[0m 2ms/step - kl_loss: 0.0000e+00 - reconstruction_loss: 5.1174e-06 - total_loss: 5.1174e-06\n",
      "Epoch 38/50\n",
      "\u001b[1m1000/1000\u001b[0m \u001b[32m━━━━━━━━━━━━━━━━━━━━\u001b[0m\u001b[37m\u001b[0m \u001b[1m2s\u001b[0m 2ms/step - kl_loss: 0.0000e+00 - reconstruction_loss: 5.0112e-06 - total_loss: 5.0112e-06\n",
      "Epoch 39/50\n",
      "\u001b[1m1000/1000\u001b[0m \u001b[32m━━━━━━━━━━━━━━━━━━━━\u001b[0m\u001b[37m\u001b[0m \u001b[1m2s\u001b[0m 2ms/step - kl_loss: 0.0000e+00 - reconstruction_loss: 5.2619e-06 - total_loss: 5.2619e-06\n",
      "Epoch 40/50\n",
      "\u001b[1m1000/1000\u001b[0m \u001b[32m━━━━━━━━━━━━━━━━━━━━\u001b[0m\u001b[37m\u001b[0m \u001b[1m2s\u001b[0m 2ms/step - kl_loss: 0.0000e+00 - reconstruction_loss: 6.3848e-06 - total_loss: 6.3848e-06\n",
      "Epoch 41/50\n",
      "\u001b[1m1000/1000\u001b[0m \u001b[32m━━━━━━━━━━━━━━━━━━━━\u001b[0m\u001b[37m\u001b[0m \u001b[1m2s\u001b[0m 2ms/step - kl_loss: 0.0000e+00 - reconstruction_loss: 6.2497e-06 - total_loss: 6.2497e-06\n",
      "Epoch 42/50\n",
      "\u001b[1m1000/1000\u001b[0m \u001b[32m━━━━━━━━━━━━━━━━━━━━\u001b[0m\u001b[37m\u001b[0m \u001b[1m2s\u001b[0m 2ms/step - kl_loss: 0.0000e+00 - reconstruction_loss: 5.1023e-06 - total_loss: 5.1023e-06\n",
      "Epoch 43/50\n",
      "\u001b[1m1000/1000\u001b[0m \u001b[32m━━━━━━━━━━━━━━━━━━━━\u001b[0m\u001b[37m\u001b[0m \u001b[1m2s\u001b[0m 2ms/step - kl_loss: 0.0000e+00 - reconstruction_loss: 5.4502e-06 - total_loss: 5.4502e-06\n",
      "Epoch 44/50\n",
      "\u001b[1m1000/1000\u001b[0m \u001b[32m━━━━━━━━━━━━━━━━━━━━\u001b[0m\u001b[37m\u001b[0m \u001b[1m2s\u001b[0m 2ms/step - kl_loss: 0.0000e+00 - reconstruction_loss: 5.5384e-06 - total_loss: 5.5384e-06\n",
      "Epoch 45/50\n",
      "\u001b[1m1000/1000\u001b[0m \u001b[32m━━━━━━━━━━━━━━━━━━━━\u001b[0m\u001b[37m\u001b[0m \u001b[1m2s\u001b[0m 2ms/step - kl_loss: 0.0000e+00 - reconstruction_loss: 4.8607e-06 - total_loss: 4.8607e-06\n",
      "Epoch 46/50\n",
      "\u001b[1m1000/1000\u001b[0m \u001b[32m━━━━━━━━━━━━━━━━━━━━\u001b[0m\u001b[37m\u001b[0m \u001b[1m2s\u001b[0m 2ms/step - kl_loss: 0.0000e+00 - reconstruction_loss: 6.9092e-06 - total_loss: 6.9092e-06\n",
      "Epoch 47/50\n",
      "\u001b[1m1000/1000\u001b[0m \u001b[32m━━━━━━━━━━━━━━━━━━━━\u001b[0m\u001b[37m\u001b[0m \u001b[1m2s\u001b[0m 2ms/step - kl_loss: 0.0000e+00 - reconstruction_loss: 6.1050e-06 - total_loss: 6.1050e-06\n",
      "Epoch 48/50\n",
      "\u001b[1m1000/1000\u001b[0m \u001b[32m━━━━━━━━━━━━━━━━━━━━\u001b[0m\u001b[37m\u001b[0m \u001b[1m2s\u001b[0m 2ms/step - kl_loss: 0.0000e+00 - reconstruction_loss: 5.5830e-06 - total_loss: 5.5830e-06\n",
      "Epoch 49/50\n",
      "\u001b[1m1000/1000\u001b[0m \u001b[32m━━━━━━━━━━━━━━━━━━━━\u001b[0m\u001b[37m\u001b[0m \u001b[1m2s\u001b[0m 2ms/step - kl_loss: 0.0000e+00 - reconstruction_loss: 5.2246e-06 - total_loss: 5.2246e-06\n",
      "Epoch 50/50\n",
      "\u001b[1m1000/1000\u001b[0m \u001b[32m━━━━━━━━━━━━━━━━━━━━\u001b[0m\u001b[37m\u001b[0m \u001b[1m2s\u001b[0m 2ms/step - kl_loss: 0.0000e+00 - reconstruction_loss: 5.4459e-06 - total_loss: 5.4459e-06\n"
     ]
    },
    {
     "data": {
      "text/plain": [
       "<keras.src.callbacks.history.History at 0x7f5920772810>"
      ]
     },
     "execution_count": 87,
     "metadata": {},
     "output_type": "execute_result"
    }
   ],
   "source": [
    "learning_rate = 1e-4\n",
    "batch_size=500\n",
    "epochs=50\n",
    "\n",
    "collision.compile(optimizer=keras.optimizers.Adam(learning_rate=learning_rate))\n",
    "collision.fit({'time_series': combined_input, 't_question': combined_question, 'answer': combined_answer}, batch_size=batch_size, epochs=epochs)"
   ]
  },
  {
   "cell_type": "markdown",
   "metadata": {
    "id": "kN9tNEkIb-jG"
   },
   "source": [
    "# Validating the model\n",
    "\n",
    "The test sample is similarly generated. The answer to the question is predicted by the model for each sample."
   ]
  },
  {
   "cell_type": "code",
   "execution_count": 69,
   "metadata": {
    "executionInfo": {
     "elapsed": 1,
     "status": "ok",
     "timestamp": 1721156844917,
     "user": {
      "displayName": "Adarsh Vishwakarma",
      "userId": "08228595058095443271"
     },
     "user_tz": -330
    },
    "id": "vaKLJET_6srk"
   },
   "outputs": [],
   "source": [
    "test_samples = int(5e4)\n",
    "t_test_pre_collision, p1x_test_pre, p1y_test_pre, p2x_test_pre, p2y_test_pre, t_test_collision, t_test_post_collision, p1x_test_post, p1y_test_post, p2x_test_post, p2y_test_post, t_test_prediction, p2x_test_prediction, p2y_test_prediction, lin_test = generateData(omega_min=0.1, omega_max=1.5, units=5, samples=test_samples)"
   ]
  },
  {
   "cell_type": "code",
   "execution_count": 70,
   "metadata": {
    "colab": {
     "base_uri": "https://localhost:8080/",
     "height": 452
    },
    "executionInfo": {
     "elapsed": 823,
     "status": "ok",
     "timestamp": 1720734413891,
     "user": {
      "displayName": "Adarsh Vishwakarma",
      "userId": "08228595058095443271"
     },
     "user_tz": -330
    },
    "id": "SRwTdEYMbj6y",
    "outputId": "41035066-8b93-442b-dcb8-eee24ceada1c"
   },
   "outputs": [
    {
     "data": {
      "text/plain": [
       "[]"
      ]
     },
     "execution_count": 70,
     "metadata": {},
     "output_type": "execute_result"
    },
    {
     "data": {
      "image/png": "[encoded data removed]",
      "text/plain": [
       "<Figure size 640x480 with 1 Axes>"
      ]
     },
     "metadata": {},
     "output_type": "display_data"
    }
   ],
   "source": [
    "index1 = 10\n",
    "plt.plot(p1x_test_pre[index1], p1y_test_pre[index1])\n",
    "plt.plot(p1x_test_post[index1], p1y_test_post[index1])\n",
    "plt.plot(p2x_test_pre[index1], p2y_test_pre[index1])\n",
    "plt.plot(p2x_test_post[index1], p2y_test_post[index1])\n",
    "\n",
    "plt.scatter(p2x_test_pre[index1,[1,-1]], p2y_test_pre[index1,[1,-1]], c='black')\n",
    "plt.scatter(p2x_test_post[index1,[1,-1]], p2y_test_post[index1,[1,-1]], c='blue')\n",
    "ax = plt.gca()\n",
    "ax.set_xlim(-3,3)\n",
    "ax.set_ylim(-3,3)\n",
    "ax.set_aspect('equal')\n",
    "plt.plot()"
   ]
  },
  {
   "cell_type": "code",
   "execution_count": 71,
   "metadata": {
    "colab": {
     "base_uri": "https://localhost:8080/"
    },
    "executionInfo": {
     "elapsed": 10590,
     "status": "ok",
     "timestamp": 1721159001073,
     "user": {
      "displayName": "Adarsh Vishwakarma",
      "userId": "08228595058095443271"
     },
     "user_tz": -330
    },
    "id": "O7PWIFOg3Uq1",
    "outputId": "1bc4804e-f6f8-4b19-c06d-dbd8c1ce6dcf"
   },
   "outputs": [],
   "source": [
    "combined_observation_test = keras.layers.Concatenate()([t_test_pre_collision, p1x_test_pre, p1y_test_pre, t_test_pre_collision, p2x_test_pre, p2y_test_pre])\n",
    "combined_question_test = keras.layers.Concatenate()([t_test_prediction, t_test_post_collision, p1x_test_post, p1y_test_post])"
   ]
  },
  {
   "cell_type": "code",
   "execution_count": 88,
   "metadata": {},
   "outputs": [
    {
     "name": "stdout",
     "output_type": "stream",
     "text": [
      "\u001b[1m1563/1563\u001b[0m \u001b[32m━━━━━━━━━━━━━━━━━━━━\u001b[0m\u001b[37m\u001b[0m \u001b[1m1s\u001b[0m 462us/step\n"
     ]
    }
   ],
   "source": [
    "z_mu, z_logvar, z, x_test_prediction = collision.predict([combined_observation_test, combined_question_test])"
   ]
  },
  {
   "cell_type": "code",
   "execution_count": 89,
   "metadata": {
    "executionInfo": {
     "elapsed": 13,
     "status": "ok",
     "timestamp": 1721159001073,
     "user": {
      "displayName": "Adarsh Vishwakarma",
      "userId": "08228595058095443271"
     },
     "user_tz": -330
    },
    "id": "rZ3FJW_MVOSx"
   },
   "outputs": [],
   "source": [
    "x_true = np.column_stack((p2x_test_prediction, p2y_test_prediction))\n",
    "error_squared = (x_test_prediction - x_true)**2"
   ]
  },
  {
   "cell_type": "code",
   "execution_count": 90,
   "metadata": {
    "colab": {
     "base_uri": "https://localhost:8080/"
    },
    "executionInfo": {
     "elapsed": 12,
     "status": "ok",
     "timestamp": 1721159001073,
     "user": {
      "displayName": "Adarsh Vishwakarma",
      "userId": "08228595058095443271"
     },
     "user_tz": -330
    },
    "id": "lyyp1YNDVsYp",
    "outputId": "c9f4f46b-997d-403f-9d65-30d04479eb35"
   },
   "outputs": [
    {
     "data": {
      "text/plain": [
       "2.6667829977850103e-06"
      ]
     },
     "execution_count": 90,
     "metadata": {},
     "output_type": "execute_result"
    }
   ],
   "source": [
    "mse = error_squared.sum(axis=1).mean()\n",
    "mse"
   ]
  },
  {
   "cell_type": "code",
   "execution_count": 94,
   "metadata": {
    "colab": {
     "base_uri": "https://localhost:8080/",
     "height": 448
    },
    "executionInfo": {
     "elapsed": 1565,
     "status": "ok",
     "timestamp": 1721160357272,
     "user": {
      "displayName": "Adarsh Vishwakarma",
      "userId": "08228595058095443271"
     },
     "user_tz": -330
    },
    "id": "LlNMsl9uJreH",
    "outputId": "c29a44b6-40c5-4b0e-b94f-e38a00f1264d"
   },
   "outputs": [
    {
     "data": {
      "text/plain": [
       "[]"
      ]
     },
     "execution_count": 94,
     "metadata": {},
     "output_type": "execute_result"
    },
    {
     "data": {
      "image/png": "[encoded data removed]",
      "text/plain": [
       "<Figure size 640x480 with 1 Axes>"
      ]
     },
     "metadata": {},
     "output_type": "display_data"
    }
   ],
   "source": [
    "plt.scatter(lin_test, z, s=0.1)\n",
    "plt.scatter(lin_test[1], z[1], s=15, c='black')\n",
    "plt.scatter(lin_test[3], z[3], s=15, c='red')\n",
    "#plt.scatter(x_test_prediction[:,0], x_true[:,0], s=0.5)\n",
    "ax = plt.gca()\n",
    "#ax.set_ylim(-2,2)\n",
    "#ax.set_aspect('equal')\n",
    "plt.plot()"
   ]
  },
  {
   "cell_type": "markdown",
   "metadata": {},
   "source": [
    "The x-axis is the total angular momentum of the particles. y-axis is the output of the latent layer."
   ]
  },
  {
   "cell_type": "markdown",
   "metadata": {},
   "source": [
    "We see that the hidden layer varies linearly with the total angular momentum of the particles indicating that scinet has learned to extract the total angular momentum from the data which is a conserved quantity one uses to calculate the position of one of the particles."
   ]
  },
  {
   "cell_type": "code",
   "execution_count": null,
   "metadata": {
    "id": "laOUBWHtC8bb"
   },
   "outputs": [],
   "source": [
    "def MSE(x_pred, x_ans, batch_size=10):\n",
    "  mse = 0\n",
    "  start = 0\n",
    "  end = batch_size\n",
    "  num_batches = int(x_pred.shape[0]/batch_size)\n",
    "\n",
    "  for batch in range(num_batches):\n",
    "    mse = (np.square(x_pred[start:end] - x_ans[start:end])).sum()\n",
    "    start += batch_size\n",
    "    end += batch_size\n",
    "\n",
    "  return mse.mean()"
   ]
  },
  {
   "cell_type": "code",
   "execution_count": null,
   "metadata": {
    "colab": {
     "base_uri": "https://localhost:8080/",
     "height": 263
    },
    "collapsed": true,
    "executionInfo": {
     "elapsed": 473,
     "status": "error",
     "timestamp": 1720187658020,
     "user": {
      "displayName": "Adarsh Vishwakarma",
      "userId": "08228595058095443271"
     },
     "user_tz": -330
    },
    "id": "mBuBhxv5FX4e",
    "jupyter": {
     "outputs_hidden": true
    },
    "outputId": "dfdb5ff4-a2c6-4d3f-af41-72b4ac0eab66"
   },
   "outputs": [
    {
     "ename": "ValueError",
     "evalue": "operands could not be broadcast together with shapes (1000,1) (200,1) ",
     "output_type": "error",
     "traceback": [
      "\u001b[0;31m---------------------------------------------------------------------------\u001b[0m",
      "\u001b[0;31mValueError\u001b[0m                                Traceback (most recent call last)",
      "\u001b[0;32m<ipython-input-51-b84ee64ce38f>\u001b[0m in \u001b[0;36m<cell line: 1>\u001b[0;34m()\u001b[0m\n\u001b[0;32m----> 1\u001b[0;31m \u001b[0mmse\u001b[0m \u001b[0;34m=\u001b[0m \u001b[0mMSE\u001b[0m\u001b[0;34m(\u001b[0m\u001b[0mx_test_prediction\u001b[0m\u001b[0;34m,\u001b[0m \u001b[0mx_test_ans\u001b[0m\u001b[0;34m,\u001b[0m \u001b[0mbatch_size\u001b[0m\u001b[0;34m=\u001b[0m\u001b[0;36m1000\u001b[0m\u001b[0;34m)\u001b[0m\u001b[0;34m\u001b[0m\u001b[0;34m\u001b[0m\u001b[0m\n\u001b[0m",
      "\u001b[0;32m<ipython-input-50-e9e5d877b9aa>\u001b[0m in \u001b[0;36mMSE\u001b[0;34m(x_pred, x_ans, batch_size)\u001b[0m\n\u001b[1;32m      6\u001b[0m \u001b[0;34m\u001b[0m\u001b[0m\n\u001b[1;32m      7\u001b[0m   \u001b[0;32mfor\u001b[0m \u001b[0mbatch\u001b[0m \u001b[0;32min\u001b[0m \u001b[0mrange\u001b[0m\u001b[0;34m(\u001b[0m\u001b[0mnum_batches\u001b[0m\u001b[0;34m)\u001b[0m\u001b[0;34m:\u001b[0m\u001b[0;34m\u001b[0m\u001b[0;34m\u001b[0m\u001b[0m\n\u001b[0;32m----> 8\u001b[0;31m     \u001b[0mmse\u001b[0m \u001b[0;34m=\u001b[0m \u001b[0;34m(\u001b[0m\u001b[0mnp\u001b[0m\u001b[0;34m.\u001b[0m\u001b[0msquare\u001b[0m\u001b[0;34m(\u001b[0m\u001b[0mx_pred\u001b[0m\u001b[0;34m[\u001b[0m\u001b[0mstart\u001b[0m\u001b[0;34m:\u001b[0m\u001b[0mend\u001b[0m\u001b[0;34m]\u001b[0m \u001b[0;34m-\u001b[0m \u001b[0mx_ans\u001b[0m\u001b[0;34m[\u001b[0m\u001b[0mstart\u001b[0m\u001b[0;34m:\u001b[0m\u001b[0mend\u001b[0m\u001b[0;34m]\u001b[0m\u001b[0;34m)\u001b[0m\u001b[0;34m)\u001b[0m\u001b[0;34m.\u001b[0m\u001b[0msum\u001b[0m\u001b[0;34m(\u001b[0m\u001b[0;34m)\u001b[0m\u001b[0;34m\u001b[0m\u001b[0;34m\u001b[0m\u001b[0m\n\u001b[0m\u001b[1;32m      9\u001b[0m     \u001b[0mstart\u001b[0m \u001b[0;34m+=\u001b[0m \u001b[0mbatch_size\u001b[0m\u001b[0;34m\u001b[0m\u001b[0;34m\u001b[0m\u001b[0m\n\u001b[1;32m     10\u001b[0m     \u001b[0mend\u001b[0m \u001b[0;34m+=\u001b[0m \u001b[0mbatch_size\u001b[0m\u001b[0;34m\u001b[0m\u001b[0;34m\u001b[0m\u001b[0m\n",
      "\u001b[0;31mValueError\u001b[0m: operands could not be broadcast together with shapes (1000,1) (200,1) "
     ]
    }
   ],
   "source": [
    "mse = MSE(x_test_prediction, x_test_ans, batch_size=1000)"
   ]
  },
  {
   "cell_type": "code",
   "execution_count": null,
   "metadata": {
    "colab": {
     "base_uri": "https://localhost:8080/"
    },
    "executionInfo": {
     "elapsed": 9,
     "status": "ok",
     "timestamp": 1720175499325,
     "user": {
      "displayName": "Adarsh Vishwakarma",
      "userId": "08228595058095443271"
     },
     "user_tz": -330
    },
    "id": "oAHJhvTz4P8h",
    "outputId": "9633e40c-69ef-4d38-9953-5e5b5bab9e8c"
   },
   "outputs": [
    {
     "data": {
      "text/plain": [
       "0.004429453935575459"
      ]
     },
     "execution_count": 105,
     "metadata": {},
     "output_type": "execute_result"
    }
   ],
   "source": [
    "mu = x_test_ans.mean()\n",
    "mu"
   ]
  },
  {
   "cell_type": "code",
   "execution_count": null,
   "metadata": {
    "id": "s12VMVcc3Ue9"
   },
   "outputs": [],
   "source": [
    "np.sqrt(mse)"
   ]
  },
  {
   "cell_type": "code",
   "execution_count": null,
   "metadata": {
    "id": "YZofNk1Nh3X3"
   },
   "outputs": [],
   "source": [
    "t0, t1 = 0, 10\n",
    "b0, b1 = 0.1, 1\n",
    "k0, k1 = 5, 10\n",
    "N_grid = 100\n",
    "\n",
    "B = np.linspace(b0, b1, N_grid)\n",
    "K = np.linspace(k0, k1, N_grid)\n",
    "\n",
    "b_grid, k_grid = np.meshgrid(B, K)\n",
    "layer_z = [np.zeros(N_grid**2).reshape(b_grid.shape)]*3\n",
    "layer_mean = [np.zeros(N_grid**2).reshape(b_grid.shape)]*3\n",
    "layer_logvar = [np.zeros(N_grid**2).reshape(b_grid.shape)]*3\n",
    "\n",
    "for i in range(N_grid):\n",
    "  for j in range(N_grid):\n",
    "    b, k = b_grid[i,j], k_grid[i,j]\n",
    "    t, xt_series = generateTrajectory(t0=t0, t1=t1, b=b, k=k, samples=50)\n",
    "    mean, log_var, z = encoder(xt_series)\n",
    "    z = z.numpy().flatten()\n",
    "    layer_z[0][i,j] = z[0]\n",
    "    layer_z[1][i,j] = z[1]\n",
    "    layer_z[2][i,j] = z[2]\n",
    "\n",
    "    z = mean.numpy().flatten()\n",
    "    layer_mean[0][i,j] = z[0]\n",
    "    layer_mean[1][i,j] = z[1]\n",
    "    layer_mean[2][i,j] = z[2]\n",
    "\n",
    "    z = log_var.numpy().flatten()\n",
    "    layer_logvar[0][i,j] = z[0]\n",
    "    layer_logvar[1][i,j] = z[1]\n",
    "    layer_logvar[2][i,j] = z[2]"
   ]
  },
  {
   "cell_type": "code",
   "execution_count": null,
   "metadata": {
    "id": "PFeNnZvupO7d"
   },
   "outputs": [],
   "source": [
    "t, xt_series = generateTrajectory(t0=t0, t1=t1, b=0.1, k=5, samples=50)\n",
    "mean, log_var, zout = encoder(xt_series)"
   ]
  },
  {
   "cell_type": "code",
   "execution_count": null,
   "metadata": {
    "colab": {
     "base_uri": "https://localhost:8080/"
    },
    "executionInfo": {
     "elapsed": 11,
     "status": "ok",
     "timestamp": 1720385463382,
     "user": {
      "displayName": "Adarsh Vishwakarma",
      "userId": "08228595058095443271"
     },
     "user_tz": -330
    },
    "id": "eWFxI4HuphzZ",
    "outputId": "e0b485b5-5e9a-47ad-ba45-7bd78a8440f1"
   },
   "outputs": [
    {
     "name": "stdout",
     "output_type": "stream",
     "text": [
      "tf.Tensor([[-0.28245395 -0.3753568   0.39236444]], shape=(1, 3), dtype=float32)\n",
      "tf.Tensor([[ 0.01279005  0.04746556 -0.1887543 ]], shape=(1, 3), dtype=float32)\n",
      "tf.Tensor([[ 0.01408318 -0.30462527 -0.50230145]], shape=(1, 3), dtype=float32)\n"
     ]
    }
   ],
   "source": [
    "print(mean)\n",
    "print(log_var)\n",
    "print(zout)"
   ]
  },
  {
   "cell_type": "code",
   "execution_count": null,
   "metadata": {
    "colab": {
     "base_uri": "https://localhost:8080/",
     "height": 431
    },
    "executionInfo": {
     "elapsed": 3273,
     "status": "ok",
     "timestamp": 1720395221306,
     "user": {
      "displayName": "Adarsh Vishwakarma",
      "userId": "08228595058095443271"
     },
     "user_tz": -330
    },
    "id": "rcmRA814V2JY",
    "outputId": "e511dbc0-63a5-4119-edd7-939e0b65163a"
   },
   "outputs": [
    {
     "data": {
      "image/png": "[encoded data removed]",
      "text/plain": [
       "<Figure size 640x480 with 3 Axes>"
      ]
     },
     "metadata": {},
     "output_type": "display_data"
    }
   ],
   "source": [
    "fig, ax = plt.subplots(nrows=2, ncols=2, subplot_kw={'projection': '3d'})\n",
    "plt.xlabel('b')\n",
    "plt.ylabel('k')\n",
    "#ax.set_xlim(0.6, 1)\n",
    "#ax.set_ylim(5, 10)\n",
    "#for a1 in ax:\n",
    " # for a2 in a1:\n",
    "  #  z=a2.set_zlim3d(-1, 1)\n",
    "\n",
    "ax[0,0].plot_surface(b_grid, k_grid, layer_z[0])\n",
    "ax[0,1].plot_surface(b_grid, k_grid, layer_z[1])\n",
    "ax[1,0].plot_surface(b_grid, k_grid, layer_logvar[2])\n",
    "fig.delaxes(ax[1,1])\n",
    "plt.show()"
   ]
  },
  {
   "cell_type": "markdown",
   "metadata": {
    "id": "DTUndhXpfT0h"
   },
   "source": [
    "Below, the model is provided a time series of position as an observation and the position of the pendulum is asked for a range of time to obtain the predicted trajectory of the pendulum."
   ]
  },
  {
   "cell_type": "code",
   "execution_count": null,
   "metadata": {
    "id": "jjBNMEW3VG5v"
   },
   "outputs": [],
   "source": [
    "#generate observation data and test samples with a fixed value of spring constant and damping parameter\n",
    "samples = 200\n",
    "\n",
    "#observation data\n",
    "t_obs, x_obs = generateTrajectory(t0=0, t1=5, b=0.5, k=5, samples=50)\n",
    "#test questions as array of times and the corresponding answer as the position of the pendulum\n",
    "t_ques, x_true_ans = generateTrajectory(t0=0, t1=10, b=0.5, k=5, samples=samples)"
   ]
  },
  {
   "cell_type": "code",
   "execution_count": null,
   "metadata": {
    "collapsed": true,
    "id": "j6qrkWMwVq6T",
    "jupyter": {
     "outputs_hidden": true
    }
   },
   "outputs": [],
   "source": [
    "z_mu = np.zeros(samples*3).reshape(samples, 3)\n",
    "z_logvar = np.zeros(samples*3).reshape(samples, 3)\n",
    "z = np.zeros(samples*3).reshape(samples, 3)\n",
    "#array to store the predicted answers of the model\n",
    "x_pred_ans = np.zeros(samples).reshape(1,samples)\n",
    "\n",
    "#generate answer to each questions\n",
    "for i in range(samples):\n",
    "  z_mu[i:i+1, :], z_logvar[i:i+1, :], z[i:i+1,:], x_pred_ans[:,i:i+1] = pendulum.predict([x_obs, t_ques[:,i:i+1]], verbose=0)"
   ]
  },
  {
   "cell_type": "code",
   "execution_count": null,
   "metadata": {
    "id": "m0LCQ54jYOI8"
   },
   "outputs": [],
   "source": [
    "t_ques = t_ques.reshape(-1,1)\n",
    "x_true_ans = x_true_ans.reshape(-1,1)\n",
    "x_pred_ans = x_pred_ans.reshape(-1,1)"
   ]
  },
  {
   "cell_type": "code",
   "execution_count": null,
   "metadata": {
    "colab": {
     "base_uri": "https://localhost:8080/",
     "height": 447
    },
    "executionInfo": {
     "elapsed": 31,
     "status": "ok",
     "timestamp": 1720395204538,
     "user": {
      "displayName": "Adarsh Vishwakarma",
      "userId": "08228595058095443271"
     },
     "user_tz": -330
    },
    "id": "xU0T7_hIYHhC",
    "outputId": "05aebe11-c31e-4d1e-9258-caf1e245073f"
   },
   "outputs": [
    {
     "data": {
      "text/plain": [
       "[]"
      ]
     },
     "execution_count": 283,
     "metadata": {},
     "output_type": "execute_result"
    },
    {
     "data": {
      "image/png": "[encoded data removed]",
      "text/plain": [
       "<Figure size 640x480 with 1 Axes>"
      ]
     },
     "metadata": {},
     "output_type": "display_data"
    }
   ],
   "source": [
    "plt.plot(t_ques, x_pred_ans)\n",
    "plt.plot(t_ques, x_true_ans)\n",
    "plt.plot()"
   ]
  },
  {
   "cell_type": "markdown",
   "metadata": {
    "id": "8Y5l-UjYuEFh"
   },
   "source": [
    "#Denoising using Autoencoder"
   ]
  },
  {
   "cell_type": "code",
   "execution_count": null,
   "metadata": {
    "collapsed": true,
    "id": "djBmakWELUb8",
    "jupyter": {
     "outputs_hidden": true
    }
   },
   "outputs": [],
   "source": [
    "variational_autoencoder = VAE(encoder, decoder, beta_rec=10., beta_kl=1)\n",
    "variational_autoencoder.compile(optimizer='adam')\n",
    "variational_autoencoder.fit(x_train_reshaped, x_train_reshaped, batch_size=128, epochs=10)"
   ]
  },
  {
   "cell_type": "code",
   "execution_count": null,
   "metadata": {
    "id": "C9JEXUwROC1b"
   },
   "outputs": [],
   "source": [
    "latent_z_mu, latent_z_logvar, x_prediction_reshaped = variational_autoencoder.predict(x_test_reshaped)"
   ]
  },
  {
   "cell_type": "markdown",
   "metadata": {
    "id": "519_J5o0uLNJ"
   },
   "source": [
    "Let us introduce some noise to the images and see how the autoencoder performs on the noised images."
   ]
  },
  {
   "cell_type": "code",
   "execution_count": null,
   "metadata": {
    "id": "6FbvOYQFEMu1"
   },
   "outputs": [],
   "source": [
    "#create noises for the training and test datasets as random values\n",
    "train_noise = np.random.uniform(low=-0.7, high=0.7, size=(1, x_train_reshaped.shape[1]))\n",
    "test_noise = np.random.uniform(low=-0.7, high=0.7, size=(1, x_test_reshaped.shape[1]))"
   ]
  },
  {
   "cell_type": "code",
   "execution_count": null,
   "metadata": {
    "id": "7atRyu3W2KEe"
   },
   "outputs": [],
   "source": [
    "#add the noise\n",
    "x_train_noise = x_train_reshaped + train_noise\n",
    "x_test_noise = x_test_reshaped + test_noise\n",
    "#clip the noise in the range [0,1]\n",
    "x_train_noise = np.clip(x_train_noise, a_min=0, a_max=1)\n",
    "x_test_noise = np.clip(x_test_noise, a_min=0, a_max=1)"
   ]
  },
  {
   "cell_type": "markdown",
   "metadata": {
    "id": "mudnwu7eugR0"
   },
   "source": [
    "We see that the encoder is performing badly for the noised data. This is because the encoder is not trained to remove the noise. So, lets pass the encoder noised data and train it to produce denoised images."
   ]
  },
  {
   "cell_type": "code",
   "execution_count": null,
   "metadata": {
    "id": "eQmvvJsPFdOU"
   },
   "outputs": [],
   "source": []
  }
 ],
 "metadata": {
  "colab": {
   "authorship_tag": "ABX9TyMgfkz2IvZUzc3TbtGDhRUi",
   "provenance": [
    {
     "file_id": "18KrpPL5pWSbGxgqyk6l-krX7cK4cgmmd",
     "timestamp": 1720733334431
    },
    {
     "file_id": "1Fw9Uxd5NesqqeDHjQ2CZREvYiVh537K1",
     "timestamp": 1720437775346
    },
    {
     "file_id": "15V_pBRr7MwJlF7M7Ok2Alr4mP65jiEFP",
     "timestamp": 1720025625614
    }
   ]
  },
  "kernelspec": {
   "display_name": "Python 3 (ipykernel)",
   "language": "python",
   "name": "python3"
  },
  "language_info": {
   "codemirror_mode": {
    "name": "ipython",
    "version": 3
   },
   "file_extension": ".py",
   "mimetype": "text/x-python",
   "name": "python",
   "nbconvert_exporter": "python",
   "pygments_lexer": "ipython3",
   "version": "3.12.4"
  }
 },
 "nbformat": 4,
 "nbformat_minor": 4
}
