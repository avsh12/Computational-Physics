{
 "cells": [
  {
   "cell_type": "code",
   "execution_count": 61,
   "id": "67b63013-52cf-46a0-a5a2-51851fe9983a",
   "metadata": {},
   "outputs": [],
   "source": [
    "import numpy as np\n",
    "import scipy\n",
    "from matplotlib import pyplot as plt"
   ]
  },
  {
   "cell_type": "code",
   "execution_count": 2,
   "id": "1d53a5d7-57a1-4671-8c7d-9cfb7d951265",
   "metadata": {},
   "outputs": [],
   "source": [
    "import tensorflow as tf\n",
    "from tensorflow import keras\n",
    "from tensorflow.keras import Input, Model\n",
    "from tensorflow.keras.layers import Dense"
   ]
  },
  {
   "cell_type": "code",
   "execution_count": 3,
   "id": "097507e1-b5a7-4783-afaf-397cbeb244f0",
   "metadata": {},
   "outputs": [],
   "source": [
    "#from symmetry_model import ScNN"
   ]
  },
  {
   "cell_type": "code",
   "execution_count": 191,
   "id": "7b88da6b-5227-45d4-89c9-e2ac9ba32596",
   "metadata": {},
   "outputs": [],
   "source": [
    "#dfine a sampling subclass of Layer\n",
    "#the Sampling layer takes two inputs: mean and log_sigma\n",
    "#the layer samples random samples from mean and log_sigma assuming that the mean and log_sigma are from from a gaussian distribution\n",
    "class Sampling(keras.layers.Layer):\n",
    "    def __init__(self, **kwargs):\n",
    "        super().__init__(**kwargs)\n",
    "    def call(self, inputs):\n",
    "        #unpack the inputs\n",
    "        mean, log_var = inputs\n",
    "        batch_size = tf.shape(mean)[0]\n",
    "        #size of the latent layer\n",
    "        units = tf.shape(mean)[1]\n",
    "        #generate random samples from a gaussian distribution of mean=0 and standard deviation=1\n",
    "        epsilon = tf.random.normal(shape=(batch_size, units), mean=0, stddev=1)\n",
    "        #shift and scale epsilon\n",
    "        return mean + tf.math.exp(log_var/2)*epsilon\n",
    "\n",
    "class Encoder(keras.layers.Layer):\n",
    "    def __init__(self, latent_size=1, layer_size=[70, 70], activation='elu', vae=True, **kwargs):\n",
    "        super().__init__(**kwargs)\n",
    "        self.layer_size = layer_size\n",
    "        self.latent_size = latent_size\n",
    "        self.vae = vae\n",
    "        self.encoder_layer = []\n",
    "        for i in range(len(self.layer_size)):\n",
    "            self.encoder_layer.append(Dense(layer_size[i], activation=activation, name=('encoder_layer'+str(i+1))))\n",
    "        if self.vae:\n",
    "            self.mean = Dense(latent_size, name='mean')\n",
    "            self.log_var = Dense(latent_size, name='log_sigma')\n",
    "            #generate random samples from gaussian distribution with mean = mean and log(variance) = log_var\n",
    "            self.z = Sampling(name='sampling_layer')\n",
    "        else:\n",
    "            self.z = Dense(latent_size, name='latent_layer')\n",
    "    def call(self, inputs):\n",
    "        x = inputs\n",
    "        for i in range(len(self.layer_size)):\n",
    "            x = self.encoder_layer[i](x)\n",
    "        if self.vae:\n",
    "            mean = self.mean(x)\n",
    "            log_var = self.log_var(x)\n",
    "            z = self.z([mean, log_var])\n",
    "            return mean, log_var, z\n",
    "        else:\n",
    "            z = self.z(x)\n",
    "            return z\n",
    "\n",
    "class DifferenceSquared(keras.layers.Layer):\n",
    "    def __init__(self, **kwargs):\n",
    "        super().__init__(**kwargs)\n",
    "    def call(self, inputs):\n",
    "        input1 = inputs[0]\n",
    "        input2 = inputs[1]\n",
    "        mean_squared = tf.reshape(tf.reduce_sum((input1 - input2)**2, axis=1), (-1,1))\n",
    "        return mean_squared\n",
    "\n",
    "#create a subclass VAE of Model\n",
    "#the model takes encoder and decoder models and joins them to build beta-VAE\n",
    "#the model defines a training method to train the beta-VAE model so constructed\n",
    "\"\"\"Variables in the class object:\n",
    "\n",
    "   encoder               --   encoder model to produce mean and log_var as output from the input\n",
    "   decoder               --   decoder model to produce the output\n",
    "   reconstruction_loss   --   total loss for the output accuracy of the decoder - sum over total outputs and average over samples\n",
    "   kl_loss               --   total loss for the kl-metric - sum over output units of latent layer and average over samples\n",
    "   total_loss            --   reconstruction_loss + kl_loss\n",
    "   beta_rec              --   parameter to control the relative significance of reconstruction loss\n",
    "   beta_kl               --   parameter to control the relative significance of kl-divergence loss\n",
    "\"\"\"\n",
    "\n",
    "class ScNN(Model):\n",
    "    def __init__(self, input_size=50, encoder_layer=[70, 70], latent_size=1, output_size=1, beta_rec=500., beta_kl=1., target_var=0.01, activation='elu', **kwargs):\n",
    "        super().__init__(**kwargs)\n",
    "        self.encoder = Encoder(layer_size=encoder_layer, latent_size=latent_size, activation=activation, vae=True, name='encoder')\n",
    "        self.concatenate = keras.layers.Concatenate()\n",
    "        self.difference_squared = DifferenceSquared(name='comparison_layer')\n",
    "        self.output_classify = Dense(output_size, activation='sigmoid', name='output')\n",
    "        self.beta_rec = beta_rec\n",
    "        self.beta_kl = beta_kl\n",
    "        self.target_var = target_var\n",
    "        #define the losses\n",
    "        #Mean stores the mean value of the argument passed to it and a name for the mean value\n",
    "        self.bce = keras.losses.BinaryCrossentropy(from_logits=False)\n",
    "        self.total_loss = keras.metrics.Mean(name='total_loss')\n",
    "        self.total_reconstruction_loss = keras.metrics.Mean(name='reconstruction_loss')\n",
    "        self.total_kl_loss = keras.metrics.Mean(name='kl_loss')\n",
    "    #return the losses to be printed during training\n",
    "    @property\n",
    "    def metrics(self):\n",
    "        return [self.total_loss, self.total_reconstruction_loss, self.total_kl_loss]\n",
    "    #feeds an output of encoder and question to the decoder and returns the outputs of encoder and decoder\n",
    "    #encoder input and a question is passed as input\n",
    "    def call(self, inputs):\n",
    "        input1 = inputs[:,0:4]\n",
    "        input2 = inputs[:,4:8]\n",
    "        mean1, log_var1, z1 = self.encoder(input1)\n",
    "        mean2, log_var2, z2 = self.encoder(input2)\n",
    "        decoder_output = self.difference_squared([z1, z2])\n",
    "        \n",
    "        output = self.output_classify(decoder_output)\n",
    "        return mean1, mean2, log_var1, log_var2, output\n",
    "    #training method called when called to fit\n",
    "    #the method is passed a set of observation, a question for each observation and the corresponding answers\n",
    "    def train_step(self, data):\n",
    "        inputs = data['input']\n",
    "        outputs = data['output']\n",
    "        with tf.GradientTape() as tape:\n",
    "            #feed-forward step\n",
    "            #calls the call() method\n",
    "            mean1, mean2, log_var1, log_var2, predictions = self(inputs)\n",
    "            #calculate losses for the current feed-forward step\n",
    "            #outputs and predictions are one dimensional so only take mean over samples\n",
    "            #reconstruction_loss = self.beta_rec*tf.reduce_mean(tf.reduce_sum((outputs - predictions)**2, axis=1))\n",
    "            reconstruction_loss = self.beta_rec*self.bce(outputs, predictions)\n",
    "            #take sum over dimension and mean over samples\n",
    "            #kl_loss = 0.5*self.beta_kl*tf.reduce_mean(tf.reduce_sum(tf.square(z_mean) + 2*tf.exp(z_log_sigma) -  2*z_log_sigma, axis=1))\n",
    "            kl_loss1 = 0.5*self.beta_kl*tf.reduce_mean(tf.reduce_sum(tf.square(mean1)/self.target_var + tf.exp(log_var1)/self.target_var - log_var1 + tf.math.log(self.target_var), axis=1)-3)\n",
    "            kl_loss2 = 0.5*self.beta_kl*tf.reduce_mean(tf.reduce_sum(tf.square(mean2)/self.target_var + tf.exp(log_var2)/self.target_var - log_var2 + tf.math.log(self.target_var), axis=1)-3)\n",
    "            kl_loss = kl_loss1 + kl_loss2\n",
    "            loss = reconstruction_loss + kl_loss\n",
    "            #calculates gradients w.r.t. the trainable weights of the model\n",
    "            gradients = tape.gradient(loss, self.trainable_weights)\n",
    "            #updates the trainable weights using the gradients calculated\n",
    "            #method to update the weights is passed in call to compile function of the model as optimizer parameter\n",
    "            self.optimizer.apply_gradients(zip(gradients, self.trainable_weights))\n",
    "            #updates the current losses\n",
    "            self.total_reconstruction_loss.update_state(reconstruction_loss)\n",
    "            self.total_kl_loss.update_state(kl_loss)\n",
    "            self.total_loss.update_state(loss)\n",
    "            #return the losses name and the corresponding values\n",
    "            return {m.name: m.result() for m in self.metrics}"
   ]
  },
  {
   "cell_type": "markdown",
   "id": "794e629c-1595-4232-8aa0-dd8905e42fa7",
   "metadata": {
    "jp-MarkdownHeadingCollapsed": true
   },
   "source": [
    "# Data Generation"
   ]
  },
  {
   "cell_type": "code",
   "execution_count": 5,
   "id": "7518327d-1db1-45d7-8010-1f17b0de06d7",
   "metadata": {},
   "outputs": [],
   "source": [
    "def generate3DRotations(num=1):\n",
    "    vector_dimension = 4\n",
    "    random_3drotation = np.zeros((num, vector_dimension, vector_dimension))\n",
    "    random_3drotation[:, 1:,1:] = scipy.spatial.transform.Rotation.random(train_samples).as_matrix()\n",
    "    random_3drotation[:,0,0] = 1\n",
    "    return random_3drotation"
   ]
  },
  {
   "cell_type": "code",
   "execution_count": 26,
   "id": "a2c47478-09e7-47fa-834c-c200860224f0",
   "metadata": {},
   "outputs": [],
   "source": [
    "def generateLorentzTransforms(num=1):\n",
    "    vector_dimension = 4\n",
    "    beta = np.random.uniform(low=0, high=0.99, size=(train_samples, 1,1))\n",
    "    gamma = 1/np.sqrt(1-beta**2)\n",
    "    random_lorentz_trans = np.zeros((train_samples, vector_dimension, vector_dimension))\n",
    "    random_lorentz_trans[:, 0:1, 1] = beta[:,0:1,0]\n",
    "    random_lorentz_trans[:, 1:2, 0] = beta[:,0:1,0]\n",
    "    random_lorentz_trans[:, 0, 0] = 1\n",
    "    random_lorentz_trans[:, 1, 1] = 1\n",
    "    random_lorentz_trans = random_lorentz_trans*gamma\n",
    "    random_lorentz_trans[:, 2, 2] = 1\n",
    "    random_lorentz_trans[:, 3, 3] = 1\n",
    "    return random_lorentz_trans"
   ]
  },
  {
   "cell_type": "code",
   "execution_count": 56,
   "id": "1c64e6d0-cce2-4050-b51f-4a180f2e5ce6",
   "metadata": {},
   "outputs": [],
   "source": [
    "def calculateInterval(event):\n",
    "    vector_dimension = event.shape[1]\n",
    "    interval = event[:,0:1]**2\n",
    "    for i in range(1, vector_dimension):\n",
    "        interval -= event[:,i:i+1]**2\n",
    "    return interval"
   ]
  },
  {
   "cell_type": "code",
   "execution_count": 105,
   "id": "bdfe626c-1c05-4756-8065-87ac1430e238",
   "metadata": {},
   "outputs": [],
   "source": [
    "train_samples = 50000\n",
    "test_samples = 5000\n",
    "vector_dimension = 4\n",
    "\n",
    "random_3drotation1 = generate3DRotations(num=train_samples)\n",
    "random_3drotation2 = generate3DRotations(num=train_samples)\n",
    "\n",
    "random_lorentz_trans = generateLorentzTransforms(num=train_samples)"
   ]
  },
  {
   "cell_type": "code",
   "execution_count": 106,
   "id": "3a6afea0-ae3e-4a98-ac28-b6387e297577",
   "metadata": {},
   "outputs": [],
   "source": [
    "random_lorentz_trans = np.matmul(np.matmul(random_3drotation1, random_lorentz_trans), random_3drotation2)"
   ]
  },
  {
   "cell_type": "code",
   "execution_count": 107,
   "id": "401d9f1c-cd9f-4dae-abc3-1e3dc1b91509",
   "metadata": {},
   "outputs": [],
   "source": [
    "events_train = np.random.uniform(low=-1, high=1, size=(train_samples, vector_dimension, 1))\n",
    "events_test = np.random.uniform(low=-1, high=1, size=(test_samples, vector_dimension))\n",
    "events_similar_train = np.matmul(random_lorentz_trans, events_train)\n",
    "\n",
    "#the third index does not store any extra dimension\n",
    "events_train = events_train[:,:,0]\n",
    "events_similar_train = events_similar_train[:,:,0]\n",
    "\n",
    "rng = np.random.default_rng()\n",
    "events_asimilar_train = rng.permutation(events_similar_train, axis=1)"
   ]
  },
  {
   "cell_type": "code",
   "execution_count": 108,
   "id": "038c251e-d31a-4a37-8e90-edf55d03c928",
   "metadata": {},
   "outputs": [
    {
     "data": {
      "text/plain": [
       "(100000, 4)"
      ]
     },
     "execution_count": 108,
     "metadata": {},
     "output_type": "execute_result"
    }
   ],
   "source": [
    "transformed_events.shape"
   ]
  },
  {
   "cell_type": "code",
   "execution_count": 109,
   "id": "a87f1eee-05a6-4cce-8cd0-5924d462f159",
   "metadata": {},
   "outputs": [
    {
     "name": "stdout",
     "output_type": "stream",
     "text": [
      "events_train.shape(100000, 4)\n",
      "transformed_events.shape(100000, 4)\n",
      "labels.shape(100000, 1)\n"
     ]
    }
   ],
   "source": [
    "events_train = np.row_stack((events_train, events_train))\n",
    "print('events_train.shape: '+str(events_train.shape))\n",
    "\n",
    "transformed_events = np.row_stack((events_similar_train, events_asimilar_train))\n",
    "print('transformed_events.shape: '+str(transformed_events.shape))\n",
    "\n",
    "true_label = np.zeros((train_samples,1))\n",
    "false_label = np.ones((train_samples,1))\n",
    "labels = np.row_stack((true_label, false_label))\n",
    "print('labels.shape: '+str(labels.shape))\n",
    "\n",
    "event_pairs_and_similar_label = np.column_stack((events_train, transformed_events, labels))\n",
    "event_pairs_and_similar_label = rng.permutation(event_pairs_and_similar_label, axis=0)"
   ]
  },
  {
   "cell_type": "code",
   "execution_count": 110,
   "id": "2af551ab-8bdc-467a-882d-53cadc49b0ef",
   "metadata": {},
   "outputs": [],
   "source": [
    "interval1 = calculateInterval(event_pairs_and_similar_label[:,:4])\n",
    "interval2 = calculateInterval(event_pairs_and_similar_label[:,4:8])"
   ]
  },
  {
   "cell_type": "code",
   "execution_count": 111,
   "id": "547dc054-abf8-48af-b988-afd036a44bb6",
   "metadata": {},
   "outputs": [
    {
     "name": "stdout",
     "output_type": "stream",
     "text": [
      "[[-0.69297548]\n",
      " [-0.21149829]\n",
      " [ 0.29016742]]\n",
      "[[-0.69297548]\n",
      " [-0.21149829]\n",
      " [ 0.29016742]]\n"
     ]
    }
   ],
   "source": [
    "print(interval1[:3])\n",
    "print(interval2[:3])"
   ]
  },
  {
   "cell_type": "markdown",
   "id": "f8c390de-2cd7-4e06-987b-a3b436405670",
   "metadata": {},
   "source": [
    "# Model Training"
   ]
  },
  {
   "cell_type": "code",
   "execution_count": 211,
   "id": "a6b46950-381e-45d9-941a-f1bdcaa77691",
   "metadata": {},
   "outputs": [],
   "source": [
    "#input_size=50, encoder_layer=[70, 70], latent_size=3, output_size=1, beta_rec=500., beta_kl=1.\n",
    "beta_kl = 1e0\n",
    "beta_rec = 300\n",
    "\n",
    "model = ScNN(input_size=8, encoder_layer=[100,100], latent_size=1, output_size=1, beta_rec=beta_rec, beta_kl=beta_kl)"
   ]
  },
  {
   "cell_type": "code",
   "execution_count": 212,
   "id": "75dd740d-c95d-459e-bcd7-0ef6e428318d",
   "metadata": {
    "scrolled": true
   },
   "outputs": [
    {
     "name": "stdout",
     "output_type": "stream",
     "text": [
      "Epoch 1/100\n"
     ]
    },
    {
     "name": "stderr",
     "output_type": "stream",
     "text": [
      "/home/adarshvc/anaconda3/lib/python3.12/site-packages/keras/src/layers/layer.py:372: UserWarning: `build()` was called on layer 'sc_nn_15', however the layer does not have a `build()` method implemented and it looks like it has unbuilt state. This will cause the layer to be marked as built, despite not being actually built, which may cause failures down the line. Make sure to implement a proper `build()` method.\n",
      "  warnings.warn(\n"
     ]
    },
    {
     "name": "stdout",
     "output_type": "stream",
     "text": [
      "\u001b[1m200/200\u001b[0m \u001b[32m━━━━━━━━━━━━━━━━━━━━\u001b[0m\u001b[37m\u001b[0m \u001b[1m1s\u001b[0m 1ms/step - kl_loss: 30.4506 - reconstruction_loss: 209.8537 - total_loss: 240.3042\n",
      "Epoch 2/100\n",
      "\u001b[1m200/200\u001b[0m \u001b[32m━━━━━━━━━━━━━━━━━━━━\u001b[0m\u001b[37m\u001b[0m \u001b[1m0s\u001b[0m 1ms/step - kl_loss: -1.9298 - reconstruction_loss: 207.9426 - total_loss: 206.0128\n",
      "Epoch 3/100\n",
      "\u001b[1m200/200\u001b[0m \u001b[32m━━━━━━━━━━━━━━━━━━━━\u001b[0m\u001b[37m\u001b[0m \u001b[1m0s\u001b[0m 1ms/step - kl_loss: -1.9494 - reconstruction_loss: 207.9460 - total_loss: 205.9966\n",
      "Epoch 4/100\n",
      "\u001b[1m200/200\u001b[0m \u001b[32m━━━━━━━━━━━━━━━━━━━━\u001b[0m\u001b[37m\u001b[0m \u001b[1m0s\u001b[0m 1ms/step - kl_loss: -1.9704 - reconstruction_loss: 207.9443 - total_loss: 205.9738\n",
      "Epoch 5/100\n",
      "\u001b[1m200/200\u001b[0m \u001b[32m━━━━━━━━━━━━━━━━━━━━\u001b[0m\u001b[37m\u001b[0m \u001b[1m0s\u001b[0m 1ms/step - kl_loss: -1.9841 - reconstruction_loss: 207.9462 - total_loss: 205.9620\n",
      "Epoch 6/100\n",
      "\u001b[1m200/200\u001b[0m \u001b[32m━━━━━━━━━━━━━━━━━━━━\u001b[0m\u001b[37m\u001b[0m \u001b[1m0s\u001b[0m 1ms/step - kl_loss: -1.9891 - reconstruction_loss: 207.9455 - total_loss: 205.9564\n",
      "Epoch 7/100\n",
      "\u001b[1m200/200\u001b[0m \u001b[32m━━━━━━━━━━━━━━━━━━━━\u001b[0m\u001b[37m\u001b[0m \u001b[1m0s\u001b[0m 1ms/step - kl_loss: -1.9905 - reconstruction_loss: 207.9464 - total_loss: 205.9559\n",
      "Epoch 8/100\n",
      "\u001b[1m200/200\u001b[0m \u001b[32m━━━━━━━━━━━━━━━━━━━━\u001b[0m\u001b[37m\u001b[0m \u001b[1m0s\u001b[0m 1ms/step - kl_loss: -1.9903 - reconstruction_loss: 207.9474 - total_loss: 205.9572\n",
      "Epoch 9/100\n",
      "\u001b[1m200/200\u001b[0m \u001b[32m━━━━━━━━━━━━━━━━━━━━\u001b[0m\u001b[37m\u001b[0m \u001b[1m0s\u001b[0m 1ms/step - kl_loss: -1.9886 - reconstruction_loss: 207.9479 - total_loss: 205.9593\n",
      "Epoch 10/100\n",
      "\u001b[1m200/200\u001b[0m \u001b[32m━━━━━━━━━━━━━━━━━━━━\u001b[0m\u001b[37m\u001b[0m \u001b[1m0s\u001b[0m 1ms/step - kl_loss: -1.9913 - reconstruction_loss: 207.9489 - total_loss: 205.9576\n",
      "Epoch 11/100\n",
      "\u001b[1m200/200\u001b[0m \u001b[32m━━━━━━━━━━━━━━━━━━━━\u001b[0m\u001b[37m\u001b[0m \u001b[1m0s\u001b[0m 1ms/step - kl_loss: -1.9906 - reconstruction_loss: 207.9509 - total_loss: 205.9603\n",
      "Epoch 12/100\n",
      "\u001b[1m200/200\u001b[0m \u001b[32m━━━━━━━━━━━━━━━━━━━━\u001b[0m\u001b[37m\u001b[0m \u001b[1m0s\u001b[0m 1ms/step - kl_loss: -1.9917 - reconstruction_loss: 207.9433 - total_loss: 205.9516\n",
      "Epoch 13/100\n",
      "\u001b[1m200/200\u001b[0m \u001b[32m━━━━━━━━━━━━━━━━━━━━\u001b[0m\u001b[37m\u001b[0m \u001b[1m0s\u001b[0m 1ms/step - kl_loss: -1.9916 - reconstruction_loss: 207.9451 - total_loss: 205.9536\n",
      "Epoch 14/100\n",
      "\u001b[1m200/200\u001b[0m \u001b[32m━━━━━━━━━━━━━━━━━━━━\u001b[0m\u001b[37m\u001b[0m \u001b[1m0s\u001b[0m 1ms/step - kl_loss: -1.9906 - reconstruction_loss: 207.9466 - total_loss: 205.9560\n",
      "Epoch 15/100\n",
      "\u001b[1m200/200\u001b[0m \u001b[32m━━━━━━━━━━━━━━━━━━━━\u001b[0m\u001b[37m\u001b[0m \u001b[1m0s\u001b[0m 1ms/step - kl_loss: -1.9920 - reconstruction_loss: 207.9395 - total_loss: 205.9475\n",
      "Epoch 16/100\n",
      "\u001b[1m200/200\u001b[0m \u001b[32m━━━━━━━━━━━━━━━━━━━━\u001b[0m\u001b[37m\u001b[0m \u001b[1m0s\u001b[0m 1ms/step - kl_loss: -1.9931 - reconstruction_loss: 207.9444 - total_loss: 205.9512\n",
      "Epoch 17/100\n",
      "\u001b[1m200/200\u001b[0m \u001b[32m━━━━━━━━━━━━━━━━━━━━\u001b[0m\u001b[37m\u001b[0m \u001b[1m0s\u001b[0m 1ms/step - kl_loss: -1.9925 - reconstruction_loss: 207.9454 - total_loss: 205.9529\n",
      "Epoch 18/100\n",
      "\u001b[1m200/200\u001b[0m \u001b[32m━━━━━━━━━━━━━━━━━━━━\u001b[0m\u001b[37m\u001b[0m \u001b[1m0s\u001b[0m 1ms/step - kl_loss: -1.9931 - reconstruction_loss: 207.9508 - total_loss: 205.9577\n",
      "Epoch 19/100\n",
      "\u001b[1m200/200\u001b[0m \u001b[32m━━━━━━━━━━━━━━━━━━━━\u001b[0m\u001b[37m\u001b[0m \u001b[1m0s\u001b[0m 1ms/step - kl_loss: -1.9924 - reconstruction_loss: 207.9433 - total_loss: 205.9510\n",
      "Epoch 20/100\n",
      "\u001b[1m200/200\u001b[0m \u001b[32m━━━━━━━━━━━━━━━━━━━━\u001b[0m\u001b[37m\u001b[0m \u001b[1m0s\u001b[0m 1ms/step - kl_loss: -1.9930 - reconstruction_loss: 207.9464 - total_loss: 205.9535\n",
      "Epoch 21/100\n",
      "\u001b[1m200/200\u001b[0m \u001b[32m━━━━━━━━━━━━━━━━━━━━\u001b[0m\u001b[37m\u001b[0m \u001b[1m0s\u001b[0m 1ms/step - kl_loss: -1.9952 - reconstruction_loss: 207.9450 - total_loss: 205.9498\n",
      "Epoch 22/100\n",
      "\u001b[1m200/200\u001b[0m \u001b[32m━━━━━━━━━━━━━━━━━━━━\u001b[0m\u001b[37m\u001b[0m \u001b[1m0s\u001b[0m 1ms/step - kl_loss: -1.9934 - reconstruction_loss: 207.9495 - total_loss: 205.9561\n",
      "Epoch 23/100\n",
      "\u001b[1m200/200\u001b[0m \u001b[32m━━━━━━━━━━━━━━━━━━━━\u001b[0m\u001b[37m\u001b[0m \u001b[1m0s\u001b[0m 1ms/step - kl_loss: -1.9947 - reconstruction_loss: 207.9518 - total_loss: 205.9572\n",
      "Epoch 24/100\n",
      "\u001b[1m200/200\u001b[0m \u001b[32m━━━━━━━━━━━━━━━━━━━━\u001b[0m\u001b[37m\u001b[0m \u001b[1m0s\u001b[0m 1ms/step - kl_loss: -1.9952 - reconstruction_loss: 207.9503 - total_loss: 205.9551\n",
      "Epoch 25/100\n",
      "\u001b[1m200/200\u001b[0m \u001b[32m━━━━━━━━━━━━━━━━━━━━\u001b[0m\u001b[37m\u001b[0m \u001b[1m0s\u001b[0m 1ms/step - kl_loss: -1.9942 - reconstruction_loss: 207.9478 - total_loss: 205.9536\n",
      "Epoch 26/100\n",
      "\u001b[1m200/200\u001b[0m \u001b[32m━━━━━━━━━━━━━━━━━━━━\u001b[0m\u001b[37m\u001b[0m \u001b[1m0s\u001b[0m 1ms/step - kl_loss: -1.9954 - reconstruction_loss: 207.9461 - total_loss: 205.9507\n",
      "Epoch 27/100\n",
      "\u001b[1m200/200\u001b[0m \u001b[32m━━━━━━━━━━━━━━━━━━━━\u001b[0m\u001b[37m\u001b[0m \u001b[1m0s\u001b[0m 1ms/step - kl_loss: -1.9954 - reconstruction_loss: 207.9461 - total_loss: 205.9507\n",
      "Epoch 28/100\n",
      "\u001b[1m200/200\u001b[0m \u001b[32m━━━━━━━━━━━━━━━━━━━━\u001b[0m\u001b[37m\u001b[0m \u001b[1m0s\u001b[0m 1ms/step - kl_loss: -1.9955 - reconstruction_loss: 207.9459 - total_loss: 205.9504\n",
      "Epoch 29/100\n",
      "\u001b[1m200/200\u001b[0m \u001b[32m━━━━━━━━━━━━━━━━━━━━\u001b[0m\u001b[37m\u001b[0m \u001b[1m0s\u001b[0m 1ms/step - kl_loss: -1.9956 - reconstruction_loss: 207.9454 - total_loss: 205.9498\n",
      "Epoch 30/100\n",
      "\u001b[1m200/200\u001b[0m \u001b[32m━━━━━━━━━━━━━━━━━━━━\u001b[0m\u001b[37m\u001b[0m \u001b[1m0s\u001b[0m 1ms/step - kl_loss: -1.9952 - reconstruction_loss: 207.9435 - total_loss: 205.9483\n",
      "Epoch 31/100\n",
      "\u001b[1m200/200\u001b[0m \u001b[32m━━━━━━━━━━━━━━━━━━━━\u001b[0m\u001b[37m\u001b[0m \u001b[1m0s\u001b[0m 1ms/step - kl_loss: -1.9960 - reconstruction_loss: 207.9454 - total_loss: 205.9494\n",
      "Epoch 32/100\n",
      "\u001b[1m200/200\u001b[0m \u001b[32m━━━━━━━━━━━━━━━━━━━━\u001b[0m\u001b[37m\u001b[0m \u001b[1m0s\u001b[0m 1ms/step - kl_loss: -1.9958 - reconstruction_loss: 207.9453 - total_loss: 205.9495\n",
      "Epoch 33/100\n",
      "\u001b[1m200/200\u001b[0m \u001b[32m━━━━━━━━━━━━━━━━━━━━\u001b[0m\u001b[37m\u001b[0m \u001b[1m0s\u001b[0m 1ms/step - kl_loss: -1.9965 - reconstruction_loss: 207.9452 - total_loss: 205.9487\n",
      "Epoch 34/100\n",
      "\u001b[1m200/200\u001b[0m \u001b[32m━━━━━━━━━━━━━━━━━━━━\u001b[0m\u001b[37m\u001b[0m \u001b[1m0s\u001b[0m 1ms/step - kl_loss: -1.9961 - reconstruction_loss: 207.9481 - total_loss: 205.9520\n",
      "Epoch 35/100\n",
      "\u001b[1m200/200\u001b[0m \u001b[32m━━━━━━━━━━━━━━━━━━━━\u001b[0m\u001b[37m\u001b[0m \u001b[1m0s\u001b[0m 1ms/step - kl_loss: -1.9972 - reconstruction_loss: 207.9451 - total_loss: 205.9479\n",
      "Epoch 36/100\n",
      "\u001b[1m200/200\u001b[0m \u001b[32m━━━━━━━━━━━━━━━━━━━━\u001b[0m\u001b[37m\u001b[0m \u001b[1m0s\u001b[0m 1ms/step - kl_loss: -1.9982 - reconstruction_loss: 207.9455 - total_loss: 205.9473\n",
      "Epoch 37/100\n",
      "\u001b[1m200/200\u001b[0m \u001b[32m━━━━━━━━━━━━━━━━━━━━\u001b[0m\u001b[37m\u001b[0m \u001b[1m0s\u001b[0m 1ms/step - kl_loss: -1.9976 - reconstruction_loss: 207.9448 - total_loss: 205.9472\n",
      "Epoch 38/100\n",
      "\u001b[1m200/200\u001b[0m \u001b[32m━━━━━━━━━━━━━━━━━━━━\u001b[0m\u001b[37m\u001b[0m \u001b[1m0s\u001b[0m 1ms/step - kl_loss: -1.9976 - reconstruction_loss: 207.9439 - total_loss: 205.9463\n",
      "Epoch 39/100\n",
      "\u001b[1m200/200\u001b[0m \u001b[32m━━━━━━━━━━━━━━━━━━━━\u001b[0m\u001b[37m\u001b[0m \u001b[1m0s\u001b[0m 1ms/step - kl_loss: -1.9974 - reconstruction_loss: 207.9464 - total_loss: 205.9491\n",
      "Epoch 40/100\n",
      "\u001b[1m200/200\u001b[0m \u001b[32m━━━━━━━━━━━━━━━━━━━━\u001b[0m\u001b[37m\u001b[0m \u001b[1m0s\u001b[0m 1ms/step - kl_loss: -1.9981 - reconstruction_loss: 207.9438 - total_loss: 205.9457\n",
      "Epoch 41/100\n",
      "\u001b[1m200/200\u001b[0m \u001b[32m━━━━━━━━━━━━━━━━━━━━\u001b[0m\u001b[37m\u001b[0m \u001b[1m0s\u001b[0m 1ms/step - kl_loss: -1.9978 - reconstruction_loss: 207.9478 - total_loss: 205.9500\n",
      "Epoch 42/100\n",
      "\u001b[1m200/200\u001b[0m \u001b[32m━━━━━━━━━━━━━━━━━━━━\u001b[0m\u001b[37m\u001b[0m \u001b[1m0s\u001b[0m 1ms/step - kl_loss: -1.9978 - reconstruction_loss: 207.9460 - total_loss: 205.9482\n",
      "Epoch 43/100\n",
      "\u001b[1m200/200\u001b[0m \u001b[32m━━━━━━━━━━━━━━━━━━━━\u001b[0m\u001b[37m\u001b[0m \u001b[1m0s\u001b[0m 1ms/step - kl_loss: -1.9977 - reconstruction_loss: 207.9472 - total_loss: 205.9495\n",
      "Epoch 44/100\n",
      "\u001b[1m200/200\u001b[0m \u001b[32m━━━━━━━━━━━━━━━━━━━━\u001b[0m\u001b[37m\u001b[0m \u001b[1m0s\u001b[0m 1ms/step - kl_loss: -1.9983 - reconstruction_loss: 207.9457 - total_loss: 205.9474\n",
      "Epoch 45/100\n",
      "\u001b[1m200/200\u001b[0m \u001b[32m━━━━━━━━━━━━━━━━━━━━\u001b[0m\u001b[37m\u001b[0m \u001b[1m0s\u001b[0m 1ms/step - kl_loss: -1.9983 - reconstruction_loss: 207.9491 - total_loss: 205.9509\n",
      "Epoch 46/100\n",
      "\u001b[1m200/200\u001b[0m \u001b[32m━━━━━━━━━━━━━━━━━━━━\u001b[0m\u001b[37m\u001b[0m \u001b[1m0s\u001b[0m 1ms/step - kl_loss: -1.9981 - reconstruction_loss: 207.9478 - total_loss: 205.9496\n",
      "Epoch 47/100\n",
      "\u001b[1m200/200\u001b[0m \u001b[32m━━━━━━━━━━━━━━━━━━━━\u001b[0m\u001b[37m\u001b[0m \u001b[1m0s\u001b[0m 1ms/step - kl_loss: -1.9988 - reconstruction_loss: 207.9468 - total_loss: 205.9479\n",
      "Epoch 48/100\n",
      "\u001b[1m200/200\u001b[0m \u001b[32m━━━━━━━━━━━━━━━━━━━━\u001b[0m\u001b[37m\u001b[0m \u001b[1m0s\u001b[0m 1ms/step - kl_loss: -1.9988 - reconstruction_loss: 207.9449 - total_loss: 205.9462\n",
      "Epoch 49/100\n",
      "\u001b[1m200/200\u001b[0m \u001b[32m━━━━━━━━━━━━━━━━━━━━\u001b[0m\u001b[37m\u001b[0m \u001b[1m0s\u001b[0m 1ms/step - kl_loss: -1.9988 - reconstruction_loss: 207.9470 - total_loss: 205.9480\n",
      "Epoch 50/100\n",
      "\u001b[1m200/200\u001b[0m \u001b[32m━━━━━━━━━━━━━━━━━━━━\u001b[0m\u001b[37m\u001b[0m \u001b[1m0s\u001b[0m 1ms/step - kl_loss: -1.9995 - reconstruction_loss: 207.9461 - total_loss: 205.9466\n",
      "Epoch 51/100\n",
      "\u001b[1m200/200\u001b[0m \u001b[32m━━━━━━━━━━━━━━━━━━━━\u001b[0m\u001b[37m\u001b[0m \u001b[1m0s\u001b[0m 1ms/step - kl_loss: -1.9996 - reconstruction_loss: 207.9466 - total_loss: 205.9469\n",
      "Epoch 52/100\n",
      "\u001b[1m200/200\u001b[0m \u001b[32m━━━━━━━━━━━━━━━━━━━━\u001b[0m\u001b[37m\u001b[0m \u001b[1m0s\u001b[0m 1ms/step - kl_loss: -1.9996 - reconstruction_loss: 207.9451 - total_loss: 205.9453\n",
      "Epoch 53/100\n",
      "\u001b[1m200/200\u001b[0m \u001b[32m━━━━━━━━━━━━━━━━━━━━\u001b[0m\u001b[37m\u001b[0m \u001b[1m0s\u001b[0m 1ms/step - kl_loss: -1.9991 - reconstruction_loss: 207.9471 - total_loss: 205.9479\n",
      "Epoch 54/100\n",
      "\u001b[1m200/200\u001b[0m \u001b[32m━━━━━━━━━━━━━━━━━━━━\u001b[0m\u001b[37m\u001b[0m \u001b[1m0s\u001b[0m 1ms/step - kl_loss: -1.9991 - reconstruction_loss: 207.9437 - total_loss: 205.9446\n",
      "Epoch 55/100\n",
      "\u001b[1m200/200\u001b[0m \u001b[32m━━━━━━━━━━━━━━━━━━━━\u001b[0m\u001b[37m\u001b[0m \u001b[1m0s\u001b[0m 1ms/step - kl_loss: -1.9980 - reconstruction_loss: 207.9557 - total_loss: 205.9578\n",
      "Epoch 56/100\n",
      "\u001b[1m200/200\u001b[0m \u001b[32m━━━━━━━━━━━━━━━━━━━━\u001b[0m\u001b[37m\u001b[0m \u001b[1m0s\u001b[0m 1ms/step - kl_loss: -1.9992 - reconstruction_loss: 207.9519 - total_loss: 205.9527\n",
      "Epoch 57/100\n",
      "\u001b[1m200/200\u001b[0m \u001b[32m━━━━━━━━━━━━━━━━━━━━\u001b[0m\u001b[37m\u001b[0m \u001b[1m0s\u001b[0m 1ms/step - kl_loss: -1.9996 - reconstruction_loss: 207.9461 - total_loss: 205.9464\n",
      "Epoch 58/100\n",
      "\u001b[1m200/200\u001b[0m \u001b[32m━━━━━━━━━━━━━━━━━━━━\u001b[0m\u001b[37m\u001b[0m \u001b[1m0s\u001b[0m 1ms/step - kl_loss: -1.9994 - reconstruction_loss: 207.9461 - total_loss: 205.9466\n",
      "Epoch 59/100\n",
      "\u001b[1m200/200\u001b[0m \u001b[32m━━━━━━━━━━━━━━━━━━━━\u001b[0m\u001b[37m\u001b[0m \u001b[1m0s\u001b[0m 1ms/step - kl_loss: -1.9995 - reconstruction_loss: 207.9454 - total_loss: 205.9458\n",
      "Epoch 60/100\n",
      "\u001b[1m200/200\u001b[0m \u001b[32m━━━━━━━━━━━━━━━━━━━━\u001b[0m\u001b[37m\u001b[0m \u001b[1m0s\u001b[0m 1ms/step - kl_loss: -1.9995 - reconstruction_loss: 207.9460 - total_loss: 205.9464\n",
      "Epoch 61/100\n",
      "\u001b[1m200/200\u001b[0m \u001b[32m━━━━━━━━━━━━━━━━━━━━\u001b[0m\u001b[37m\u001b[0m \u001b[1m0s\u001b[0m 1ms/step - kl_loss: -1.9996 - reconstruction_loss: 207.9462 - total_loss: 205.9465\n",
      "Epoch 62/100\n",
      "\u001b[1m200/200\u001b[0m \u001b[32m━━━━━━━━━━━━━━━━━━━━\u001b[0m\u001b[37m\u001b[0m \u001b[1m0s\u001b[0m 1ms/step - kl_loss: -1.9996 - reconstruction_loss: 207.9455 - total_loss: 205.9459\n",
      "Epoch 63/100\n",
      "\u001b[1m200/200\u001b[0m \u001b[32m━━━━━━━━━━━━━━━━━━━━\u001b[0m\u001b[37m\u001b[0m \u001b[1m0s\u001b[0m 1ms/step - kl_loss: -1.9993 - reconstruction_loss: 207.9422 - total_loss: 205.9429\n",
      "Epoch 64/100\n",
      "\u001b[1m200/200\u001b[0m \u001b[32m━━━━━━━━━━━━━━━━━━━━\u001b[0m\u001b[37m\u001b[0m \u001b[1m0s\u001b[0m 1ms/step - kl_loss: -1.9990 - reconstruction_loss: 207.9442 - total_loss: 205.9452\n",
      "Epoch 65/100\n",
      "\u001b[1m200/200\u001b[0m \u001b[32m━━━━━━━━━━━━━━━━━━━━\u001b[0m\u001b[37m\u001b[0m \u001b[1m0s\u001b[0m 1ms/step - kl_loss: -1.9987 - reconstruction_loss: 207.9480 - total_loss: 205.9493\n",
      "Epoch 66/100\n",
      "\u001b[1m200/200\u001b[0m \u001b[32m━━━━━━━━━━━━━━━━━━━━\u001b[0m\u001b[37m\u001b[0m \u001b[1m0s\u001b[0m 1ms/step - kl_loss: -1.9992 - reconstruction_loss: 207.9456 - total_loss: 205.9464\n",
      "Epoch 67/100\n",
      "\u001b[1m200/200\u001b[0m \u001b[32m━━━━━━━━━━━━━━━━━━━━\u001b[0m\u001b[37m\u001b[0m \u001b[1m0s\u001b[0m 1ms/step - kl_loss: -1.9983 - reconstruction_loss: 207.9414 - total_loss: 205.9431\n",
      "Epoch 68/100\n",
      "\u001b[1m200/200\u001b[0m \u001b[32m━━━━━━━━━━━━━━━━━━━━\u001b[0m\u001b[37m\u001b[0m \u001b[1m0s\u001b[0m 1ms/step - kl_loss: -1.9997 - reconstruction_loss: 207.9437 - total_loss: 205.9438\n",
      "Epoch 69/100\n",
      "\u001b[1m200/200\u001b[0m \u001b[32m━━━━━━━━━━━━━━━━━━━━\u001b[0m\u001b[37m\u001b[0m \u001b[1m0s\u001b[0m 1ms/step - kl_loss: -1.9995 - reconstruction_loss: 207.9449 - total_loss: 205.9453\n",
      "Epoch 70/100\n",
      "\u001b[1m200/200\u001b[0m \u001b[32m━━━━━━━━━━━━━━━━━━━━\u001b[0m\u001b[37m\u001b[0m \u001b[1m0s\u001b[0m 1ms/step - kl_loss: -1.9998 - reconstruction_loss: 207.9440 - total_loss: 205.9441\n",
      "Epoch 71/100\n",
      "\u001b[1m200/200\u001b[0m \u001b[32m━━━━━━━━━━━━━━━━━━━━\u001b[0m\u001b[37m\u001b[0m \u001b[1m0s\u001b[0m 1ms/step - kl_loss: -1.9997 - reconstruction_loss: 207.9451 - total_loss: 205.9453\n",
      "Epoch 72/100\n",
      "\u001b[1m200/200\u001b[0m \u001b[32m━━━━━━━━━━━━━━━━━━━━\u001b[0m\u001b[37m\u001b[0m \u001b[1m0s\u001b[0m 1ms/step - kl_loss: -1.9996 - reconstruction_loss: 207.9504 - total_loss: 205.9507\n",
      "Epoch 73/100\n",
      "\u001b[1m200/200\u001b[0m \u001b[32m━━━━━━━━━━━━━━━━━━━━\u001b[0m\u001b[37m\u001b[0m \u001b[1m0s\u001b[0m 1ms/step - kl_loss: -1.9996 - reconstruction_loss: 207.9441 - total_loss: 205.9444\n",
      "Epoch 74/100\n",
      "\u001b[1m200/200\u001b[0m \u001b[32m━━━━━━━━━━━━━━━━━━━━\u001b[0m\u001b[37m\u001b[0m \u001b[1m0s\u001b[0m 1ms/step - kl_loss: -1.9996 - reconstruction_loss: 207.9466 - total_loss: 205.9469\n",
      "Epoch 75/100\n",
      "\u001b[1m200/200\u001b[0m \u001b[32m━━━━━━━━━━━━━━━━━━━━\u001b[0m\u001b[37m\u001b[0m \u001b[1m0s\u001b[0m 1ms/step - kl_loss: -1.9994 - reconstruction_loss: 207.9434 - total_loss: 205.9439\n",
      "Epoch 76/100\n",
      "\u001b[1m200/200\u001b[0m \u001b[32m━━━━━━━━━━━━━━━━━━━━\u001b[0m\u001b[37m\u001b[0m \u001b[1m0s\u001b[0m 1ms/step - kl_loss: -1.9994 - reconstruction_loss: 207.9484 - total_loss: 205.9489\n",
      "Epoch 77/100\n",
      "\u001b[1m200/200\u001b[0m \u001b[32m━━━━━━━━━━━━━━━━━━━━\u001b[0m\u001b[37m\u001b[0m \u001b[1m0s\u001b[0m 1ms/step - kl_loss: -1.9994 - reconstruction_loss: 207.9458 - total_loss: 205.9462\n",
      "Epoch 78/100\n",
      "\u001b[1m200/200\u001b[0m \u001b[32m━━━━━━━━━━━━━━━━━━━━\u001b[0m\u001b[37m\u001b[0m \u001b[1m0s\u001b[0m 1ms/step - kl_loss: -1.9990 - reconstruction_loss: 207.9462 - total_loss: 205.9471\n",
      "Epoch 79/100\n",
      "\u001b[1m200/200\u001b[0m \u001b[32m━━━━━━━━━━━━━━━━━━━━\u001b[0m\u001b[37m\u001b[0m \u001b[1m0s\u001b[0m 1ms/step - kl_loss: -1.9996 - reconstruction_loss: 207.9461 - total_loss: 205.9464\n",
      "Epoch 80/100\n",
      "\u001b[1m200/200\u001b[0m \u001b[32m━━━━━━━━━━━━━━━━━━━━\u001b[0m\u001b[37m\u001b[0m \u001b[1m0s\u001b[0m 1ms/step - kl_loss: -1.9997 - reconstruction_loss: 207.9482 - total_loss: 205.9485\n",
      "Epoch 81/100\n",
      "\u001b[1m200/200\u001b[0m \u001b[32m━━━━━━━━━━━━━━━━━━━━\u001b[0m\u001b[37m\u001b[0m \u001b[1m0s\u001b[0m 1ms/step - kl_loss: -1.9996 - reconstruction_loss: 207.9457 - total_loss: 205.9460\n",
      "Epoch 82/100\n",
      "\u001b[1m200/200\u001b[0m \u001b[32m━━━━━━━━━━━━━━━━━━━━\u001b[0m\u001b[37m\u001b[0m \u001b[1m0s\u001b[0m 1ms/step - kl_loss: -1.9994 - reconstruction_loss: 207.9460 - total_loss: 205.9465\n",
      "Epoch 83/100\n",
      "\u001b[1m200/200\u001b[0m \u001b[32m━━━━━━━━━━━━━━━━━━━━\u001b[0m\u001b[37m\u001b[0m \u001b[1m0s\u001b[0m 1ms/step - kl_loss: -1.9993 - reconstruction_loss: 207.9441 - total_loss: 205.9447\n",
      "Epoch 84/100\n",
      "\u001b[1m200/200\u001b[0m \u001b[32m━━━━━━━━━━━━━━━━━━━━\u001b[0m\u001b[37m\u001b[0m \u001b[1m0s\u001b[0m 1ms/step - kl_loss: -1.9997 - reconstruction_loss: 207.9451 - total_loss: 205.9454\n",
      "Epoch 85/100\n",
      "\u001b[1m200/200\u001b[0m \u001b[32m━━━━━━━━━━━━━━━━━━━━\u001b[0m\u001b[37m\u001b[0m \u001b[1m0s\u001b[0m 1ms/step - kl_loss: -1.9997 - reconstruction_loss: 207.9449 - total_loss: 205.9451\n",
      "Epoch 86/100\n",
      "\u001b[1m200/200\u001b[0m \u001b[32m━━━━━━━━━━━━━━━━━━━━\u001b[0m\u001b[37m\u001b[0m \u001b[1m0s\u001b[0m 1ms/step - kl_loss: -1.9998 - reconstruction_loss: 207.9446 - total_loss: 205.9448\n",
      "Epoch 87/100\n",
      "\u001b[1m200/200\u001b[0m \u001b[32m━━━━━━━━━━━━━━━━━━━━\u001b[0m\u001b[37m\u001b[0m \u001b[1m0s\u001b[0m 1ms/step - kl_loss: -1.9995 - reconstruction_loss: 207.9473 - total_loss: 205.9477\n",
      "Epoch 88/100\n",
      "\u001b[1m200/200\u001b[0m \u001b[32m━━━━━━━━━━━━━━━━━━━━\u001b[0m\u001b[37m\u001b[0m \u001b[1m0s\u001b[0m 1ms/step - kl_loss: -1.9998 - reconstruction_loss: 207.9511 - total_loss: 205.9512\n",
      "Epoch 89/100\n",
      "\u001b[1m200/200\u001b[0m \u001b[32m━━━━━━━━━━━━━━━━━━━━\u001b[0m\u001b[37m\u001b[0m \u001b[1m0s\u001b[0m 1ms/step - kl_loss: -1.9997 - reconstruction_loss: 207.9471 - total_loss: 205.9473\n",
      "Epoch 90/100\n",
      "\u001b[1m200/200\u001b[0m \u001b[32m━━━━━━━━━━━━━━━━━━━━\u001b[0m\u001b[37m\u001b[0m \u001b[1m0s\u001b[0m 1ms/step - kl_loss: -1.9995 - reconstruction_loss: 207.9474 - total_loss: 205.9479\n",
      "Epoch 91/100\n",
      "\u001b[1m200/200\u001b[0m \u001b[32m━━━━━━━━━━━━━━━━━━━━\u001b[0m\u001b[37m\u001b[0m \u001b[1m0s\u001b[0m 1ms/step - kl_loss: -1.9998 - reconstruction_loss: 207.9462 - total_loss: 205.9464\n",
      "Epoch 92/100\n",
      "\u001b[1m200/200\u001b[0m \u001b[32m━━━━━━━━━━━━━━━━━━━━\u001b[0m\u001b[37m\u001b[0m \u001b[1m0s\u001b[0m 1ms/step - kl_loss: -1.9998 - reconstruction_loss: 207.9465 - total_loss: 205.9466\n",
      "Epoch 93/100\n",
      "\u001b[1m200/200\u001b[0m \u001b[32m━━━━━━━━━━━━━━━━━━━━\u001b[0m\u001b[37m\u001b[0m \u001b[1m0s\u001b[0m 1ms/step - kl_loss: -1.9997 - reconstruction_loss: 207.9462 - total_loss: 205.9463\n",
      "Epoch 94/100\n",
      "\u001b[1m200/200\u001b[0m \u001b[32m━━━━━━━━━━━━━━━━━━━━\u001b[0m\u001b[37m\u001b[0m \u001b[1m0s\u001b[0m 1ms/step - kl_loss: -1.9996 - reconstruction_loss: 207.9469 - total_loss: 205.9471\n",
      "Epoch 95/100\n",
      "\u001b[1m200/200\u001b[0m \u001b[32m━━━━━━━━━━━━━━━━━━━━\u001b[0m\u001b[37m\u001b[0m \u001b[1m0s\u001b[0m 1ms/step - kl_loss: -1.9998 - reconstruction_loss: 207.9476 - total_loss: 205.9477\n",
      "Epoch 96/100\n",
      "\u001b[1m200/200\u001b[0m \u001b[32m━━━━━━━━━━━━━━━━━━━━\u001b[0m\u001b[37m\u001b[0m \u001b[1m0s\u001b[0m 1ms/step - kl_loss: -1.9995 - reconstruction_loss: 207.9492 - total_loss: 205.9496\n",
      "Epoch 97/100\n",
      "\u001b[1m200/200\u001b[0m \u001b[32m━━━━━━━━━━━━━━━━━━━━\u001b[0m\u001b[37m\u001b[0m \u001b[1m0s\u001b[0m 1ms/step - kl_loss: -1.9997 - reconstruction_loss: 207.9461 - total_loss: 205.9462\n",
      "Epoch 98/100\n",
      "\u001b[1m200/200\u001b[0m \u001b[32m━━━━━━━━━━━━━━━━━━━━\u001b[0m\u001b[37m\u001b[0m \u001b[1m0s\u001b[0m 1ms/step - kl_loss: -1.9995 - reconstruction_loss: 207.9471 - total_loss: 205.9475\n",
      "Epoch 99/100\n",
      "\u001b[1m200/200\u001b[0m \u001b[32m━━━━━━━━━━━━━━━━━━━━\u001b[0m\u001b[37m\u001b[0m \u001b[1m0s\u001b[0m 1ms/step - kl_loss: -1.9996 - reconstruction_loss: 207.9456 - total_loss: 205.9459\n",
      "Epoch 100/100\n",
      "\u001b[1m200/200\u001b[0m \u001b[32m━━━━━━━━━━━━━━━━━━━━\u001b[0m\u001b[37m\u001b[0m \u001b[1m0s\u001b[0m 1ms/step - kl_loss: -1.9994 - reconstruction_loss: 207.9460 - total_loss: 205.9464\n"
     ]
    },
    {
     "data": {
      "text/plain": [
       "<keras.src.callbacks.history.History at 0x7f6473b398b0>"
      ]
     },
     "execution_count": 212,
     "metadata": {},
     "output_type": "execute_result"
    }
   ],
   "source": [
    "epochs = 100\n",
    "batch_size = 500\n",
    "learning_rate = 1e-3\n",
    "\n",
    "model.compile(optimizer=keras.optimizers.Adam(learning_rate=learning_rate))\n",
    "model.fit({'input': event_pairs_and_similar_label[:, :-1], 'output': event_pairs_and_similar_label[:,-1].reshape(-1,1)}, batch_size=batch_size, epochs=epochs)"
   ]
  },
  {
   "cell_type": "code",
   "execution_count": 213,
   "id": "412a7672-647b-4f92-9fe0-be8bf137dc56",
   "metadata": {},
   "outputs": [
    {
     "data": {
      "text/plain": [
       "[<matplotlib.lines.Line2D at 0x7f6473839df0>]"
      ]
     },
     "execution_count": 213,
     "metadata": {},
     "output_type": "execute_result"
    },
    {
     "data": {
      "image/png": "[encoded data removed]",
      "text/plain": [
       "<Figure size 640x480 with 1 Axes>"
      ]
     },
     "metadata": {},
     "output_type": "display_data"
    }
   ],
   "source": [
    "mean, log_var, z = model.encoder(events_test)\n",
    "interval_test = calculateInterval(events_test)\n",
    "\n",
    "plt.plot(interval_test, mean.numpy())"
   ]
  },
  {
   "cell_type": "code",
   "execution_count": null,
   "id": "1d7e55c2-9cd3-4bc0-bb4d-997d028c76ad",
   "metadata": {},
   "outputs": [],
   "source": []
  }
 ],
 "metadata": {
  "kernelspec": {
   "display_name": "Python 3 (ipykernel)",
   "language": "python",
   "name": "python3"
  },
  "language_info": {
   "codemirror_mode": {
    "name": "ipython",
    "version": 3
   },
   "file_extension": ".py",
   "mimetype": "text/x-python",
   "name": "python",
   "nbconvert_exporter": "python",
   "pygments_lexer": "ipython3",
   "version": "3.12.4"
  }
 },
 "nbformat": 4,
 "nbformat_minor": 5
}
